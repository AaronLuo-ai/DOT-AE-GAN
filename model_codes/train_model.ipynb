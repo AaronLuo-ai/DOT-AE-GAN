{
 "cells": [
  {
   "cell_type": "code",
   "id": "initial_id",
   "metadata": {
    "collapsed": true,
    "ExecuteTime": {
     "end_time": "2025-10-02T16:29:21.085981Z",
     "start_time": "2025-10-02T16:29:21.071550Z"
    }
   },
   "source": [
    "import pytorch_lightning as pl\n",
    "from torch import unique\n",
    "from torch.utils.data import DataLoader, Dataset\n",
    "import numpy as np\n",
    "import torch\n",
    "from scipy.ndimage import convolve\n",
    "import matplotlib.pyplot as plt\n",
    "import os\n",
    "import tqdm\n",
    "import glob\n",
    "from sklearn.model_selection import train_test_split\n",
    "import torch.optim as optim\n",
    "import wandb # Assuming this is imported at the top of your script\n",
    "from Models3 import * ## self defined\n",
    "from random_mask import get_random_mask"
   ],
   "outputs": [],
   "execution_count": 82
  },
  {
   "metadata": {
    "ExecuteTime": {
     "end_time": "2025-10-02T16:29:22.197919Z",
     "start_time": "2025-10-02T16:29:22.183898Z"
    }
   },
   "cell_type": "code",
   "source": [
    "depth = [0.5, 1.0, 1.5, 2.0, 2.5, 3, 3.5]\n",
    "\n",
    "def show_tensor_image2(img, depth=None):\n",
    "    img = img.detach().cpu().numpy()\n",
    "    img = np.squeeze(img)   # remove singleton dims\n",
    "\n",
    "    # img can now be [7,H,W] or [H,W]\n",
    "    if img.ndim == 2:\n",
    "        img = img[None, ...]   # promote to [1,H,W]\n",
    "\n",
    "    num_slices = img.shape[0]\n",
    "    slice_positions = np.arange(num_slices)\n",
    "\n",
    "    # Create subplots\n",
    "    fig, axes = plt.subplots(1, num_slices, figsize=(15, 5))\n",
    "\n",
    "    # Plot slices\n",
    "    for i, pos in enumerate(slice_positions):\n",
    "        slice_data = img[pos, :, :]\n",
    "\n",
    "        im = axes[i].imshow(slice_data, vmin=0, vmax=0.32, cmap='jet')\n",
    "\n",
    "        if depth is not None and len(depth) == num_slices:\n",
    "            axes[i].set_title(f\"Depth {depth[pos]} cm\")\n",
    "        else:\n",
    "            axes[i].set_title(f\"Slice {pos}\")\n",
    "\n",
    "        axes[i].axis('off')\n",
    "\n",
    "    cbar = fig.colorbar(im, ax=axes.ravel().tolist(), shrink=0.6)\n",
    "    cbar.set_label('Intensity')\n",
    "    plt.show()"
   ],
   "id": "eac0da34ec286414",
   "outputs": [],
   "execution_count": 83
  },
  {
   "metadata": {
    "ExecuteTime": {
     "end_time": "2025-10-02T16:29:29.446736Z",
     "start_time": "2025-10-02T16:29:23.265164Z"
    }
   },
   "cell_type": "code",
   "source": [
    "OBJECTS = np.load('Data4\\\\objects_random2.npy')\n",
    "MASKS = np.load('Data4\\\\masks_random2.npy')\n",
    "OPTICSES = np.load('Data4\\\\optics_random2.npy')\n",
    "OPTICSES = np.concatenate([OPTICSES[:, :2], OPTICSES[:, :2]], axis=1)\n",
    "\n",
    "N_Sample = OPTICSES.shape[0]\n",
    "\n",
    "def Generate_Reconstruction_Image_Fast(n = N_Sample):\n",
    "    sample_indxes = np.random.randint(0, n, size=16)\n",
    "    return OBJECTS[sample_indxes],  MASKS[sample_indxes], OPTICSES[sample_indxes]"
   ],
   "id": "6cd096b6eae2261b",
   "outputs": [],
   "execution_count": 84
  },
  {
   "metadata": {
    "ExecuteTime": {
     "end_time": "2025-10-02T16:29:30.954917Z",
     "start_time": "2025-10-02T16:29:30.688945Z"
    }
   },
   "cell_type": "code",
   "source": [
    "\n",
    "########################################\n",
    "#   Loading Irregular shapes Dataset   #\n",
    "########################################\n",
    "\n",
    "base_path = r\"C:\\Users\\aaron.l\\PycharmProjects\\DOT-AE-GAN\\SIMULATION_to_PERTURBATION\\output\"\n",
    "\n",
    "all_X_lesion, all_y_lesion, all_mask_lesion, all_optics_lesion, all_target_lesion = [], [], [], [], []\n",
    "\n",
    "# Find all lesion folders\n",
    "lesion_pattern = os.path.join(base_path, \"lesion_*\")\n",
    "lesion_folders = glob.glob(lesion_pattern)\n",
    "\n",
    "for folder_path in lesion_folders:\n",
    "    folder_name = os.path.basename(folder_path)\n",
    "    if folder_name.startswith(\"lesion_\"):\n",
    "        lesion_num = folder_name.split(\"_\")[1]\n",
    "        try:\n",
    "            X = np.load(os.path.join(folder_path, f\"All_measured_data_phan_lesion{lesion_num}.npy\"))\n",
    "            y = np.load(os.path.join(folder_path, f\"All_ground_truth_phan_lesion{lesion_num}.npy\"))\n",
    "            mask = np.load(os.path.join(folder_path, f\"All_fine_meshes_phan_lesion{lesion_num}.npy\"))\n",
    "            optics = np.load(os.path.join(folder_path, f\"All_background_optics_phan_lesion{lesion_num}.npy\"))\n",
    "            target = np.load(os.path.join(folder_path, f\"Target_depth_radius_phan_lesion{lesion_num}.npy\"))\n",
    "            all_X_lesion.append(X)\n",
    "            all_y_lesion.append(y)\n",
    "            all_mask_lesion.append(mask)\n",
    "            all_optics_lesion.append(optics)\n",
    "            all_target_lesion.append(target)\n",
    "        except Exception as e:\n",
    "            print(f\"❌ Error loading lesion {lesion_num} at {folder_path}: {e}\")\n",
    "\n",
    "X_irregular = np.concatenate(all_X_lesion, axis=0)\n",
    "y_irregular = np.concatenate(all_y_lesion, axis=0)\n",
    "Mask_irregular = np.concatenate(all_mask_lesion, axis=0)\n",
    "optics_irregular = np.concatenate(all_optics_lesion, axis=0)\n",
    "target_irregular = np.concatenate(all_target_lesion, axis=0)\n",
    "\n",
    "# N = X_irregular.shape[0]\n",
    "# shuffled_indices = np.random.permutation(N)\n",
    "#\n",
    "# # 3. Apply the exact same shuffled indices to ALL arrays\n",
    "# X_irregular = X_irregular[shuffled_indices]\n",
    "# y_irregular = y_irregular[shuffled_indices]\n",
    "# Mask_irregular = Mask_irregular[shuffled_indices]\n",
    "# optics_irregular = optics_irregular[shuffled_indices]\n",
    "# target_irregular = target_irregular[shuffled_indices]\n",
    "#\n",
    "print(\"size of X_irregular\", X_irregular.shape)\n"
   ],
   "id": "e1b05389c73393f1",
   "outputs": [
    {
     "name": "stdout",
     "output_type": "stream",
     "text": [
      "size of X_irregular (2625, 18, 14)\n"
     ]
    }
   ],
   "execution_count": 85
  },
  {
   "metadata": {
    "ExecuteTime": {
     "end_time": "2025-10-02T16:29:37.471033Z",
     "start_time": "2025-10-02T16:29:35.244388Z"
    }
   },
   "cell_type": "code",
   "source": [
    "\n",
    "######################################\n",
    "#   Loading Regular shapes Dataset   #\n",
    "######################################\n",
    "\n",
    "X10 = np.load(\"Data3/all_rad_mua8/All_measured_data_phan.npy\")\n",
    "y10 = np.load(\"Data3/all_rad_mua8/All_ground_truth_phan.npy\") #.transpose((0, 3,1,2))\n",
    "mask10 = np.load(\"Data3/all_rad_mua8/All_fine_meshes_phan.npy\")\n",
    "optics10 = np.load(\"Data3/all_rad_mua8/All_background_optics_phan.npy\")\n",
    "target10 = np.load(\"Data3/all_rad_mua8/Target_depth_radius_phan.npy\")\n",
    "\n",
    "\n",
    "X11 = np.load(\"Data3/rad.75/All_measured_data_phan.npy\")\n",
    "y11 = np.load(\"Data3/rad.75/All_ground_truth_phan.npy\") #.transpose((0, 3,1,2))\n",
    "mask11 = np.load(\"Data3/rad.75/All_fine_meshes_phan.npy\")\n",
    "optics11 = np.load(\"Data3/rad.75/All_background_optics_phan.npy\")\n",
    "target11 = np.load(\"Data3/rad.75/Target_depth_radius_phan.npy\")\n",
    "\n",
    "X12 = np.load(\"Data3/rad.9/All_measured_data_phan.npy\")\n",
    "y12 = np.load(\"Data3/rad.9/All_ground_truth_phan.npy\") #.transpose((0, 3,1,2))\n",
    "mask12 = np.load(\"Data3/rad.9/All_fine_meshes_phan.npy\")\n",
    "optics12 = np.load(\"Data3/rad.9/All_background_optics_phan.npy\")\n",
    "target12 = np.load(\"Data3/rad.9/Target_depth_radius_phan.npy\")\n",
    "\n",
    "X13 = np.load(\"Data3/rad1.05/All_measured_data_phan.npy\")\n",
    "y13 = np.load(\"Data3/rad1.05/All_ground_truth_phan.npy\") #.transpose((0, 3,1,2))\n",
    "mask13 = np.load(\"Data3/rad1.05/All_fine_meshes_phan.npy\")\n",
    "optics13 = np.load(\"Data3/rad1.05/All_background_optics_phan.npy\")\n",
    "target13 = np.load(\"Data3/rad1.05/Target_depth_radius_phan.npy\")\n",
    "\n",
    "X14 = np.load(\"Data3/rad1.2/All_measured_data_phan.npy\")\n",
    "y14 = np.load(\"Data3/rad1.2/All_ground_truth_phan.npy\") #.transpose((0, 3,1,2))\n",
    "mask14 = np.load(\"Data3/rad1.2/All_fine_meshes_phan.npy\")\n",
    "optics14 = np.load(\"Data3/rad1.2/All_background_optics_phan.npy\")\n",
    "target14 = np.load(\"Data3/rad1.2/Target_depth_radius_phan.npy\")\n",
    "\n",
    "\n",
    "X15 = np.load(\"Data3/depth3.5/All_measured_data_phan.npy\")\n",
    "y15 = np.load(\"Data3/depth3.5/All_ground_truth_phan.npy\") #.transpose((0, 3,1,2))\n",
    "mask15 = np.load(\"Data3/depth3.5/All_fine_meshes_phan.npy\")\n",
    "optics15 = np.load(\"Data3/depth3.5/All_background_optics_phan.npy\")\n",
    "target15 = np.load(\"Data3/depth3.5/Target_depth_radius_phan.npy\")\n",
    "\n",
    "\n",
    "X16 = np.load(\"Data3/depthmrad.75/All_measured_data_phan.npy\")\n",
    "y16 = np.load(\"Data3/depthmrad.75/All_ground_truth_phan.npy\") #.transpose((0, 3,1,2))\n",
    "mask16 = np.load(\"Data3/depthmrad.75/All_fine_meshes_phan.npy\")\n",
    "optics16 = np.load(\"Data3/depthmrad.75/All_background_optics_phan.npy\")\n",
    "target16 = np.load(\"Data3/depthmrad.75/Target_depth_radius_phan.npy\")\n",
    "\n",
    "X17 = np.load(\"Data3/depthmrad.9/All_measured_data_phan.npy\")\n",
    "y17 = np.load(\"Data3/depthmrad.9/All_ground_truth_phan.npy\") #.transpose((0, 3,1,2))\n",
    "mask17 = np.load(\"Data3/depthmrad.9/All_fine_meshes_phan.npy\")\n",
    "optics17 = np.load(\"Data3/depthmrad.9/All_background_optics_phan.npy\")\n",
    "target17 = np.load(\"Data3/depthmrad.9/Target_depth_radius_phan.npy\")\n",
    "\n",
    "X18 = np.load(\"Data3/depthmrad1.05/All_measured_data_phan.npy\")\n",
    "y18 = np.load(\"Data3/depthmrad1.05/All_ground_truth_phan.npy\") #.transpose((0, 3,1,2))\n",
    "mask18 = np.load(\"Data3/depthmrad1.05/All_fine_meshes_phan.npy\")\n",
    "optics18 = np.load(\"Data3/depthmrad1.05/All_background_optics_phan.npy\")\n",
    "target18 = np.load(\"Data3/depthmrad1.05/Target_depth_radius_phan.npy\")\n",
    "\n",
    "X19 = np.load(\"Data3/depthmrad1.2/All_measured_data_phan.npy\")\n",
    "y19 = np.load(\"Data3/depthmrad1.2/All_ground_truth_phan.npy\") #.transpose((0, 3,1,2))\n",
    "mask19 = np.load(\"Data3/depthmrad1.2/All_fine_meshes_phan.npy\")\n",
    "optics19 = np.load(\"Data3/depthmrad1.2/All_background_optics_phan.npy\")\n",
    "target19 = np.load(\"Data3/depthmrad1.2/Target_depth_radius_phan.npy\")\n",
    "\n",
    "\n",
    "X20 = np.load(\"Data3/depthmrad.5/All_measured_data_phan.npy\")\n",
    "y20 = np.load(\"Data3/depthmrad.5/All_ground_truth_phan.npy\") #.transpose((0, 3,1,2))\n",
    "mask20 = np.load(\"Data3/depthmrad.5/All_fine_meshes_phan.npy\")\n",
    "optics20 = np.load(\"Data3/depthmrad.5/All_background_optics_phan.npy\")\n",
    "target20 = np.load(\"Data3/depthmrad.5/Target_depth_radius_phan.npy\")\n",
    "\n",
    "\n",
    "X21 = np.load(\"Data3/rad.5/All_measured_data_phan.npy\")\n",
    "y21 = np.load(\"Data3/rad.5/All_ground_truth_phan.npy\") #.transpose((0, 3,1,2))\n",
    "mask21 = np.load(\"Data3/rad.5/All_fine_meshes_phan.npy\")\n",
    "optics21 = np.load(\"Data3/rad.5/All_background_optics_phan.npy\")\n",
    "target21 = np.load(\"Data3/rad.5/Target_depth_radius_phan.npy\")\n",
    "\n",
    "X_spherical = np.concatenate([X10, X11, X12, X13, X14, X15, X16, X17, X18, X19, X20, X21], axis=0)\n",
    "y_spherical = np.concatenate([y10, y11, y12, y13, y14, y15, y16, y17, y18, y19, y20, y21], axis=0)\n",
    "Mask_spherical = np.concatenate([mask10, mask11, mask12, mask13, mask14, mask15, mask16, mask17, mask18, mask19, mask20, mask21], axis=0)\n",
    "optics_spherical = np.concatenate([optics10, optics11, optics12, optics13, optics14, optics15, optics16, optics17, optics18, optics19, optics20, optics21], axis=0)\n",
    "target_spherical = np.concatenate([target10, target11, target12, target13, target14, target15, target16, target17, target18, target19, target20, target21], axis=0)\n",
    "\n",
    "# N = X_spherical.shape[0]\n",
    "# shuffled_indices = np.random.permutation(N)\n",
    "#\n",
    "# # 3. Apply the exact same shuffled indices to ALL arrays\n",
    "# X_spherical = X_spherical[shuffled_indices]\n",
    "# y_spherical = y_spherical[shuffled_indices]\n",
    "# Mask_spherical = Mask_spherical[shuffled_indices]\n",
    "# optics_spherical = optics_spherical[shuffled_indices]\n",
    "# target_spherical = target_spherical[shuffled_indices]\n",
    "#\n",
    "# print(\"Data shuffled and aligned.\")\n",
    "\n"
   ],
   "id": "ec43905b1ef4c8fb",
   "outputs": [],
   "execution_count": 86
  },
  {
   "metadata": {
    "ExecuteTime": {
     "end_time": "2025-10-02T16:29:44.860474Z",
     "start_time": "2025-10-02T16:29:44.828546Z"
    }
   },
   "cell_type": "code",
   "source": [
    "######################################\n",
    "#      Loading Phantom Dataset       #\n",
    "######################################\n",
    "X_phan = np.load(\"phan/All_measured_data_phan.npy\")\n",
    "y_phan = np.load(\"phan/All_ground_truth_phan.npy\") #.transpose((0, 3,1,2))\n",
    "Mask_phan = np.load(\"phan/All_fine_meshes_phan.npy\")\n",
    "optics_phan = np.load(\"phan/All_background_optics_phan.npy\")\n",
    "target_phan = np.load(\"phan/Target_depth_radius_phan.npy\")\n",
    "\n",
    "optics_phan = np.concatenate([optics_phan[:,:2], optics_phan[:,:2]], axis = 1)"
   ],
   "id": "747121b167b574db",
   "outputs": [],
   "execution_count": 87
  },
  {
   "metadata": {
    "ExecuteTime": {
     "end_time": "2025-10-02T16:29:46.786171Z",
     "start_time": "2025-10-02T16:29:45.958748Z"
    }
   },
   "cell_type": "code",
   "source": [
    "##########################################\n",
    "#          Combine both Dataset          #\n",
    "##########################################\n",
    "\n",
    "X = np.concatenate([X_spherical, X_irregular], axis=0)\n",
    "y = np.concatenate([y_spherical, y_irregular], axis=0)\n",
    "Mask = np.concatenate([Mask_spherical, Mask_irregular], axis=0)\n",
    "optics = np.concatenate([optics_spherical, optics_irregular], axis=0)\n",
    "target = np.concatenate([target_spherical, target_irregular], axis=0)\n"
   ],
   "id": "2b81cb000a0c21ff",
   "outputs": [],
   "execution_count": 88
  },
  {
   "metadata": {
    "ExecuteTime": {
     "end_time": "2025-10-02T16:29:47.893961Z",
     "start_time": "2025-10-02T16:29:46.786171Z"
    }
   },
   "cell_type": "code",
   "source": [
    "##############################################\n",
    "#      3:1 Split on Spherical lesions        #\n",
    "##############################################\n",
    "(X_spherical_train, X_spherical_test,\n",
    " y_spherical_train, y_spherical_test,\n",
    " Mask_spherical_train, Mask_spherical_test,\n",
    " optics_spherical_train, optics_spherical_test,\n",
    " target_spherical_train, target_spherical_test) = train_test_split(\n",
    "    X_spherical, y_spherical, Mask_spherical, optics_spherical, target_spherical,\n",
    "    test_size=0.25, random_state=42\n",
    ")"
   ],
   "id": "333021408d30e865",
   "outputs": [],
   "execution_count": 89
  },
  {
   "metadata": {
    "ExecuteTime": {
     "end_time": "2025-10-02T16:29:48.547692Z",
     "start_time": "2025-10-02T16:29:48.450292Z"
    }
   },
   "cell_type": "code",
   "source": [
    "##############################################\n",
    "#      3:1 Split on Irregular lesions        #\n",
    "##############################################\n",
    "(X_irregular_train, X_irregular_test,\n",
    " y_irregular_train, y_irregular_test,\n",
    " Mask_irregular_train, Mask_irregular_test,\n",
    " optics_irregular_train, optics_irregular_test,\n",
    " target_irregular_train, target_irregular_test) = train_test_split(\n",
    "    X_irregular, y_irregular, Mask_irregular, optics_irregular, target_irregular,\n",
    "    test_size=0.25, random_state=42\n",
    ")"
   ],
   "id": "31d4ff2b7427d13b",
   "outputs": [],
   "execution_count": 90
  },
  {
   "metadata": {
    "ExecuteTime": {
     "end_time": "2025-10-02T16:29:51.262974Z",
     "start_time": "2025-10-02T16:29:50.697183Z"
    }
   },
   "cell_type": "code",
   "source": [
    "\n",
    "##########################################\n",
    "#            Training Dataset            #\n",
    "##########################################\n",
    "X_train = np.concatenate([X_spherical_train, X_irregular_train], axis=0)\n",
    "y_train = np.concatenate([y_spherical_train, y_irregular_train], axis=0)\n",
    "Mask_train = np.concatenate([Mask_spherical_train, Mask_irregular_train], axis=0)\n",
    "optics_train = np.concatenate([optics_spherical_train, optics_irregular_train], axis=0)\n",
    "target_train = np.concatenate([target_spherical_train, target_irregular_train], axis=0)"
   ],
   "id": "ec10afa8263903aa",
   "outputs": [],
   "execution_count": 91
  },
  {
   "metadata": {
    "ExecuteTime": {
     "end_time": "2025-10-02T16:29:52.177776Z",
     "start_time": "2025-10-02T16:29:51.913795Z"
    }
   },
   "cell_type": "code",
   "source": [
    "##########################################\n",
    "#            Testing Dataset             #\n",
    "##########################################\n",
    "X_test = np.concatenate([X_irregular_test, X_spherical_test], axis=0)\n",
    "y_test = np.concatenate([y_irregular_test, y_spherical_test], axis=0)\n",
    "Mask_test = np.concatenate([Mask_irregular_test, Mask_spherical_test], axis=0)\n",
    "optics_test = np.concatenate([optics_irregular_test, optics_spherical_test], axis=0)\n",
    "target_test = np.concatenate([target_irregular_test, target_spherical_test], axis=0)\n"
   ],
   "id": "1b448718efebaf58",
   "outputs": [],
   "execution_count": 92
  },
  {
   "metadata": {
    "ExecuteTime": {
     "end_time": "2025-10-02T16:29:53.879957Z",
     "start_time": "2025-10-02T16:29:53.852593Z"
    }
   },
   "cell_type": "code",
   "source": [
    "\n",
    "##########################################\n",
    "#           Lightening Dataset           #\n",
    "##########################################\n",
    "\n",
    "# Placeholder filter kernels (you must define these)\n",
    "filter_kernel = np.array([[0.05, 0.1, 0.05], [0.1, 0.4, 0.1], [0.05, 0.1, 0.05]], dtype=np.float32)\n",
    "filter_kernel2 = np.array([[0.05, 0.1, 0.05], [0.1, 0.4, 0.1], [0.05, 0.1, 0.05]], dtype=np.float32)\n",
    "\n",
    "# Assuming you've already loaded and split your data into these variables:\n",
    "# X_train, y_train, Mask_train, optics_train, tar_train (Combined train)\n",
    "# X_test, y_test, Mask_test, optics_test, tar_test (Combined test)\n",
    "# X_irregular, y_irregular, Mask_irregular, optics_irregular, target_irregular (Irregular-only)\n",
    "\n",
    "import torch\n",
    "import numpy as np\n",
    "# Assuming 'convolve', 'filter_kernel', and 'filter_kernel2' are available\n",
    "\n",
    "class MyDataset(Dataset):\n",
    "    def __init__(self, X, y, Mask, optics, target, train=True):\n",
    "        self.X = X              # Corresponds to self.X_train later\n",
    "        self.y = y              # Corresponds to self.y_train later (Ground Truth Image)\n",
    "        self.Mask = Mask        # Corresponds to self.Mask_train later\n",
    "        self.optics = optics    # Corresponds to self.optics_train later\n",
    "        self.target = target    # Corresponds to self.tar_train later (Condition data)\n",
    "        self.train = train\n",
    "        # print(\"shape of X: \", self.X.shape)\n",
    "        # print(\"shape of y: \", self.y.shape)\n",
    "        # print(\"shape of Mask: \", self.Mask.shape)\n",
    "        # print(\"shape of optics: \", self.optics.shape)\n",
    "        # print(\"shape of target: \", self.target.shape)\n",
    "        # print(\"length of X: \", self.X.shape[0])\n",
    "\n",
    "    def __len__(self):\n",
    "        return len(self.X)\n",
    "\n",
    "    def __getitem__(self, idx):\n",
    "        # Use the correct instance variables\n",
    "        X_sample = self.X[idx]\n",
    "        y_image = self.y[idx]\n",
    "        Mask_sample = self.Mask[idx]\n",
    "        optics_sample = self.optics[idx]\n",
    "        target_data = self.target[idx] # Get target data for the condition\n",
    "\n",
    "        # Check if convolution should be applied\n",
    "        if target_data[1] > 0.4:\n",
    "            convolved_slices = []\n",
    "\n",
    "            # ITERATE OVER EACH SLICE (y_image has shape [N_slices, H, W])\n",
    "            for slice_idx in range(y_image.shape[0]):\n",
    "                temp_2d = y_image[slice_idx] # Shape: [H, W]\n",
    "\n",
    "                # Apply convolutions\n",
    "                y_convolved = convolve(temp_2d, filter_kernel, mode='nearest')\n",
    "                y_convolved = y_convolved + temp_2d\n",
    "                y_convolved = convolve(y_convolved, filter_kernel2, mode='nearest')\n",
    "\n",
    "                # Normalization logic\n",
    "                max_val = np.max(y_convolved)\n",
    "                y_convolved = (y_convolved / (1e-7 + max_val)) * np.max(temp_2d)\n",
    "\n",
    "                convolved_slices.append(y_convolved)\n",
    "\n",
    "            y_final = np.stack(convolved_slices, axis=0) # Shape: [N_slices, H, W]\n",
    "\n",
    "        else:\n",
    "            # FIX: If the condition is False, y_final must be the original image data (temp)\n",
    "            y_final = y_image\n",
    "\n",
    "        # Return the samples as PyTorch Tensors\n",
    "        return (torch.Tensor(X_sample),\n",
    "                torch.Tensor(Mask_sample),\n",
    "                torch.Tensor(optics_sample),\n",
    "                target_data, # This is a numpy array/list and does not need torch.Tensor conversion if it's metadata\n",
    "                torch.Tensor(y_final))"
   ],
   "id": "e98c5d19c2cd88c2",
   "outputs": [],
   "execution_count": 93
  },
  {
   "metadata": {
    "ExecuteTime": {
     "end_time": "2025-10-02T16:29:54.479064Z",
     "start_time": "2025-10-02T16:29:54.457254Z"
    }
   },
   "cell_type": "code",
   "source": [
    "##########################################\n",
    "#            Phantom Dataset             #\n",
    "##########################################\n",
    "\n",
    "class myDataset_phan(Dataset):\n",
    "    def __init__(self, train = True):\n",
    "        self.X_train = X_phan# .reshape(-1, 18, 14)\n",
    "        self.Mask_train = Mask_phan\n",
    "        self.y_train = y_phan# .transpose((0, 3,1,2))\n",
    "        self.train = train\n",
    "\n",
    "        self.optics_train = optics_phan\n",
    "        self.tar_train = target_phan\n",
    "        # print(\"shape of X_train: \", self.X_train.shape)\n",
    "        # print(\"shape of Mask_train: \", self.Mask_train.shape)\n",
    "        # print(\"shape of y_train: \", self.y_train.shape)\n",
    "        # print(\"shape of optics_train: \", self.optics_train.shape)\n",
    "        # print(\"shape of tar_train: \", self.tar_train.shape)\n",
    "        # print(\"length of X_train: \", self.X_train.shape[0])\n",
    "\n",
    "    def __len__(self):\n",
    "        if self.train:\n",
    "            return len(self.X_train)\n",
    "\n",
    "    # Correction for myDataset_phan.__getitem__\n",
    "    def __getitem__(self, idx):\n",
    "        if self.train:\n",
    "            temp = self.y_train[idx]  # Shape: [N_slices, H, W]\n",
    "            target_data = self.tar_train[idx]\n",
    "\n",
    "            if target_data[1] > 0.4:\n",
    "                convolved_slices = []\n",
    "\n",
    "                # 💡 FIX: Iterate over the slices (Axis 0)\n",
    "                for slice_idx in range(temp.shape[0]):\n",
    "                    temp_2d = temp[slice_idx] # Shape: [H, W]. This is now 2D.\n",
    "\n",
    "                    # 1. Apply convolutions to the 2D slice\n",
    "                    y_convolved = convolve(temp_2d, filter_kernel, mode='nearest')\n",
    "                    y_convolved = y_convolved + temp_2d\n",
    "                    y_convolved = convolve(y_convolved, filter_kernel2, mode='nearest')\n",
    "\n",
    "                    # 2. Apply the normalization logic to the 2D slice\n",
    "                    max_val_convolved = y_convolved.max()\n",
    "                    max_val_original = temp_2d.max()\n",
    "\n",
    "                    # This normalization must now use max on the 2D arrays\n",
    "                    y_convolved_norm = (y_convolved / (1e-7 + max_val_convolved)) * max_val_original\n",
    "\n",
    "                    convolved_slices.append(y_convolved_norm)\n",
    "\n",
    "                y_train_ = np.stack(convolved_slices, axis=0) # Re-stack into 3D: [N_slices, H, W]\n",
    "\n",
    "                # Return the convolved tensor\n",
    "                return (torch.Tensor(self.X_train[idx]),\n",
    "                        torch.Tensor(self.Mask_train[idx]),\n",
    "                        torch.Tensor(self.optics_train[idx]),\n",
    "                        target_data,  # target_data is usually left as numpy/list/tuple\n",
    "                        torch.Tensor(y_train_))\n",
    "\n",
    "            else:\n",
    "                # If condition is not met, return the original tensor (temp)\n",
    "                return (torch.Tensor(self.X_train[idx]),\n",
    "                        torch.Tensor(self.Mask_train[idx]),\n",
    "                        torch.Tensor(self.optics_train[idx]),\n",
    "                        target_data,\n",
    "                        torch.Tensor(temp))\n",
    "\n",
    "one_batch = next(iter(myDataset_phan()))\n",
    "X_train_phan, Mask_train_phan, optics_train_phan, target_data_phan, tmp_phan = one_batch\n",
    "print(\"shape of X_train_phan: \", X_train_phan.shape)\n",
    "print(\"shape of Mask_train_phan: \", Mask_train_phan.shape)\n",
    "print(\"shape of optics_train_phan: \", optics_train_phan.shape)\n",
    "print(\"shape of target_data_phan: \", target_data_phan.shape)\n",
    "print(\"shape of tmp_phan: \", tmp_phan.shape)"
   ],
   "id": "8aa786f936d7f0fc",
   "outputs": [
    {
     "name": "stdout",
     "output_type": "stream",
     "text": [
      "shape of X_train_phan:  torch.Size([18, 14])\n",
      "shape of Mask_train_phan:  torch.Size([7, 32, 32])\n",
      "shape of optics_train_phan:  torch.Size([4])\n",
      "shape of target_data_phan:  (2,)\n",
      "shape of tmp_phan:  torch.Size([7, 32, 32])\n"
     ]
    }
   ],
   "execution_count": 94
  },
  {
   "metadata": {
    "ExecuteTime": {
     "end_time": "2025-10-02T16:29:56.860582Z",
     "start_time": "2025-10-02T16:29:56.834957Z"
    }
   },
   "cell_type": "code",
   "source": [
    "##########################################\n",
    "#          Dataset Declaration           #\n",
    "##########################################\n",
    "\n",
    "train_dataset = MyDataset(\n",
    "    X_train, y_train, Mask_train, optics_train, target_train, train=True\n",
    ")\n",
    "\n",
    "test_dataset = MyDataset(\n",
    "    X_test, y_test, Mask_test, optics_test, target_test, train=False\n",
    ")\n",
    "\n",
    "test_phan_dataset = myDataset_phan()\n",
    "\n",
    "print(\"shape of X_test: \", X_test.shape)\n",
    "print(\"shape of y_test: \", y_test.shape)\n",
    "print(\"shape of Mask_test: \", Mask_test.shape)\n",
    "print(\"shape of optics_test: \", optics_test.shape)\n",
    "print(\"target_test.shape: \", target_test.shape)\n",
    "\n",
    "print(\"\\n\\n\")\n",
    "\n",
    "print(\"shape of X_train: \", X_train.shape)\n",
    "print(\"shape of y_train: \", y_train.shape)\n",
    "print(\"shape of Mask_train: \", Mask_train.shape)\n",
    "print(\"shape of optics_train: \", optics_train.shape)\n",
    "print(\"target_train.shape: \", target_train.shape)\n"
   ],
   "id": "190395fb56e8136c",
   "outputs": [
    {
     "name": "stdout",
     "output_type": "stream",
     "text": [
      "shape of X_test:  (6540, 18, 14)\n",
      "shape of y_test:  (6540, 7, 32, 32)\n",
      "shape of Mask_test:  (6540, 7, 32, 32)\n",
      "shape of optics_test:  (6540, 4)\n",
      "target_test.shape:  (6540, 2)\n",
      "\n",
      "\n",
      "\n",
      "shape of X_train:  (19615, 18, 14)\n",
      "shape of y_train:  (19615, 7, 32, 32)\n",
      "shape of Mask_train:  (19615, 7, 32, 32)\n",
      "shape of optics_train:  (19615, 4)\n",
      "target_train.shape:  (19615, 2)\n"
     ]
    }
   ],
   "execution_count": 95
  },
  {
   "metadata": {
    "ExecuteTime": {
     "end_time": "2025-10-02T16:29:59.042150Z",
     "start_time": "2025-10-02T16:29:58.618769Z"
    }
   },
   "cell_type": "code",
   "source": [
    "##########################################\n",
    "#            Optics Property             #\n",
    "##########################################\n",
    "import numpy as np\n",
    "import matplotlib.pyplot as plt\n",
    "\n",
    "# Assuming optics_train is a NumPy array or PyTorch tensor converted to NumPy\n",
    "# If it's a tensor, make sure it's converted before this code runs:\n",
    "# optics_train = optics_train.cpu().numpy()\n",
    "\n",
    "# Assuming optics_train has shape (N_samples, 4)\n",
    "N_features = optics_train.shape[1]\n",
    "N_BINS = 30 # Defines the number of bins used for both the plot and the printout\n",
    "\n",
    "# --- Visualization Code ---\n",
    "plt.figure(figsize=(12, 8))\n",
    "plt.suptitle(\"Distribution of Optics Test Parameters\", fontsize=16)\n",
    "\n",
    "# Iterate through each of the 4 features\n",
    "for i in range(N_features):\n",
    "    # Create a subplot for each feature\n",
    "    plt.subplot(2, 2, i + 1)\n",
    "\n",
    "    # Plot the histogram\n",
    "    plt.hist(optics_train[:, i], bins=N_BINS, alpha=0.7, color='skyblue', edgecolor='black')\n",
    "\n",
    "    # Label the plot.\n",
    "    plt.title(f'Optics Feature {i+1} Distribution')\n",
    "    plt.xlabel(f'Optics Value (Feature {i+1})')\n",
    "    plt.ylabel('Frequency (Number of Samples)')\n",
    "    plt.grid(axis='y', alpha=0.5)\n",
    "\n",
    "plt.tight_layout(rect=[0, 0.03, 1, 0.95]) # Adjust layout to make room for suptitle\n",
    "plt.show()\n",
    "\n",
    "print(\"N features: \", N_features)\n",
    "\n",
    "# --- Detailed Sample Counts Per Bin ---\n",
    "print(\"\\n--- Detailed Sample Counts Per Bin ---\")\n",
    "\n",
    "for i in range(N_features):\n",
    "    feature_data = optics_train[:, i]\n",
    "\n",
    "    # Calculate counts and bin edges using np.histogram\n",
    "    counts, bin_edges = np.histogram(feature_data, bins=N_BINS)\n",
    "\n",
    "    print(f\"\\nFeature {i+1}:\")\n",
    "\n",
    "    # Iterate over the bins and print the range and count\n",
    "    for j in range(len(counts)):\n",
    "        bin_start = bin_edges[j]\n",
    "        bin_end = bin_edges[j+1]\n",
    "        count = counts[j]\n",
    "\n",
    "        # Only print bins that have samples (count > 0) for cleaner output\n",
    "        if count > 0:\n",
    "            # Use 4 decimal places for precision on the optics values\n",
    "            print(f\"  Range [{bin_start:.4f} to {bin_end:.4f}): {count} samples\")\n"
   ],
   "id": "276530241e2d2023",
   "outputs": [
    {
     "data": {
      "text/plain": [
       "<Figure size 1200x800 with 4 Axes>"
      ],
      "image/png": "[encoded data removed]"
     },
     "metadata": {},
     "output_type": "display_data"
    },
    {
     "name": "stdout",
     "output_type": "stream",
     "text": [
      "N features:  4\n",
      "\n",
      "--- Detailed Sample Counts Per Bin ---\n",
      "\n",
      "Feature 1:\n",
      "  Range [0.0186 to 0.0211): 135 samples\n",
      "  Range [0.0211 to 0.0236): 456 samples\n",
      "  Range [0.0236 to 0.0261): 984 samples\n",
      "  Range [0.0261 to 0.0287): 369 samples\n",
      "  Range [0.0287 to 0.0312): 273 samples\n",
      "  Range [0.0312 to 0.0337): 359 samples\n",
      "  Range [0.0337 to 0.0363): 328 samples\n",
      "  Range [0.0363 to 0.0388): 231 samples\n",
      "  Range [0.0388 to 0.0413): 112 samples\n",
      "  Range [0.0413 to 0.0439): 1873 samples\n",
      "  Range [0.0439 to 0.0464): 1266 samples\n",
      "  Range [0.0464 to 0.0489): 481 samples\n",
      "  Range [0.0489 to 0.0515): 482 samples\n",
      "  Range [0.0515 to 0.0540): 486 samples\n",
      "  Range [0.0540 to 0.0565): 310 samples\n",
      "  Range [0.0565 to 0.0591): 108 samples\n",
      "  Range [0.0591 to 0.0616): 105 samples\n",
      "  Range [0.0616 to 0.0641): 3041 samples\n",
      "  Range [0.0641 to 0.0666): 1529 samples\n",
      "  Range [0.0666 to 0.0692): 724 samples\n",
      "  Range [0.0692 to 0.0717): 407 samples\n",
      "  Range [0.0717 to 0.0742): 94 samples\n",
      "  Range [0.0742 to 0.0768): 201 samples\n",
      "  Range [0.0768 to 0.0793): 64 samples\n",
      "  Range [0.0793 to 0.0818): 69 samples\n",
      "  Range [0.0818 to 0.0844): 3340 samples\n",
      "  Range [0.0844 to 0.0869): 1290 samples\n",
      "  Range [0.0869 to 0.0894): 315 samples\n",
      "  Range [0.0894 to 0.0920): 121 samples\n",
      "  Range [0.0920 to 0.0945): 62 samples\n",
      "\n",
      "Feature 2:\n",
      "  Range [2.6687 to 2.9507): 117 samples\n",
      "  Range [2.9507 to 3.2328): 90 samples\n",
      "  Range [3.2328 to 3.5148): 1059 samples\n",
      "  Range [3.5148 to 3.7968): 4513 samples\n",
      "  Range [3.7968 to 4.0789): 357 samples\n",
      "  Range [4.0789 to 4.3609): 30 samples\n",
      "  Range [4.3609 to 4.6430): 45 samples\n",
      "  Range [4.6430 to 4.9250): 461 samples\n",
      "  Range [4.9250 to 5.2070): 833 samples\n",
      "  Range [5.2070 to 5.4891): 996 samples\n",
      "  Range [5.4891 to 5.7711): 4202 samples\n",
      "  Range [6.3352 to 6.6172): 19 samples\n",
      "  Range [6.6172 to 6.8993): 442 samples\n",
      "  Range [6.8993 to 7.1813): 226 samples\n",
      "  Range [7.1813 to 7.4633): 502 samples\n",
      "  Range [7.4633 to 7.7454): 3042 samples\n",
      "  Range [7.7454 to 8.0274): 19 samples\n",
      "  Range [8.5915 to 8.8735): 41 samples\n",
      "  Range [8.8735 to 9.1556): 35 samples\n",
      "  Range [9.1556 to 9.4376): 290 samples\n",
      "  Range [9.4376 to 9.7197): 2161 samples\n",
      "  Range [10.5658 to 10.8478): 18 samples\n",
      "  Range [10.8478 to 11.1298): 117 samples\n",
      "\n",
      "Feature 3:\n",
      "  Range [0.0118 to 0.0850): 18555 samples\n",
      "  Range [0.0850 to 0.1582): 957 samples\n",
      "  Range [0.1582 to 0.2313): 28 samples\n",
      "  Range [0.2313 to 0.3045): 27 samples\n",
      "  Range [0.3045 to 0.3777): 16 samples\n",
      "  Range [0.3777 to 0.4508): 3 samples\n",
      "  Range [0.4508 to 0.5240): 20 samples\n",
      "  Range [0.5240 to 0.5971): 8 samples\n",
      "  Range [2.1335 to 2.2067): 1 samples\n",
      "\n",
      "Feature 4:\n",
      "  Range [0.2078 to 0.7819): 47 samples\n",
      "  Range [0.7819 to 1.3560): 19 samples\n",
      "  Range [1.3560 to 1.9301): 143 samples\n",
      "  Range [1.9301 to 2.5043): 24 samples\n",
      "  Range [2.5043 to 3.0784): 138 samples\n",
      "  Range [3.0784 to 3.6525): 1547 samples\n",
      "  Range [3.6525 to 4.2266): 4665 samples\n",
      "  Range [4.2266 to 4.8008): 425 samples\n",
      "  Range [4.8008 to 5.3749): 752 samples\n",
      "  Range [5.3749 to 5.9490): 4183 samples\n",
      "  Range [5.9490 to 6.5231): 703 samples\n",
      "  Range [6.5231 to 7.0973): 645 samples\n",
      "  Range [7.0973 to 7.6714): 2050 samples\n",
      "  Range [7.6714 to 8.2455): 1398 samples\n",
      "  Range [8.2455 to 8.8196): 259 samples\n",
      "  Range [8.8196 to 9.3938): 225 samples\n",
      "  Range [9.3938 to 9.9679): 1899 samples\n",
      "  Range [9.9679 to 10.5420): 355 samples\n",
      "  Range [10.5420 to 11.1161): 75 samples\n",
      "  Range [12.2644 to 12.8385): 1 samples\n",
      "  Range [12.8385 to 13.4126): 2 samples\n",
      "  Range [13.4126 to 13.9868): 11 samples\n",
      "  Range [13.9868 to 14.5609): 6 samples\n",
      "  Range [15.1350 to 15.7091): 1 samples\n",
      "  Range [15.7091 to 16.2833): 4 samples\n",
      "  Range [16.2833 to 16.8574): 23 samples\n",
      "  Range [16.8574 to 17.4315): 15 samples\n"
     ]
    }
   ],
   "execution_count": 96
  },
  {
   "metadata": {
    "ExecuteTime": {
     "end_time": "2025-10-02T16:30:00.650529Z",
     "start_time": "2025-10-02T16:30:00.602480Z"
    }
   },
   "cell_type": "code",
   "source": [
    "##########################################\n",
    "#         Dataloader Declaration         #\n",
    "##########################################\n",
    "\n",
    "BATCH_SIZE = 16\n",
    "\n",
    "train_dataloader = DataLoader(train_dataset, batch_size=BATCH_SIZE, shuffle=True)\n",
    "\n",
    "test_dataloader = DataLoader(test_dataset, batch_size=BATCH_SIZE, shuffle=False)\n",
    "\n",
    "phan_dataloader = DataLoader(test_phan_dataset, batch_size = BATCH_SIZE, shuffle = False, drop_last = False)\n"
   ],
   "id": "ac50d95c5536e13",
   "outputs": [],
   "execution_count": 97
  },
  {
   "metadata": {
    "ExecuteTime": {
     "end_time": "2025-10-02T16:30:01.967787Z",
     "start_time": "2025-10-02T16:30:01.953566Z"
    }
   },
   "cell_type": "code",
   "source": [
    "##########################################\n",
    "#           Visualization Code           #\n",
    "##########################################\n",
    "\n",
    "first_bacth = next(iter(test_dataloader))\n",
    "first_x_data, first_mask_data, first_optics_data, first_target_data, first_y_final = first_bacth\n",
    "# print(\"first data shape: \", first_x_data.shape)\n",
    "# print(\"first mask shape: \", first_mask_data.shape)\n",
    "# print(\"first optics shape: \", first_optics_data.shape)\n",
    "# print(\"first target shape: \", first_target_data.shape)\n",
    "# print(\"first y shape: \", first_y_final.shape)\n",
    "def show_tensor_image2(img, depth=None):\n",
    "    img = img.detach().cpu().numpy()\n",
    "    img = np.squeeze(img)   # remove singleton dims\n",
    "\n",
    "    # img can now be [7,H,W] or [H,W]\n",
    "    if img.ndim == 2:\n",
    "        img = img[None, ...]   # promote to [1,H,W]\n",
    "\n",
    "    num_slices = img.shape[0]\n",
    "    slice_positions = np.arange(num_slices)\n",
    "\n",
    "    # Create subplots\n",
    "    fig, axes = plt.subplots(1, num_slices, figsize=(15, 5))\n",
    "\n",
    "    # Plot slices\n",
    "    for i, pos in enumerate(slice_positions):\n",
    "        slice_data = img[pos, :, :]\n",
    "\n",
    "        im = axes[i].imshow(slice_data, vmin=0, vmax=0.32, cmap='jet')\n",
    "\n",
    "        if depth is not None and len(depth) == num_slices:\n",
    "            axes[i].set_title(f\"Depth {depth[pos]} cm\")\n",
    "        else:\n",
    "            axes[i].set_title(f\"Slice {pos}\")\n",
    "\n",
    "        axes[i].axis('off')\n",
    "\n",
    "    cbar = fig.colorbar(im, ax=axes.ravel().tolist(), shrink=0.6)\n",
    "    cbar.set_label('Intensity')\n",
    "    plt.show()\n"
   ],
   "id": "29cce4db139a0119",
   "outputs": [],
   "execution_count": 98
  },
  {
   "metadata": {
    "ExecuteTime": {
     "end_time": "2025-10-02T16:30:04.109149Z",
     "start_time": "2025-10-02T16:30:02.729196Z"
    }
   },
   "cell_type": "code",
   "source": [
    "print(\"Accessing the first batch...\")\n",
    "first_batch = next(iter(test_dataloader))\n",
    "# Unpack the batch components\n",
    "x_data, mask_data_batch, optics_data, target_data, y_final_data = first_batch\n",
    "\n",
    "num_datapoints_to_plot = 5\n",
    "batch_size = x_data.shape[0]\n",
    "\n",
    "print(f\"Iterating over the first {min(num_datapoints_to_plot, batch_size)} data points...\")\n",
    "\n",
    "for i in range(min(num_datapoints_to_plot, batch_size)):\n",
    "    print(f\"\\n--- Plotting Data Point {i+1} ---\")\n",
    "\n",
    "    # Get the data for the i-th item\n",
    "    gt_images = y_final_data[i]     # Shape: [7, 32, 32]\n",
    "    # FIX: Use a new variable name (e.g., 'mask_data_item') to hold the 3D tensor\n",
    "    mask_data_item = mask_data_batch[i]    # Shape: [7, 32, 32]\n",
    "\n",
    "    # --- Graph the Ground Truth (GT) ---\n",
    "    # We only want the first 5 slices (images) for a standard comparison\n",
    "    # Slicing the 7 slices to get the first 5:\n",
    "    gt_first_five_slices = gt_images[:, :, :].unsqueeze(0) # Reshape to [1, 5, 32, 32] for the function\n",
    "    show_tensor_image2(\n",
    "        gt_first_five_slices,\n",
    "    )\n",
    "\n",
    "    # --- Graph the Reconstruction (Recon) ---\n",
    "    # FIX: Use the new variable 'mask_data_item' for indexing\n",
    "    recon_first_five_slices = mask_data_item[:, :, :].unsqueeze(0) # Reshape to [1, 5, 32, 32]\n",
    "    show_tensor_image2(\n",
    "        recon_first_five_slices,\n",
    "    )"
   ],
   "id": "a21c8d4770dd52aa",
   "outputs": [
    {
     "name": "stdout",
     "output_type": "stream",
     "text": [
      "Accessing the first batch...\n",
      "Iterating over the first 5 data points...\n",
      "\n",
      "--- Plotting Data Point 1 ---\n"
     ]
    },
    {
     "data": {
      "text/plain": [
       "<Figure size 1500x500 with 8 Axes>"
      ],
      "image/png": "[encoded data removed]"
     },
     "metadata": {},
     "output_type": "display_data"
    },
    {
     "data": {
      "text/plain": [
       "<Figure size 1500x500 with 8 Axes>"
      ],
      "image/png": "[encoded data removed]"
     },
     "metadata": {},
     "output_type": "display_data"
    },
    {
     "name": "stdout",
     "output_type": "stream",
     "text": [
      "\n",
      "--- Plotting Data Point 2 ---\n"
     ]
    },
    {
     "data": {
      "text/plain": [
       "<Figure size 1500x500 with 8 Axes>"
      ],
      "image/png": "[encoded data removed]"
     },
     "metadata": {},
     "output_type": "display_data"
    },
    {
     "data": {
      "text/plain": [
       "<Figure size 1500x500 with 8 Axes>"
      ],
      "image/png": "[encoded data removed]"
     },
     "metadata": {},
     "output_type": "display_data"
    },
    {
     "name": "stdout",
     "output_type": "stream",
     "text": [
      "\n",
      "--- Plotting Data Point 3 ---\n"
     ]
    },
    {
     "data": {
      "text/plain": [
       "<Figure size 1500x500 with 8 Axes>"
      ],
      "image/png": "[encoded data removed]"
     },
     "metadata": {},
     "output_type": "display_data"
    },
    {
     "data": {
      "text/plain": [
       "<Figure size 1500x500 with 8 Axes>"
      ],
      "image/png": "[encoded data removed]"
     },
     "metadata": {},
     "output_type": "display_data"
    },
    {
     "name": "stdout",
     "output_type": "stream",
     "text": [
      "\n",
      "--- Plotting Data Point 4 ---\n"
     ]
    },
    {
     "data": {
      "text/plain": [
       "<Figure size 1500x500 with 8 Axes>"
      ],
      "image/png": "[encoded data removed]"
     },
     "metadata": {},
     "output_type": "display_data"
    },
    {
     "data": {
      "text/plain": [
       "<Figure size 1500x500 with 8 Axes>"
      ],
      "image/png": "[encoded data removed]"
     },
     "metadata": {},
     "output_type": "display_data"
    },
    {
     "name": "stdout",
     "output_type": "stream",
     "text": [
      "\n",
      "--- Plotting Data Point 5 ---\n"
     ]
    },
    {
     "data": {
      "text/plain": [
       "<Figure size 1500x500 with 8 Axes>"
      ],
      "image/png": "[encoded data removed]"
     },
     "metadata": {},
     "output_type": "display_data"
    },
    {
     "data": {
      "text/plain": [
       "<Figure size 1500x500 with 8 Axes>"
      ],
      "image/png": "[encoded data removed]"
     },
     "metadata": {},
     "output_type": "display_data"
    }
   ],
   "execution_count": 99
  },
  {
   "metadata": {
    "ExecuteTime": {
     "end_time": "2025-10-02T16:30:04.817284Z",
     "start_time": "2025-10-02T16:30:04.796857Z"
    }
   },
   "cell_type": "code",
   "source": [
    "##########################################\n",
    "#           Visualization Code           #\n",
    "##########################################\n",
    "\n",
    "import torch\n",
    "import matplotlib.pyplot as plt\n",
    "\n",
    "def graph_first_five_multi_slice(epoch, inverse_model, test_dataloader, device=\"cpu\"):\n",
    "    \"\"\"\n",
    "    Builds a figure showing 5 samples × 7 slices:\n",
    "    rows: [GT, Recon] per sample; columns: slices\n",
    "    RETURNS: (fig) so caller can send to wandb and then close it.\n",
    "    \"\"\"\n",
    "    inverse_model.eval()\n",
    "\n",
    "    VMIN, VMAX = 0, 0.32\n",
    "    CMAP = 'jet'\n",
    "    N_SLICES = 7\n",
    "    N_SAMPLES = 5\n",
    "\n",
    "    try:\n",
    "        first_batch = next(iter(test_dataloader))\n",
    "        X, Mask, Optics, _, Y_GT_batch = first_batch\n",
    "\n",
    "        if Y_GT_batch.shape[0] < N_SAMPLES:\n",
    "            N_SAMPLES = Y_GT_batch.shape[0]\n",
    "\n",
    "        if Y_GT_batch.shape[1] < N_SLICES:\n",
    "            N_SLICES = Y_GT_batch.shape[1]\n",
    "\n",
    "        X = X.to(device).float()\n",
    "        Mask = Mask.to(device).float()\n",
    "        Optics = Optics.to(device).float()\n",
    "        Y_GT_batch = Y_GT_batch.to(device).float()\n",
    "\n",
    "    except StopIteration:\n",
    "        print(\"Error: The dataloader is empty.\")\n",
    "        return None\n",
    "    except Exception as e:\n",
    "        print(f\"Batch retrieval error: {e}\")\n",
    "        return None\n",
    "\n",
    "    with torch.no_grad():\n",
    "        Y_Recon_batch = inverse_model(Mask, X, Optics)\n",
    "\n",
    "    Y_GT_samples = Y_GT_batch[:N_SAMPLES].cpu().numpy()\n",
    "    Y_Recon_samples = Y_Recon_batch[:N_SAMPLES].cpu().numpy()\n",
    "\n",
    "    fig, axes = plt.subplots(\n",
    "        2 * N_SAMPLES, N_SLICES,\n",
    "        figsize=(2.5 * N_SLICES, 2.5 * 2 * N_SAMPLES),\n",
    "        gridspec_kw={'wspace': 0.05, 'hspace': 0.05},\n",
    "        dpi=120\n",
    "    )\n",
    "    fig.suptitle(f\"Epoch {epoch}: Ground Truth vs. Reconstruction (First {N_SAMPLES} Samples)\",\n",
    "                 fontsize=16, y=0.98)\n",
    "\n",
    "    im_recon = None\n",
    "    for i in range(N_SAMPLES):\n",
    "        gt_row = 2 * i\n",
    "        recon_row = 2 * i + 1\n",
    "        for j in range(N_SLICES):\n",
    "            ax_gt = axes[gt_row, j]\n",
    "            ax_gt.imshow(Y_GT_samples[i, j], vmin=VMIN, vmax=VMAX, cmap=CMAP)\n",
    "            ax_gt.axis('off')\n",
    "            if j == 0:\n",
    "                ax_gt.text(-5, 16, f\"Sample {i+1}\\nGT\", ha='right', va='center',\n",
    "                           fontsize=10, weight='bold')\n",
    "\n",
    "            ax_recon = axes[recon_row, j]\n",
    "            im_recon = ax_recon.imshow(Y_Recon_samples[i, j], vmin=VMIN, vmax=VMAX, cmap=CMAP)\n",
    "            ax_recon.axis('off')\n",
    "            if j == 0:\n",
    "                ax_recon.text(-5, 16, \"Recon\", ha='right', va='center', fontsize=10)\n",
    "\n",
    "            if i == 0:\n",
    "                ax_gt.set_title(f\"Slice {j}\", fontsize=10)\n",
    "\n",
    "    fig.subplots_adjust(right=0.92)\n",
    "    cbar_ax = fig.add_axes([0.94, 0.1, 0.015, 0.8])\n",
    "    if im_recon is not None:\n",
    "        fig.colorbar(im_recon, cax=cbar_ax, label='Intensity')\n",
    "\n",
    "    return fig  # 🔑 return, don’t show/close here\n"
   ],
   "id": "f37a285496d0024d",
   "outputs": [],
   "execution_count": 100
  },
  {
   "metadata": {
    "ExecuteTime": {
     "end_time": "2025-10-02T16:30:05.488386Z",
     "start_time": "2025-10-02T16:30:05.472184Z"
    }
   },
   "cell_type": "code",
   "source": "device  = \"cuda\" if torch.cuda.is_available() else \"cpu\"",
   "id": "fade43e990483b65",
   "outputs": [],
   "execution_count": 101
  },
  {
   "metadata": {
    "ExecuteTime": {
     "end_time": "2025-10-02T16:30:06.132223Z",
     "start_time": "2025-10-02T16:30:06.114617Z"
    }
   },
   "cell_type": "code",
   "source": [
    "##########################################\n",
    "#             Image Plotting             #\n",
    "##########################################\n",
    "\n",
    "def sample_plot_image_all(model):\n",
    "    for step, (batchmeasured, batch_mask,b_opt, b_tar, batch_actual_image) in enumerate(test_dataloader):\n",
    "        batchmeasured = batchmeasured.to(device) #.view(-1, 18, 14)\n",
    "        batch_actual_image = batch_actual_image.to(device) #.view(-1, 7, 32, 32)\n",
    "        batch_mask = batch_mask.to(device)\n",
    "        b_opt = b_opt.to(device)\n",
    "        pred_reconstruction = model(batch_mask, batchmeasured, b_opt)\n",
    "\n",
    "        mask_ran = get_random_mask(b_tar.numpy(), batch_actual_image.cpu().numpy())\n",
    "        mask_ran = torch.tensor(mask_ran, dtype = torch.float32, device = device)\n",
    "        #mask_ran = mask_ran* mask.max(dim = (2, 3))\n",
    "\n",
    "        show_tensor_image2(batch_actual_image)\n",
    "        show_tensor_image2(mask_ran)\n",
    "        show_tensor_image2(pred_reconstruction.detach())\n",
    "\n",
    "def sample_plot_image(model):\n",
    "    for step, (batchmeasured, batch_mask, b_opt, b_tar, batch_actual_image) in enumerate(test_dataloader):\n",
    "        batchmeasured = batchmeasured.to(device) #.view(-1, 18, 14)\n",
    "        batch_actual_image = batch_actual_image.to(device) #.view(-1, 7, 32, 32)\n",
    "        batch_mask = batch_mask.to(device)\n",
    "        b_opt = b_opt.to(device)\n",
    "        pred_reconstruction = model(batch_mask, batchmeasured, b_opt)\n",
    "        mask_ran = get_random_mask(b_tar.numpy(), batch_actual_image.cpu().numpy())\n",
    "\n",
    "        mask_ran = torch.tensor(mask_ran, dtype = torch.float32, device = device)\n",
    "        #mask_ran = mask_ran* mask.max(dim = (2, 3))\n",
    "\n",
    "        show_tensor_image2(batch_actual_image)\n",
    "        show_tensor_image2(mask_ran)\n",
    "        show_tensor_image2(pred_reconstruction.detach())\n",
    "        break"
   ],
   "id": "2792f9a7bcb11eba",
   "outputs": [],
   "execution_count": 102
  },
  {
   "metadata": {
    "ExecuteTime": {
     "end_time": "2025-10-02T16:30:06.812429Z",
     "start_time": "2025-10-02T16:30:06.781461Z"
    }
   },
   "cell_type": "code",
   "source": [
    "##########################################\n",
    "#             Error Plotting             #\n",
    "##########################################\n",
    "\n",
    "import matplotlib.pyplot as plt\n",
    "import numpy as np\n",
    "\n",
    "def error_plot(predictions, corresponding_ground_truth, epoch):\n",
    "\n",
    "    print(\"length of corresponding_ground_truth: \", len(corresponding_ground_truth))\n",
    "    print(\"unique values of corresponding_ground_truth: \", np.unique(corresponding_ground_truth))\n",
    "    print(\"length of predictions: \", len(predictions))\n",
    "    predictions = np.array(predictions)\n",
    "    corresponding_ground_truth = np.round(np.array(corresponding_ground_truth), 3)\n",
    "    ground_truth = np.sort(np.unique(corresponding_ground_truth))\n",
    "\n",
    "    data_dict = {value: [] for value in ground_truth}\n",
    "    for gt_value in ground_truth:\n",
    "        cond = (corresponding_ground_truth > (gt_value - 0.001)) & (corresponding_ground_truth < (gt_value + 0.001))\n",
    "        pred_for_value = predictions[cond]\n",
    "        if len(pred_for_value) > 0:\n",
    "            data_dict[gt_value].extend(pred_for_value)\n",
    "\n",
    "    boxplot_data = [data_dict[gt_value] for gt_value in ground_truth if len(data_dict[gt_value]) > 0]\n",
    "    filtered_ground_truth = [gt_value for gt_value in ground_truth if len(data_dict[gt_value]) > 0]\n",
    "\n",
    "    fig, ax = plt.subplots(figsize=(14, 8))\n",
    "\n",
    "    box = ax.boxplot(boxplot_data, positions=filtered_ground_truth, widths=0.005, patch_artist=True, showfliers=False)\n",
    "\n",
    "    colors = ['#FF9999', '#66B2FF', '#99FF99', '#FFCC99']\n",
    "    for patch, color in zip(box['boxes'], colors * int(np.ceil(len(box['boxes'])/len(colors)))):\n",
    "        patch.set_facecolor(color)\n",
    "\n",
    "    for whisker in box['whiskers']:\n",
    "        whisker.set(color='#7570b3', linewidth=1.5)\n",
    "\n",
    "    for cap in box['caps']:\n",
    "        cap.set(color='#7570b3', linewidth=1.5)\n",
    "\n",
    "    for median in box['medians']:\n",
    "        median.set(color='red', linewidth=2)\n",
    "\n",
    "    for flier in box['fliers']:\n",
    "        flier.set(marker='o', color='#e7298a', alpha=0.5)\n",
    "\n",
    "    ax.scatter(corresponding_ground_truth, predictions, color='r', alpha=0.6, s=10)\n",
    "\n",
    "    ax.set_xlabel('Ground Truth Values')\n",
    "    ax.set_ylabel('Prediction Values')\n",
    "    ax.set_title(f'Boxplot of Predictions vs Ground Truth Values (Epoch {epoch})')\n",
    "    ax.grid(True)\n",
    "\n",
    "    ax.set_xlim(0.08, 0.32)\n",
    "    ax.set_xticks(filtered_ground_truth)\n",
    "    ax.set_xticklabels([f'{val:.3f}' for val in filtered_ground_truth], rotation=45, ha='right')\n",
    "\n",
    "    return fig  # 🔑 return figure instead of showing\n",
    "\n",
    "# Example data\n",
    "# ground_truth = np.arange(0.12, 0.31, 0.015)\n",
    "# predictions = np.random.random(100)  # Example predictions\n",
    "# corresponding_ground_truth = np.random.choice(ground_truth, 100)  # Example corresponding ground truth values\n",
    "# print(\"predictions.shape: \", predictions.shape)\n",
    "# print(\"corresponding_ground_truth.shape: \", corresponding_ground_truth.shape)\n",
    "# error_plot(predictions, corresponding_ground_truth)"
   ],
   "id": "6cc19e6affc22f0a",
   "outputs": [],
   "execution_count": 103
  },
  {
   "metadata": {
    "ExecuteTime": {
     "end_time": "2025-10-02T16:30:07.912668Z",
     "start_time": "2025-10-02T16:30:07.897699Z"
    }
   },
   "cell_type": "code",
   "source": [
    "##########################################\n",
    "#                MSE Error               #\n",
    "##########################################\n",
    "from sklearn.metrics import r2_score\n",
    "\n",
    "import torch.nn.functional as F\n",
    "\n",
    "def mse_error(x, x_head, mask):\n",
    "    # 1. Calculate the overall batch MSE loss (pixel-wise, masked)\n",
    "    gt_masked = x * mask\n",
    "    recon_masked = x_head * mask\n",
    "    batch_mse = F.mse_loss(gt_masked, recon_masked)\n",
    "\n",
    "    # 2. Compute the per-sample maximums (16 values)\n",
    "    # Get max over spatial dims (H, W), shape [B, C] -> [16, 7]\n",
    "    gt_max_spatial = gt_masked.amax(dim=[-1, -2])\n",
    "    recon_max_spatial = recon_masked.amax(dim=[-1, -2])\n",
    "\n",
    "    # Get max over slices (C), shape [B] -> [16]\n",
    "    gt_max_per_sample = gt_max_spatial.amax(dim=1).detach().cpu().tolist()\n",
    "    recon_max_per_sample = recon_max_spatial.amax(dim=1).detach().cpu().tolist()\n",
    "\n",
    "    # Return: (Loss, list of 16 GT maxes, list of 16 Recon maxes)\n",
    "    return batch_mse, gt_max_per_sample, recon_max_per_sample"
   ],
   "id": "7ae2cad7de50e4d6",
   "outputs": [],
   "execution_count": 104
  },
  {
   "metadata": {
    "ExecuteTime": {
     "end_time": "2025-10-02T16:30:08.333990Z",
     "start_time": "2025-10-02T16:30:08.317999Z"
    }
   },
   "cell_type": "code",
   "source": [
    "##########################################\n",
    "#          Perturbation Plotting         #\n",
    "##########################################\n",
    "def scatter_plot_pert(pred_pert, optics_gen):\n",
    "    # plt.scatter(All_measured_data[i][:9], All_measured_data[i][9:])\n",
    "    # plt.show()\n",
    "\n",
    "    # Create a figure and an axis\n",
    "    fig, ax = plt.subplots()\n",
    "\n",
    "    # Create and add the circle to the axis\n",
    "    circle = plt.Circle((0, 0), 1, edgecolor='b', facecolor='none')\n",
    "    ax.add_patch(circle)\n",
    "\n",
    "    # # Plot the scatter data\n",
    "    # for data in All_measured_data:\n",
    "    #     ax.scatter(data[0], data[1])\n",
    "    pred_per = pred_pert[0].detach().cpu().numpy()\n",
    "\n",
    "    # #for i in range(0,1):\n",
    "    ax.scatter(pred_per[:9],pred_per[9:] )\n",
    "    # print(\"Mua target\", All_ground_truth[i].max())\n",
    "    # print(\"Depth, Radius\", Target_depth_radius[i])\n",
    "\n",
    "    # Set the aspect of the plot to be equal\n",
    "    ax.set_aspect('equal')\n",
    "\n",
    "    # Set limits to ensure the circle is centered and visible\n",
    "    ax.set_xlim(-1.5, 1.5)\n",
    "    ax.set_ylim(-1.5, 1.5)\n",
    "\n",
    "    # Add grid for better visualization\n",
    "    ax.grid(True)\n",
    "\n",
    "    # Display the plot\n",
    "    plt.show()\n",
    "    #break"
   ],
   "id": "cae15b17451f9d17",
   "outputs": [],
   "execution_count": 105
  },
  {
   "metadata": {
    "ExecuteTime": {
     "end_time": "2025-10-02T16:30:09.703806Z",
     "start_time": "2025-10-02T16:30:09.406162Z"
    }
   },
   "cell_type": "code",
   "source": [
    "##########################################\n",
    "#            Model Declaration           #\n",
    "##########################################\n",
    "import torch\n",
    "\n",
    "device = \"cuda\" if torch.cuda.is_available() else \"cpu\"\n",
    "inverse_model = Inverse_Operator().to(device)\n",
    "# inverse_model.load_state_dict(torch.load('normal_checkpoints/checkpoints_epoch150/model_weights_inverse_operator_best.pth'))\n",
    "forward_model = Forward_Operator().to(device)\n",
    "# forward_model.load_state_dict(torch.load('normal_checkpoints/checkpoints_epoch150/model_weights_forward_operator_best.pth'))\n",
    "dis = Discriminator(input_shape=7520).to(device)\n",
    "# dis.load_state_dict(torch.load('normal_checkpoints/checkpoints_epoch150/model_weights_discriminator_best.pth'))"
   ],
   "id": "1cce5aef8790ed3f",
   "outputs": [],
   "execution_count": 106
  },
  {
   "metadata": {
    "ExecuteTime": {
     "end_time": "2025-10-02T16:30:10.355322Z",
     "start_time": "2025-10-02T16:30:10.342553Z"
    }
   },
   "cell_type": "code",
   "source": [
    "##########################################\n",
    "#         Optimizer Configuration        #\n",
    "##########################################\n",
    "# device = \"cuda\" if torch.cuda.is_available() else \"cpu\"\n",
    "# inverse_model = Inverse_Operator().to(device)\n",
    "# forward_model = Forward_Operator().to(device)\n",
    "# dis = Discriminator().to(device)\n",
    "opt_inverse = optim.Adam(inverse_model.parameters(), lr = 0.00002, betas = (0.5, 0.999))\n",
    "opt_forward = optim.Adam(forward_model.parameters(), lr = 0.00002, betas = (0.5, 0.999))\n",
    "opt_dis = optim.Adam(dis.parameters(), lr = 0.00002, betas = (0.5, 0.999))\n",
    "mask[mask<1].shape\n"
   ],
   "id": "d4681e9be1ad1c9b",
   "outputs": [
    {
     "data": {
      "text/plain": [
       "(429540,)"
      ]
     },
     "execution_count": 107,
     "metadata": {},
     "output_type": "execute_result"
    }
   ],
   "execution_count": 107
  },
  {
   "metadata": {
    "ExecuteTime": {
     "end_time": "2025-10-02T16:30:11.447304Z",
     "start_time": "2025-10-02T16:30:11.433688Z"
    }
   },
   "cell_type": "code",
   "source": [
    "##########################################\n",
    "#            Loss Function               #\n",
    "##########################################\n",
    "import torch\n",
    "import torch.nn.functional as F\n",
    "import torch.nn as nn\n",
    "\n",
    "\n",
    "def Weighted_Loss(x, x_head, mask):\n",
    "    # Compute the maximum value over the last two dimensions sequentially\n",
    "    x_max = x.max(dim=-1, keepdim=True)[0].max(dim=-2, keepdim=True)[0]\n",
    "\n",
    "    # Normalize the input tensors by the maximum value\n",
    "    x_normalized = x / (x_max + 1e-6) * mask\n",
    "    x_head_normalized = x_head / (x_max + 1e-6)* mask\n",
    "\n",
    "    #mask_ind = mask<0.01\n",
    "\n",
    "    # Compute and return the L1 loss\n",
    "    return F.l1_loss(x, x_head) + F.l1_loss(x_normalized, x_head_normalized) #  + F.l1_loss(x_head[mask_ind],mask[mask_ind])\n",
    "\n",
    "# Example usage\n",
    "loss = Weighted_Loss(torch.randn(2, 7, 32, 32), torch.randn(2, 7, 32, 32), torch.randn(2, 7, 32, 32))\n",
    "# print(loss)\n",
    "\n",
    "\n",
    "bce = nn.BCEWithLogitsLoss()"
   ],
   "id": "7e6ee958e2efa587",
   "outputs": [],
   "execution_count": 108
  },
  {
   "metadata": {
    "ExecuteTime": {
     "end_time": "2025-10-02T16:30:13.254152Z",
     "start_time": "2025-10-02T16:30:13.239879Z"
    }
   },
   "cell_type": "code",
   "source": [
    "import wandb\n",
    "from sklearn.metrics import r2_score\n",
    "\n",
    "def test_fn(inverse_model, loader, epoch, device):\n",
    "    inverse_model.eval()\n",
    "    pbart = tqdm.tqdm(loader, leave=True)\n",
    "    mselosses = 0\n",
    "    gt_max, pred_max = [], []\n",
    "\n",
    "    with torch.no_grad():\n",
    "        for idx, (pert_label, mask, b_optics, b_tar, Mua_Ground_Truth) in enumerate(pbart):\n",
    "            pert_label = pert_label.to(device)\n",
    "            mask = mask.to(device)\n",
    "            b_optics = b_optics.to(device)\n",
    "            Mua_Ground_Truth = Mua_Ground_Truth.to(device)\n",
    "            mask_ran = mask\n",
    "\n",
    "            Mua_Recons = inverse_model(mask, pert_label, b_optics)\n",
    "            mse, gt_list, pred_list = mse_error(Mua_Ground_Truth, Mua_Recons, mask_ran)\n",
    "\n",
    "            gt_max.extend(gt_list)\n",
    "            pred_max.extend(pred_list)\n",
    "\n",
    "            mselosses += mse.item()\n",
    "\n",
    "            if idx % 10 == 0:\n",
    "                pbart.set_postfix(Mean_Square_Error=mse.item())\n",
    "\n",
    "    if epoch % 3 == 0:\n",
    "\n",
    "        fig = error_plot(pred_max, gt_max, epoch)\n",
    "        wandb.log({f\"Boxplot Predictions vs GT (Epoch {epoch})\": wandb.Image(fig)}, step=epoch)\n",
    "        plt.close(fig)  # 🔑 close to avoid memory leak\n",
    "\n",
    "    return mselosses / len(pbart), r2_score(gt_max, pred_max)"
   ],
   "id": "d04ff13a9d0e8373",
   "outputs": [],
   "execution_count": 109
  },
  {
   "metadata": {
    "ExecuteTime": {
     "end_time": "2025-10-02T16:30:18.866350Z",
     "start_time": "2025-10-02T16:30:18.850331Z"
    }
   },
   "cell_type": "code",
   "source": [
    "##########################################\n",
    "#            Train Function              #\n",
    "##########################################\n",
    "\n",
    "def train_fn(inverse_model, forward_model, dis, loader, opt_inverse, opt_forward, opt_dis, epoch, device):\n",
    "    inverse_model.train() # Ensure training mode\n",
    "    forward_model.train()\n",
    "    dis.train()\n",
    "    pbar = tqdm.tqdm(loader, leave=True)\n",
    "\n",
    "    # Initialize loss accumulators\n",
    "    epoch_p2p_loss_pert = 0\n",
    "    epoch_p2p_loss_recons = 0\n",
    "    epoch_r2r_loss_recons = 0\n",
    "    epoch_d_fake = 0\n",
    "    epoch_d_fake2 = 0\n",
    "    epoch_d_real = 0\n",
    "    epoch_r2r_g_fake_loss = 0\n",
    "\n",
    "    for idx, (pert_label, mask, b_optics, b_tar, Mua_Ground_Truth) in enumerate(pbar):\n",
    "        # Determine the current batch size dynamically\n",
    "        batch_size = Mua_Ground_Truth.shape[0]\n",
    "\n",
    "        pert_label = pert_label.to(device) # input tabular type\n",
    "        mask = mask.to(device) # target image type\n",
    "        mask_ran = mask\n",
    "        b_optics = b_optics.to(device)\n",
    "        Mua_Ground_Truth = Mua_Ground_Truth.to(device)\n",
    "\n",
    "        ## Train Perturbation to Perturbation (P2P) model\n",
    "        ##########################################\n",
    "        Mua_Recons = inverse_model(mask_ran, pert_label, b_optics)\n",
    "        pert_pred = forward_model(Mua_Recons, b_optics)\n",
    "\n",
    "        # Loss: P2P\n",
    "        loss_pert = F.l1_loss(pert_label[:,:18,:], pert_pred)\n",
    "        loss_recons1 = Weighted_Loss(Mua_Ground_Truth*mask_ran, Mua_Recons, mask_ran) * 1.5\n",
    "        loss_recons = loss_recons1 + loss_pert\n",
    "\n",
    "        # Discriminator Input Features (Robust Concatenation)\n",
    "        # Bx2 -> Bx40 | Bx1 -> Bx60\n",
    "        optics_repeated = b_optics[:, :2].repeat(1, 20)\n",
    "        mua_max_repeated_gt = Mua_Ground_Truth.amax(dim=[1, 2, 3]).unsqueeze(1).repeat(1, 60)\n",
    "\n",
    "        ### Train the discriminator (P2P path)\n",
    "        D_real = dis(mask_ran, pert_label, torch.cat([optics_repeated, mua_max_repeated_gt], dim=1))\n",
    "        D_real_loss = bce(D_real, torch.ones_like(D_real))\n",
    "\n",
    "        pert_pred_noisy = pert_pred + torch.randn_like(pert_pred) * 0.25\n",
    "        D_fake = dis(mask_ran, pert_pred_noisy.detach(), torch.cat([optics_repeated, mua_max_repeated_gt], dim=1))\n",
    "        D_fake_loss = bce(D_fake, torch.zeros_like(D_fake))\n",
    "\n",
    "        # Weight update for the inverse operator (P2P)\n",
    "        opt_inverse.zero_grad()\n",
    "        opt_forward.zero_grad()\n",
    "        loss_recons.backward(retain_graph=True) # Retain graph needed for simultaneous backward passes\n",
    "        opt_inverse.step()\n",
    "        opt_forward.step()\n",
    "\n",
    "        ## Train Reconstruction to Reconstruction (R2R) model\n",
    "        ##########################################\n",
    "        Mua_GT_generated, mask_gen, optics_gen = Generate_Reconstruction_Image_Fast()\n",
    "        Mua_GT_generated = torch.tensor(Mua_GT_generated, dtype=torch.float32, device=device)\n",
    "        mask_gen = torch.tensor(mask_gen, dtype=torch.float32, device=device)\n",
    "        optics_gen = torch.tensor(optics_gen, dtype=torch.float32, device=device)\n",
    "        pert_pred2 = forward_model(Mua_GT_generated, optics_gen)\n",
    "\n",
    "        # Discriminator Input Features (R2R)\n",
    "        optics_gen_repeated = optics_gen[:, :2].repeat(1, 20)\n",
    "        mua_max_repeated_gen = Mua_GT_generated.amax(dim=[1, 2, 3]).unsqueeze(1).repeat(1, 60)\n",
    "\n",
    "        ### Train the discriminator (R2R path)\n",
    "        pert_pred2_noisy = pert_pred2 + torch.randn_like(pert_pred2) * 0.25\n",
    "        D_fake2 = dis(mask_gen, pert_pred2_noisy.detach(), torch.cat([optics_gen_repeated, mua_max_repeated_gen], dim=1))\n",
    "\n",
    "        # FIX: Base target on D_fake2, not D_fake, to match R2R batch size (16)\n",
    "        D_fake_loss2 = bce(D_fake2, torch.zeros_like(D_fake2))\n",
    "\n",
    "        # Weight update for the discriminator\n",
    "        D_loss = (D_fake_loss * 0.2 + D_real_loss + D_fake_loss2) / 3\n",
    "        opt_dis.zero_grad()\n",
    "        D_loss.backward()\n",
    "        opt_dis.step()\n",
    "\n",
    "        # Train the Generator (Inverse/Forward models) via Adversarial Loss\n",
    "        Mua_Recons = inverse_model(mask_gen, pert_pred2, optics_gen)\n",
    "        D_fake3 = dis(mask_gen, pert_pred2, torch.cat([optics_gen_repeated, mua_max_repeated_gen], dim=1))\n",
    "\n",
    "        # FIX: Base target on D_fake3\n",
    "        G_fake_loss = bce(D_fake3, torch.ones_like(D_fake3))\n",
    "\n",
    "        # Loss: R2R\n",
    "        loss_recons3 = Weighted_Loss(Mua_GT_generated * mask_gen, Mua_Recons, mask_gen) * 1.5\n",
    "        loss_recons5 = loss_recons3 + G_fake_loss * 0.001\n",
    "\n",
    "        # Weight update for the inverse operator (R2R)\n",
    "        opt_inverse.zero_grad()\n",
    "        opt_forward.zero_grad()\n",
    "        loss_recons5.backward()\n",
    "        opt_inverse.step()\n",
    "        opt_forward.step()\n",
    "\n",
    "        # Accumulate losses\n",
    "        epoch_p2p_loss_pert += loss_pert.item()\n",
    "        epoch_p2p_loss_recons += loss_recons1.item()\n",
    "        epoch_r2r_loss_recons += loss_recons3.item()\n",
    "        epoch_d_fake += D_fake_loss.item()\n",
    "        epoch_d_fake2 += D_fake_loss2.item()\n",
    "        epoch_d_real += D_real_loss.item()\n",
    "        epoch_r2r_g_fake_loss += G_fake_loss.item()\n",
    "\n",
    "        if idx % 10 == 0:\n",
    "            pbar.set_postfix(\n",
    "                P2P_loss_pert = loss_pert.item(),\n",
    "                P2P_loss_recons = loss_recons1.item(),\n",
    "                R2R_loss_recons = loss_recons3.item(),\n",
    "                D_fake = D_fake_loss.item(),\n",
    "                D_fake2 = D_fake_loss2.item(),\n",
    "                D_real = D_real_loss.item(),\n",
    "                R2R_G_fake_loss = G_fake_loss.item()\n",
    "            )\n",
    "\n",
    "    num_batches = len(loader)\n",
    "    # Return average losses for epoch-level logging\n",
    "    return {\n",
    "        \"train/avg_P2P_loss_pert\": epoch_p2p_loss_pert / num_batches,\n",
    "        \"train/avg_P2P_loss_recons\": epoch_p2p_loss_recons / num_batches,\n",
    "        \"train/avg_R2R_loss_recons\": epoch_r2r_loss_recons / num_batches,\n",
    "        \"train/avg_D_fake\": epoch_d_fake / num_batches,\n",
    "        \"train/avg_D_fake2\": epoch_d_fake2 / num_batches,\n",
    "        \"train/avg_D_real\": epoch_d_real / num_batches,\n",
    "        \"train/avg_R2R_G_fake_loss\": epoch_r2r_g_fake_loss / num_batches\n",
    "    }"
   ],
   "id": "cd6f34ae38405c31",
   "outputs": [],
   "execution_count": 110
  },
  {
   "metadata": {
    "ExecuteTime": {
     "end_time": "2025-10-02T16:30:20.054558Z",
     "start_time": "2025-10-02T16:30:20.040930Z"
    }
   },
   "cell_type": "code",
   "source": [
    "\n",
    "wandb.init(\n",
    "    project=\"Inverse_Operator_Training\", # ⬅️ Set your project name\n",
    "    name=\"GAN_P2P_R2R_Run_v1\",          # ⬅️ Set a unique run name\n",
    "    config={\n",
    "        \"epochs\": 500,\n",
    "        \"optimizer_params\": \"Adam\",\n",
    "        \"loss_weights\": \"L1 + 1.5*Weighted_Loss + 0.001*G_fake_loss\",\n",
    "    }\n",
    ")\n",
    "\n",
    "def upload_to_wandb(log_dict, step):\n",
    "    \"\"\"\n",
    "    Logs a dictionary of metrics to Weights & Biases.\n",
    "    \"\"\"\n",
    "    # This command sends the metrics dictionary and the current step (epoch number) to wandb.\n",
    "    wandb.log(log_dict, step=step)"
   ],
   "id": "e93cd0e6cb62b657",
   "outputs": [],
   "execution_count": 111
  },
  {
   "metadata": {
    "ExecuteTime": {
     "end_time": "2025-10-02T16:28:44.769094Z",
     "start_time": "2025-10-02T16:28:42.687112Z"
    }
   },
   "cell_type": "code",
   "source": [
    "import torch\n",
    "##########################################\n",
    "#                Main Loop               #\n",
    "##########################################\n",
    "epochs = 500\n",
    "best_r_score = -10\n",
    "best_phan_score = -10\n",
    "device = \"cuda\" if torch.cuda.is_available() else \"cpu\"\n",
    "\n",
    "for epoch in range(epochs):\n",
    "    # 1. Training and getting average losses for the epoch\n",
    "    # train_metrics = train_fn(inverse_model, forward_model, dis, train_dataloader, opt_inverse, opt_forward, opt_dis, epoch, device)\n",
    "\n",
    "    with torch.no_grad():\n",
    "        # FIX: Correctly call the plotting function with arguments\n",
    "        # fig = graph_first_five_multi_slice(epoch, inverse_model, test_dataloader, device)\n",
    "        # if fig is not None:\n",
    "        #     wandb.log({f\"Reconstructions/first5_grid_epoch{epoch}\": wandb.Image(fig)}, step=epoch)\n",
    "        #     plt.close(fig)   # avoid memory leak\n",
    "\n",
    "        # 2. Validation metrics (Test Dataloader)\n",
    "        val_mse, val_r_score = test_fn(inverse_model, test_dataloader, epoch, device)\n",
    "        #\n",
    "        # # Log validation metrics\n",
    "        # val_metrics = {\n",
    "        #     \"val/mse\": val_mse,\n",
    "        #     \"val/r_score\": val_r_score\n",
    "        # }\n",
    "        #\n",
    "        # # Combine and upload all metrics to wandb\n",
    "        # combined_metrics = {**train_metrics, **val_metrics}\n",
    "        # upload_to_wandb(combined_metrics, step=epoch) # Log combined metrics\n",
    "        #\n",
    "        # if best_r_score < val_r_score:\n",
    "        #         torch.save(inverse_model.state_dict(), 'checkpoints/model_weights_inverse_operator_best.pth')\n",
    "        #         torch.save(forward_model.state_dict(), 'checkpoints/model_weights_forward_operator_best.pth')\n",
    "        #         torch.save(dis.state_dict(), 'checkpoints/model_weights_discriminator_best.pth')\n",
    "        #         best_r_score = val_r_score\n",
    "        #         # Log best r_score to wandb summary\n",
    "        #         wandb.run.summary[\"best_val_r_score\"] = best_r_score\n",
    "\n",
    "        #\n",
    "        # if epoch % 3 == 0:\n",
    "        #      # 3. Phantom metrics\n",
    "        #      phan_mse, phan_r_score = test_fn(inverse_model, phan_dataloader, epoch, device)\n",
    "        #\n",
    "        #      # Log phantom metrics\n",
    "        #      phan_metrics = {\n",
    "        #          \"phan/mse\": phan_mse,\n",
    "        #          \"phan/r_score\": phan_r_score\n",
    "        #      }\n",
    "        #\n",
    "        #      # Re-log all metrics including phantom data for this step\n",
    "        #      combined_metrics_with_phan = {**combined_metrics, **phan_metrics}\n",
    "        #      upload_to_wandb(combined_metrics_with_phan, step=epoch)\n",
    "        #\n",
    "        #\n",
    "        #      if best_phan_score < phan_r_score:\n",
    "        #          best_phan_score = phan_r_score\n",
    "        #          # Log best phan_score to wandb summary\n",
    "        #          wandb.run.summary[\"best_phan_r_score\"] = best_phan_score\n",
    "        #\n",
    "        #      print(\"P2P Inverse Model:: \", \"Epoch: \", epoch, \"Test Mse: \", val_mse,\"Test r_score: \", val_r_score, \"Test phan r_score: \", phan_r_score)\n",
    "\n",
    "            # Use the refactored sample_plot_image with the phantom dataloader\n",
    "            # sample_plot_image(inverse_model, phan_dataloader, device)\n",
    "\n",
    "# ----------------------------------------------------------------------\n",
    "\n",
    "# REQUIRED: Call wandb.finish() once the training is complete.\n",
    "wandb.finish()"
   ],
   "id": "ae1e6bb18cdc5828",
   "outputs": [
    {
     "name": "stderr",
     "output_type": "stream",
     "text": [
      " 11%|█▏        | 47/409 [00:02<00:15, 23.16it/s, Mean_Square_Error=0.0105]\n"
     ]
    },
    {
     "ename": "KeyboardInterrupt",
     "evalue": "",
     "output_type": "error",
     "traceback": [
      "\u001B[1;31m---------------------------------------------------------------------------\u001B[0m",
      "\u001B[1;31mKeyboardInterrupt\u001B[0m                         Traceback (most recent call last)",
      "Cell \u001B[1;32mIn[80], line 22\u001B[0m\n\u001B[0;32m     10\u001B[0m \u001B[38;5;28;01mfor\u001B[39;00m epoch \u001B[38;5;129;01min\u001B[39;00m \u001B[38;5;28mrange\u001B[39m(epochs):\n\u001B[0;32m     11\u001B[0m     \u001B[38;5;66;03m# 1. Training and getting average losses for the epoch\u001B[39;00m\n\u001B[0;32m     12\u001B[0m     \u001B[38;5;66;03m# train_metrics = train_fn(inverse_model, forward_model, dis, train_dataloader, opt_inverse, opt_forward, opt_dis, epoch, device)\u001B[39;00m\n\u001B[0;32m     14\u001B[0m     \u001B[38;5;28;01mwith\u001B[39;00m torch\u001B[38;5;241m.\u001B[39mno_grad():\n\u001B[0;32m     15\u001B[0m         \u001B[38;5;66;03m# FIX: Correctly call the plotting function with arguments\u001B[39;00m\n\u001B[0;32m     16\u001B[0m         \u001B[38;5;66;03m# fig = graph_first_five_multi_slice(epoch, inverse_model, test_dataloader, device)\u001B[39;00m\n\u001B[1;32m   (...)\u001B[0m\n\u001B[0;32m     20\u001B[0m \n\u001B[0;32m     21\u001B[0m         \u001B[38;5;66;03m# 2. Validation metrics (Test Dataloader)\u001B[39;00m\n\u001B[1;32m---> 22\u001B[0m         val_mse, val_r_score \u001B[38;5;241m=\u001B[39m \u001B[43mtest_fn\u001B[49m\u001B[43m(\u001B[49m\u001B[43minverse_model\u001B[49m\u001B[43m,\u001B[49m\u001B[43m \u001B[49m\u001B[43mtest_dataloader\u001B[49m\u001B[43m,\u001B[49m\u001B[43m \u001B[49m\u001B[43mepoch\u001B[49m\u001B[43m,\u001B[49m\u001B[43m \u001B[49m\u001B[43mdevice\u001B[49m\u001B[43m)\u001B[49m\n\u001B[0;32m     23\u001B[0m         \u001B[38;5;66;03m#\u001B[39;00m\n\u001B[0;32m     24\u001B[0m         \u001B[38;5;66;03m# # Log validation metrics\u001B[39;00m\n\u001B[0;32m     25\u001B[0m         \u001B[38;5;66;03m# val_metrics = {\u001B[39;00m\n\u001B[1;32m   (...)\u001B[0m\n\u001B[0;32m     69\u001B[0m \n\u001B[0;32m     70\u001B[0m \u001B[38;5;66;03m# REQUIRED: Call wandb.finish() once the training is complete.\u001B[39;00m\n\u001B[0;32m     71\u001B[0m wandb\u001B[38;5;241m.\u001B[39mfinish()\n",
      "Cell \u001B[1;32mIn[77], line 19\u001B[0m, in \u001B[0;36mtest_fn\u001B[1;34m(inverse_model, loader, epoch, device)\u001B[0m\n\u001B[0;32m     16\u001B[0m mask_ran \u001B[38;5;241m=\u001B[39m mask\n\u001B[0;32m     18\u001B[0m Mua_Recons \u001B[38;5;241m=\u001B[39m inverse_model(mask, pert_label, b_optics)\n\u001B[1;32m---> 19\u001B[0m mse, gt_list, pred_list \u001B[38;5;241m=\u001B[39m \u001B[43mmse_error\u001B[49m\u001B[43m(\u001B[49m\u001B[43mMua_Ground_Truth\u001B[49m\u001B[43m,\u001B[49m\u001B[43m \u001B[49m\u001B[43mMua_Recons\u001B[49m\u001B[43m,\u001B[49m\u001B[43m \u001B[49m\u001B[43mmask_ran\u001B[49m\u001B[43m)\u001B[49m\n\u001B[0;32m     21\u001B[0m gt_max\u001B[38;5;241m.\u001B[39mextend(gt_list)\n\u001B[0;32m     22\u001B[0m pred_max\u001B[38;5;241m.\u001B[39mextend(pred_list)\n",
      "Cell \u001B[1;32mIn[64], line 20\u001B[0m, in \u001B[0;36mmse_error\u001B[1;34m(x, x_head, mask)\u001B[0m\n\u001B[0;32m     17\u001B[0m recon_max_spatial \u001B[38;5;241m=\u001B[39m recon_masked\u001B[38;5;241m.\u001B[39mamax(dim\u001B[38;5;241m=\u001B[39m[\u001B[38;5;241m-\u001B[39m\u001B[38;5;241m1\u001B[39m, \u001B[38;5;241m-\u001B[39m\u001B[38;5;241m2\u001B[39m])\n\u001B[0;32m     19\u001B[0m \u001B[38;5;66;03m# Get max over slices (C), shape [B] -> [16]\u001B[39;00m\n\u001B[1;32m---> 20\u001B[0m gt_max_per_sample \u001B[38;5;241m=\u001B[39m \u001B[43mgt_max_spatial\u001B[49m\u001B[38;5;241;43m.\u001B[39;49m\u001B[43mamax\u001B[49m\u001B[43m(\u001B[49m\u001B[43mdim\u001B[49m\u001B[38;5;241;43m=\u001B[39;49m\u001B[38;5;241;43m1\u001B[39;49m\u001B[43m)\u001B[49m\u001B[38;5;241;43m.\u001B[39;49m\u001B[43mdetach\u001B[49m\u001B[43m(\u001B[49m\u001B[43m)\u001B[49m\u001B[38;5;241;43m.\u001B[39;49m\u001B[43mcpu\u001B[49m\u001B[43m(\u001B[49m\u001B[43m)\u001B[49m\u001B[38;5;241m.\u001B[39mtolist()\n\u001B[0;32m     21\u001B[0m recon_max_per_sample \u001B[38;5;241m=\u001B[39m recon_max_spatial\u001B[38;5;241m.\u001B[39mamax(dim\u001B[38;5;241m=\u001B[39m\u001B[38;5;241m1\u001B[39m)\u001B[38;5;241m.\u001B[39mdetach()\u001B[38;5;241m.\u001B[39mcpu()\u001B[38;5;241m.\u001B[39mtolist()\n\u001B[0;32m     23\u001B[0m \u001B[38;5;66;03m# Return: (Loss, list of 16 GT maxes, list of 16 Recon maxes)\u001B[39;00m\n",
      "\u001B[1;31mKeyboardInterrupt\u001B[0m: "
     ]
    }
   ],
   "execution_count": 80
  },
  {
   "metadata": {},
   "cell_type": "code",
   "source": [
    "##########################################\n",
    "#                Testing                 #\n",
    "##########################################\n",
    "\n",
    "sample_plot_image_all(inverse_model)\n",
    "\n",
    "torch.save(inverse_model.state_dict(), 'checkpoints/model_weights_inverse_operator.pth')\n",
    "torch.save(forward_model.state_dict(), 'checkpoints/model_weights_forward_operator.pth')\n",
    "torch.save(dis.state_dict(), 'checkpoints/model_weights_discriminator.pth')\n",
    "\n",
    "\n",
    "inverse_model = Inverse_Operator()  # Initialize the model\n",
    "inverse_model.load_state_dict(\n",
    "    torch.load('checkpoints/experiment1/model_weights_inverse_operator.pth'))  # Load the weights\n",
    "inverse_model.eval()  # Set the model to evaluation mode\n",
    "\n"
   ],
   "id": "bbcfb05d699d5476",
   "outputs": [],
   "execution_count": null
  },
  {
   "metadata": {},
   "cell_type": "code",
   "source": "",
   "id": "f9a1321114282d7c",
   "outputs": [],
   "execution_count": null
  }
 ],
 "metadata": {
  "kernelspec": {
   "display_name": "Python 3",
   "language": "python",
   "name": "python3"
  },
  "language_info": {
   "codemirror_mode": {
    "name": "ipython",
    "version": 2
   },
   "file_extension": ".py",
   "mimetype": "text/x-python",
   "name": "python",
   "nbconvert_exporter": "python",
   "pygments_lexer": "ipython2",
   "version": "2.7.6"
  }
 },
 "nbformat": 4,
 "nbformat_minor": 5
}
