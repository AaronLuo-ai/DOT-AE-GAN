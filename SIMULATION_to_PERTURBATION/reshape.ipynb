{
 "cells": [
  {
   "cell_type": "code",
   "id": "initial_id",
   "metadata": {
    "collapsed": true,
    "ExecuteTime": {
     "end_time": "2025-10-01T15:24:55.915498Z",
     "start_time": "2025-10-01T15:24:55.155031Z"
    }
   },
   "source": [
    "import os\n",
    "import glob\n",
    "import numpy as np\n",
    "\n",
    "def main():\n",
    "    # Base folder with lesion subfolders\n",
    "    base_path = r\"C:\\Users\\aaron.l\\PycharmProjects\\DOT-AE-GAN\\SIMULATION_to_PERTURBATION\\output\"\n",
    "\n",
    "    # Find all lesion folders\n",
    "    lesion_folders = glob.glob(os.path.join(base_path, \"lesion_*\"))\n",
    "\n",
    "    for folder_path in lesion_folders:\n",
    "        lesion_num = os.path.basename(folder_path).split(\"_\")[1]\n",
    "\n",
    "        # File paths\n",
    "        fine_mesh_file = os.path.join(folder_path, f\"All_fine_meshes_phan_lesion{lesion_num}.npy\")\n",
    "        gt_file = os.path.join(folder_path, f\"All_ground_truth_phan_lesion{lesion_num}.npy\")\n",
    "\n",
    "        try:\n",
    "            if os.path.exists(fine_mesh_file):\n",
    "                fine_mesh = np.load(fine_mesh_file)\n",
    "                if fine_mesh.shape[-2:] == (33, 33):\n",
    "                    fine_mesh = fine_mesh[:, :, :32, :32]\n",
    "                    np.save(fine_mesh_file, fine_mesh)  # overwrite\n",
    "                    print(f\"✅ Cropped fine_mesh {lesion_num} to {fine_mesh.shape}\")\n",
    "\n",
    "            if os.path.exists(gt_file):\n",
    "                gt = np.load(gt_file)\n",
    "                if gt.shape[-2:] == (33, 33):\n",
    "                    gt = gt[:, :, :32, :32]\n",
    "                    np.save(gt_file, gt)  # overwrite\n",
    "                    print(f\"✅ Cropped ground_truth {lesion_num} to {gt.shape}\")\n",
    "\n",
    "        except Exception as e:\n",
    "            print(f\"❌ Error processing lesion {lesion_num}: {e}\")\n",
    "\n",
    "if __name__ == \"__main__\":\n",
    "    main()\n"
   ],
   "outputs": [
    {
     "name": "stdout",
     "output_type": "stream",
     "text": [
      "✅ Cropped fine_mesh 63 to (60, 7, 32, 32)\n",
      "✅ Cropped ground_truth 63 to (60, 7, 32, 32)\n",
      "✅ Cropped fine_mesh 64 to (60, 7, 32, 32)\n",
      "✅ Cropped ground_truth 64 to (60, 7, 32, 32)\n",
      "✅ Cropped fine_mesh 65 to (60, 7, 32, 32)\n",
      "✅ Cropped ground_truth 65 to (60, 7, 32, 32)\n",
      "✅ Cropped fine_mesh 66 to (60, 7, 32, 32)\n",
      "✅ Cropped ground_truth 66 to (60, 7, 32, 32)\n",
      "✅ Cropped fine_mesh 67 to (60, 7, 32, 32)\n",
      "✅ Cropped ground_truth 67 to (60, 7, 32, 32)\n",
      "✅ Cropped fine_mesh 68 to (60, 7, 32, 32)\n",
      "✅ Cropped ground_truth 68 to (60, 7, 32, 32)\n",
      "✅ Cropped fine_mesh 69 to (60, 7, 32, 32)\n",
      "✅ Cropped ground_truth 69 to (60, 7, 32, 32)\n",
      "✅ Cropped fine_mesh 70 to (60, 7, 32, 32)\n",
      "✅ Cropped ground_truth 70 to (60, 7, 32, 32)\n",
      "✅ Cropped fine_mesh 71 to (60, 7, 32, 32)\n",
      "✅ Cropped ground_truth 71 to (60, 7, 32, 32)\n",
      "✅ Cropped fine_mesh 72 to (60, 7, 32, 32)\n",
      "✅ Cropped ground_truth 72 to (60, 7, 32, 32)\n",
      "✅ Cropped fine_mesh 73 to (60, 7, 32, 32)\n",
      "✅ Cropped ground_truth 73 to (60, 7, 32, 32)\n",
      "✅ Cropped fine_mesh 74 to (60, 7, 32, 32)\n",
      "✅ Cropped ground_truth 74 to (60, 7, 32, 32)\n",
      "✅ Cropped fine_mesh 75 to (60, 7, 32, 32)\n",
      "✅ Cropped ground_truth 75 to (60, 7, 32, 32)\n",
      "✅ Cropped fine_mesh 76 to (60, 7, 32, 32)\n",
      "✅ Cropped ground_truth 76 to (60, 7, 32, 32)\n",
      "✅ Cropped fine_mesh 77 to (60, 7, 32, 32)\n",
      "✅ Cropped ground_truth 77 to (60, 7, 32, 32)\n"
     ]
    }
   ],
   "execution_count": 1
  },
  {
   "metadata": {
    "ExecuteTime": {
     "end_time": "2025-10-01T15:24:55.921949Z",
     "start_time": "2025-10-01T15:24:55.915498Z"
    }
   },
   "cell_type": "code",
   "source": "",
   "id": "7a1dce4a51e8797c",
   "outputs": [],
   "execution_count": null
  },
  {
   "metadata": {
    "ExecuteTime": {
     "end_time": "2025-10-01T15:24:55.928794Z",
     "start_time": "2025-10-01T15:24:55.921949Z"
    }
   },
   "cell_type": "code",
   "source": "",
   "id": "510886e6a21aa68d",
   "outputs": [],
   "execution_count": null
  }
 ],
 "metadata": {
  "kernelspec": {
   "display_name": "Python 3",
   "language": "python",
   "name": "python3"
  },
  "language_info": {
   "codemirror_mode": {
    "name": "ipython",
    "version": 2
   },
   "file_extension": ".py",
   "mimetype": "text/x-python",
   "name": "python",
   "nbconvert_exporter": "python",
   "pygments_lexer": "ipython2",
   "version": "2.7.6"
  }
 },
 "nbformat": 4,
 "nbformat_minor": 5
}
