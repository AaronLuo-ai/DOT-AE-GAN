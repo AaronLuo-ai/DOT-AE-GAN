{
 "cells": [
  {
   "cell_type": "code",
   "execution_count": 56,
   "id": "1045cbda-34d1-4f2f-b326-f188f9cd3f60",
   "metadata": {},
   "outputs": [],
   "source": [
    "import scipy.io\n",
    "import os \n",
    "import matplotlib.pyplot as plt\n",
    "from scipy.ndimage import zoom\n",
    "import numpy as np\n",
    "import random "
   ]
  },
  {
   "cell_type": "code",
   "execution_count": 50,
   "id": "2562b67a-c8b6-4bfa-9583-c2a51145f0fb",
   "metadata": {},
   "outputs": [],
   "source": [
    "DATA_DIR = \"../dataset_simulated\""
   ]
  },
  {
   "cell_type": "code",
   "execution_count": 51,
   "id": "d5f744f7-aa48-442a-b5b1-534652c9ed91",
   "metadata": {},
   "outputs": [],
   "source": [
    "file_list = os.listdir(DATA_DIR)"
   ]
  },
  {
   "cell_type": "code",
   "execution_count": 52,
   "id": "6f780203-b192-4a15-8870-38c40a3dcdcc",
   "metadata": {},
   "outputs": [
    {
     "data": {
      "text/plain": [
       "1540"
      ]
     },
     "execution_count": 52,
     "metadata": {},
     "output_type": "execute_result"
    }
   ],
   "source": [
    "len(file_list)"
   ]
  },
  {
   "cell_type": "code",
   "execution_count": 53,
   "id": "d9c8e774-3f2f-4a5d-8546-03742a9eb322",
   "metadata": {},
   "outputs": [
    {
     "name": "stdout",
     "output_type": "stream",
     "text": [
      "1.5\n",
      "(252,)\n",
      "1.5\n",
      "(252,)\n",
      "1.5\n",
      "(252,)\n",
      "1.5\n",
      "(252,)\n"
     ]
    }
   ],
   "source": [
    "\n",
    "for j, file in enumerate(file_list):\n",
    "    mat_contents = scipy.io.loadmat(f'{DATA_DIR}/{file}')\n",
    "    #print(mat_contents)\n",
    "    reconstructed_data = mat_contents[\"volume7\"] \n",
    "    ground_truth = mat_contents[\"real_recon\"] \n",
    "    data_forsave = mat_contents[\"data_forsave\"]\n",
    "\n",
    "    target_depth = mat_contents[\"rtg1\"][0][2]\n",
    "    print(target_depth) \n",
    "    \n",
    "\n",
    "    real_mes = data_forsave[:126,0] \n",
    "    imag_mes = data_forsave[:126,1]\n",
    "\n",
    "\n",
    "    mes = np.concatenate([real_mes, imag_mes], axis = 0) \n",
    "    #print(data_forsave.shape)\n",
    "    print(mes.shape)\n",
    "\n",
    "    # for i in range(7):\n",
    "    #     plt.subplot(1, 7, i+1)\n",
    "    #     #print(ground_truth[:,16:-16,i].shape)\n",
    "    #     plt.imshow(ground_truth[:,16:-16,i], cmap= \"gray\", vmin = 0, vmax = 0.2)\n",
    "    # plt.show() \n",
    "\n",
    "    # print(\"====================================================================================\")\n",
    "    # for i in range(7):\n",
    "    #     plt.subplot(1, 7, i+1)\n",
    "    #     x =zoom(reconstructed_data[:,:,i], (1, 0.5))\n",
    "    #     plt.imshow(x, cmap= \"jet\", vmin = 0, vmax = 0.2)\n",
    "    # plt.show()\n",
    "    if j== 3: \n",
    "        break \n",
    "    #break "
   ]
  },
  {
   "cell_type": "code",
   "execution_count": 54,
   "id": "0936cd49",
   "metadata": {},
   "outputs": [
    {
     "name": "stdout",
     "output_type": "stream",
     "text": [
      "[[4.5  4.5  0.49]]\n"
     ]
    }
   ],
   "source": [
    "print(mat_contents['radius1'])\n"
   ]
  },
  {
   "cell_type": "code",
   "execution_count": 55,
   "id": "f6746957",
   "metadata": {},
   "outputs": [
    {
     "name": "stdout",
     "output_type": "stream",
     "text": [
      "[[4.5  4.5  0.49]]\n"
     ]
    }
   ],
   "source": [
    "print(mat_contents['radius2'])"
   ]
  },
  {
   "cell_type": "code",
   "execution_count": 48,
   "id": "e3fff150",
   "metadata": {},
   "outputs": [
    {
     "name": "stdout",
     "output_type": "stream",
     "text": [
      "[[-9.99389339e-01 -2.41301971e-03  6.51668819e+00]\n",
      " [-9.91398077e-01 -1.05091557e-02  5.71809033e+00]\n",
      " [-9.66599596e-01 -2.29215328e-02  4.79102588e+00]\n",
      " ...\n",
      " [-9.99067553e-01 -2.76383940e-03  6.65896516e+00]\n",
      " [-1.00005276e+00 -5.02937650e-04  5.89249014e+00]\n",
      " [-1.00001936e+00 -6.08661582e-04  6.23301404e+00]]\n"
     ]
    }
   ],
   "source": [
    "print(mat_contents['data_forsave'])"
   ]
  },
  {
   "cell_type": "code",
   "execution_count": 45,
   "id": "f9ec14de-5493-4618-a8ad-6794604b5b87",
   "metadata": {},
   "outputs": [
    {
     "data": {
      "text/plain": [
       "dict_keys(['__header__', '__version__', '__globals__', 'data_forsave', 'mask', 'mua0', 'mus0', 'radius1', 'radius2', 'real_recon', 'rtg1', 'rtg2', 'ua1', 'ua2', 'volume7', 'weight_matrix'])"
      ]
     },
     "execution_count": 45,
     "metadata": {},
     "output_type": "execute_result"
    }
   ],
   "source": [
    "mat_contents.keys()"
   ]
  },
  {
   "cell_type": "code",
   "execution_count": 19,
   "id": "ea74b6c9-53cf-4470-8e79-d4b7641aa280",
   "metadata": {},
   "outputs": [],
   "source": [
    "ground_truth_new = ground_truth[:-1,16:-17,:]"
   ]
  },
  {
   "cell_type": "code",
   "execution_count": 20,
   "id": "326c0107-81d7-47e6-af5b-cc13e988fe7c",
   "metadata": {},
   "outputs": [
    {
     "data": {
      "text/plain": [
       "(32, 32, 7)"
      ]
     },
     "execution_count": 20,
     "metadata": {},
     "output_type": "execute_result"
    }
   ],
   "source": [
    "ground_truth_new.shape"
   ]
  },
  {
   "cell_type": "code",
   "execution_count": 21,
   "id": "701ad8de-2c4f-4ce1-972d-15770319a7c4",
   "metadata": {},
   "outputs": [],
   "source": [
    "reconstructed_data_new = zoom(reconstructed_data[:-1,:], (1, 0.5, 1)) "
   ]
  },
  {
   "cell_type": "code",
   "execution_count": 22,
   "id": "da904fd8-40a0-4b24-9153-19712255b128",
   "metadata": {},
   "outputs": [
    {
     "data": {
      "text/plain": [
       "(32, 32, 7)"
      ]
     },
     "execution_count": 22,
     "metadata": {},
     "output_type": "execute_result"
    }
   ],
   "source": [
    "reconstructed_data_new.shape"
   ]
  },
  {
   "cell_type": "code",
   "execution_count": 8,
   "id": "c5947207-d2c4-425c-ab25-037eef1f1242",
   "metadata": {},
   "outputs": [
    {
     "ename": "NameError",
     "evalue": "name 'ground_truth_new' is not defined",
     "output_type": "error",
     "traceback": [
      "\u001b[1;31m---------------------------------------------------------------------------\u001b[0m",
      "\u001b[1;31mNameError\u001b[0m                                 Traceback (most recent call last)",
      "Cell \u001b[1;32mIn[8], line 4\u001b[0m\n\u001b[0;32m      2\u001b[0m     plt\u001b[38;5;241m.\u001b[39msubplot(\u001b[38;5;241m1\u001b[39m, \u001b[38;5;241m7\u001b[39m, i\u001b[38;5;241m+\u001b[39m\u001b[38;5;241m1\u001b[39m)\n\u001b[0;32m      3\u001b[0m     \u001b[38;5;66;03m#print(ground_truth[:,16:-16,i].shape)\u001b[39;00m\n\u001b[1;32m----> 4\u001b[0m     plt\u001b[38;5;241m.\u001b[39mimshow(\u001b[43mground_truth_new\u001b[49m[:,:,i], cmap\u001b[38;5;241m=\u001b[39m \u001b[38;5;124m\"\u001b[39m\u001b[38;5;124mgray\u001b[39m\u001b[38;5;124m\"\u001b[39m, vmin \u001b[38;5;241m=\u001b[39m \u001b[38;5;241m0\u001b[39m, vmax \u001b[38;5;241m=\u001b[39m \u001b[38;5;241m0.2\u001b[39m)\n\u001b[0;32m      5\u001b[0m plt\u001b[38;5;241m.\u001b[39mshow() \n\u001b[0;32m      7\u001b[0m \u001b[38;5;28;01mfor\u001b[39;00m i \u001b[38;5;129;01min\u001b[39;00m \u001b[38;5;28mrange\u001b[39m(\u001b[38;5;241m7\u001b[39m):\n",
      "\u001b[1;31mNameError\u001b[0m: name 'ground_truth_new' is not defined"
     ]
    },
    {
     "data": {
      "image/png": "[encoded data removed]",
      "text/plain": [
       "<Figure size 640x480 with 1 Axes>"
      ]
     },
     "metadata": {},
     "output_type": "display_data"
    }
   ],
   "source": [
    "for i in range(7):\n",
    "    plt.subplot(1, 7, i+1)\n",
    "    #print(ground_truth[:,16:-16,i].shape)\n",
    "    plt.imshow(ground_truth_new[:,:,i], cmap= \"gray\", vmin = 0, vmax = 0.2)\n",
    "plt.show() \n",
    "\n",
    "for i in range(7):\n",
    "    plt.subplot(1, 7, i+1)\n",
    "    #print(ground_truth[:,16:-16,i].shape)\n",
    "    plt.imshow(reconstructed_data_new[:,:,i], cmap= \"gray\", vmin = 0, vmax = 0.2)\n",
    "plt.show() "
   ]
  },
  {
   "cell_type": "code",
   "execution_count": 60,
   "id": "4534b907",
   "metadata": {},
   "outputs": [
    {
     "name": "stdout",
     "output_type": "stream",
     "text": [
      "Random number between 2 and 3: 2.7436417605018986\n"
     ]
    }
   ],
   "source": [
    "random_number = random.uniform(2, 2.5)\n",
    "print(\"Random number between 2 and 3:\", random_number)"
   ]
  },
  {
   "cell_type": "code",
   "execution_count": 74,
   "id": "df9ac1c7-7a5a-4acb-9d29-d5679174b0d4",
   "metadata": {},
   "outputs": [],
   "source": [
    "X = [] \n",
    "Y = [] \n",
    "X_mes = []\n",
    "fine_meshes = []\n",
    "Target_depth = [] \n",
    "\n",
    "\n",
    "def insert_sphere(array, depth, radius, mua = 1):\n",
    "    z_range = np.linspace(0.5, 3.5, array.shape[0])\n",
    "    x_range = np.linspace(-4, 4, array.shape[1])\n",
    "    y_range = np.linspace(-4, 4, array.shape[2])\n",
    "    \n",
    "    # Get the index of the depth in the z-axis\n",
    "    #z_index = np.abs(z_range - depth).argmin()\n",
    "    \n",
    "    # Get the center index of the array\n",
    "    # center_x = array.shape[1] // 2\n",
    "    # center_y = array.shape[2] // 2\n",
    "    # center_z = z_index\n",
    "    \n",
    "    for i in range(array.shape[1]):\n",
    "        for j in range(array.shape[2]):\n",
    "            for k in range(array.shape[0]):\n",
    "                # Calculate distance from the center\n",
    "                distance = np.sqrt((x_range[i] - 0) ** 2 + (y_range[j] - 0) ** 2 + (z_range[k] - depth) ** 2)\n",
    "                if distance <= radius:\n",
    "                    array[k, i, j] = 1.0  # or any other value you choose for the sphere\n",
    "                \n",
    "    return array\n",
    "\n",
    "\n",
    "for j, file in enumerate(file_list):\n",
    "    mat_contents = scipy.io.loadmat(f'{DATA_DIR}/{file}')\n",
    "    #print(mat_contents)\n",
    "    reconstructed_data = mat_contents[\"volume7\"] \n",
    "    ground_truth = mat_contents[\"real_recon\"]\n",
    "    data_forsave = mat_contents[\"data_forsave\"]\n",
    "    target_depth = mat_contents[\"rtg1\"][0][2]\n",
    "    target_radius = mat_contents[\"radius1\"][0][2] \n",
    "\n",
    "\n",
    "\n",
    "    array = np.zeros((7, 32, 32))\n",
    "    fine_mesh = insert_sphere(array, target_depth, target_radius*random.uniform(1.5, 2.5))\n",
    "\n",
    "\n",
    "\n",
    "    real_mes = data_forsave[:126,0].reshape(9, 14)  \n",
    "    imag_mes = data_forsave[:126,1].reshape(9, 14) \n",
    "\n",
    "    mes = np.concatenate([real_mes, imag_mes], axis = 0)\n",
    "\n",
    "    ground_truth_new = ground_truth[:-1,16:-17,:]\n",
    "\n",
    "    reconstructed_data_new = zoom(reconstructed_data[:-1,:], (1, 0.5, 1)) \n",
    "\n",
    "    X.append(ground_truth_new.transpose((2,0,1))) \n",
    "    Y.append(reconstructed_data_new) \n",
    "    X_mes.append(mes)\n",
    "    Target_depth.append(target_depth)\n",
    "    fine_meshes.append(fine_mesh) "
   ]
  },
  {
   "cell_type": "code",
   "execution_count": 75,
   "id": "6a703809",
   "metadata": {},
   "outputs": [
    {
     "data": {
      "text/plain": [
       "(32, 32, 7)"
      ]
     },
     "execution_count": 75,
     "metadata": {},
     "output_type": "execute_result"
    }
   ],
   "source": [
    "Y[0].shape"
   ]
  },
  {
   "cell_type": "code",
   "execution_count": 76,
   "id": "1953d1dc",
   "metadata": {},
   "outputs": [
    {
     "data": {
      "text/plain": [
       "(18, 14)"
      ]
     },
     "execution_count": 76,
     "metadata": {},
     "output_type": "execute_result"
    }
   ],
   "source": [
    "X_mes[0].shape"
   ]
  },
  {
   "cell_type": "code",
   "execution_count": 77,
   "id": "69b6ec38",
   "metadata": {},
   "outputs": [
    {
     "data": {
      "text/plain": [
       "(7, 32, 32)"
      ]
     },
     "execution_count": 77,
     "metadata": {},
     "output_type": "execute_result"
    }
   ],
   "source": [
    "X[0].shape"
   ]
  },
  {
   "cell_type": "code",
   "execution_count": 78,
   "id": "8ab3a22e-91e9-40be-825c-cf55397bfc2c",
   "metadata": {},
   "outputs": [],
   "source": [
    "X_ground = np.array(X) "
   ]
  },
  {
   "cell_type": "code",
   "execution_count": 79,
   "id": "a711bcd7",
   "metadata": {},
   "outputs": [
    {
     "data": {
      "text/plain": [
       "0.14"
      ]
     },
     "execution_count": 79,
     "metadata": {},
     "output_type": "execute_result"
    }
   ],
   "source": [
    "X_ground[100].max()"
   ]
  },
  {
   "cell_type": "code",
   "execution_count": 80,
   "id": "349aa1ab",
   "metadata": {},
   "outputs": [],
   "source": [
    "fine_meshes = np.array(fine_meshes)"
   ]
  },
  {
   "cell_type": "code",
   "execution_count": 81,
   "id": "e3cb5164",
   "metadata": {},
   "outputs": [
    {
     "data": {
      "image/png": "[encoded data removed]",
      "text/plain": [
       "<Figure size 640x480 with 1 Axes>"
      ]
     },
     "metadata": {},
     "output_type": "display_data"
    },
    {
     "data": {
      "image/png": "[encoded data removed]",
      "text/plain": [
       "<Figure size 640x480 with 1 Axes>"
      ]
     },
     "metadata": {},
     "output_type": "display_data"
    },
    {
     "data": {
      "image/png": "[encoded data removed]",
      "text/plain": [
       "<Figure size 640x480 with 1 Axes>"
      ]
     },
     "metadata": {},
     "output_type": "display_data"
    },
    {
     "data": {
      "image/png": "[encoded data removed]",
      "text/plain": [
       "<Figure size 640x480 with 1 Axes>"
      ]
     },
     "metadata": {},
     "output_type": "display_data"
    },
    {
     "data": {
      "image/png": "[encoded data removed]",
      "text/plain": [
       "<Figure size 640x480 with 1 Axes>"
      ]
     },
     "metadata": {},
     "output_type": "display_data"
    },
    {
     "data": {
      "image/png": "[encoded data removed]",
      "text/plain": [
       "<Figure size 640x480 with 1 Axes>"
      ]
     },
     "metadata": {},
     "output_type": "display_data"
    },
    {
     "data": {
      "image/png": "[encoded data removed]",
      "text/plain": [
       "<Figure size 640x480 with 1 Axes>"
      ]
     },
     "metadata": {},
     "output_type": "display_data"
    }
   ],
   "source": [
    "for i in range(7):\n",
    "    plt.imshow(fine_meshes[0][i,:,:])\n",
    "    plt.show()"
   ]
  },
  {
   "cell_type": "code",
   "execution_count": 82,
   "id": "de30a4a2",
   "metadata": {},
   "outputs": [
    {
     "data": {
      "image/png": "[encoded data removed]",
      "text/plain": [
       "<Figure size 640x480 with 1 Axes>"
      ]
     },
     "metadata": {},
     "output_type": "display_data"
    },
    {
     "data": {
      "image/png": "[encoded data removed]",
      "text/plain": [
       "<Figure size 640x480 with 1 Axes>"
      ]
     },
     "metadata": {},
     "output_type": "display_data"
    },
    {
     "data": {
      "image/png": "[encoded data removed]",
      "text/plain": [
       "<Figure size 640x480 with 1 Axes>"
      ]
     },
     "metadata": {},
     "output_type": "display_data"
    },
    {
     "data": {
      "image/png": "[encoded data removed]",
      "text/plain": [
       "<Figure size 640x480 with 1 Axes>"
      ]
     },
     "metadata": {},
     "output_type": "display_data"
    },
    {
     "data": {
      "image/png": "[encoded data removed]",
      "text/plain": [
       "<Figure size 640x480 with 1 Axes>"
      ]
     },
     "metadata": {},
     "output_type": "display_data"
    },
    {
     "data": {
      "image/png": "[encoded data removed]",
      "text/plain": [
       "<Figure size 640x480 with 1 Axes>"
      ]
     },
     "metadata": {},
     "output_type": "display_data"
    },
    {
     "data": {
      "image/png": "[encoded data removed]",
      "text/plain": [
       "<Figure size 640x480 with 1 Axes>"
      ]
     },
     "metadata": {},
     "output_type": "display_data"
    }
   ],
   "source": [
    "for i in range(7):\n",
    "    plt.imshow(X_ground[0][i,:,:])\n",
    "    plt.show()"
   ]
  },
  {
   "cell_type": "code",
   "execution_count": 83,
   "id": "dd27ba97-63fa-4a14-8401-776bbe39cfcb",
   "metadata": {},
   "outputs": [],
   "source": [
    "Y_recons = np.array(Y) "
   ]
  },
  {
   "cell_type": "code",
   "execution_count": 84,
   "id": "55ec006d-660d-4149-b832-1a3a9d3efccd",
   "metadata": {},
   "outputs": [],
   "source": [
    "X_mes = np.array(X_mes) "
   ]
  },
  {
   "cell_type": "code",
   "execution_count": 85,
   "id": "398a70c0-4a99-41a1-bf05-159591daf525",
   "metadata": {},
   "outputs": [],
   "source": [
    "Target_depth = np.array(Target_depth) "
   ]
  },
  {
   "cell_type": "code",
   "execution_count": 86,
   "id": "c4907846-c936-4ce7-a328-9a391ac606ec",
   "metadata": {},
   "outputs": [
    {
     "data": {
      "text/plain": [
       "(1540,)"
      ]
     },
     "execution_count": 86,
     "metadata": {},
     "output_type": "execute_result"
    }
   ],
   "source": [
    "Target_depth.shape"
   ]
  },
  {
   "cell_type": "code",
   "execution_count": 87,
   "id": "a24e165c-5d87-4d01-b803-79c1ad3839e4",
   "metadata": {},
   "outputs": [
    {
     "data": {
      "text/plain": [
       "(1540, 18, 14)"
      ]
     },
     "execution_count": 87,
     "metadata": {},
     "output_type": "execute_result"
    }
   ],
   "source": [
    "X_mes.shape"
   ]
  },
  {
   "cell_type": "code",
   "execution_count": 88,
   "id": "8249f63c-e3bc-4c7b-9934-fc359d921c51",
   "metadata": {},
   "outputs": [],
   "source": [
    "with open(\"X_ground.npy\", \"wb\") as f: \n",
    "    np.save(f, X_ground)"
   ]
  },
  {
   "cell_type": "code",
   "execution_count": 89,
   "id": "b7318409-c4f8-444b-8c09-e6168c67d9a9",
   "metadata": {},
   "outputs": [],
   "source": [
    "with open(\"Y_recons.npy\", \"wb\") as f: \n",
    "    np.save(f, Y_recons)"
   ]
  },
  {
   "cell_type": "code",
   "execution_count": 90,
   "id": "6b4a0a63-84bd-44a7-b7e2-13845ad21296",
   "metadata": {},
   "outputs": [],
   "source": [
    "with open(\"X_mes.npy\", \"wb\") as f: \n",
    "    np.save(f, X_mes)"
   ]
  },
  {
   "cell_type": "code",
   "execution_count": 91,
   "id": "c821bb2f-c42e-4e72-b808-ce7e94ee964d",
   "metadata": {},
   "outputs": [],
   "source": [
    "with open(\"fine_meshes.npy\", \"wb\") as f: \n",
    "    np.save(f, fine_meshes)"
   ]
  },
  {
   "cell_type": "code",
   "execution_count": null,
   "id": "2a9b541e-90a4-4792-a148-9c1294957b51",
   "metadata": {},
   "outputs": [],
   "source": []
  }
 ],
 "metadata": {
  "kernelspec": {
   "display_name": "Python 3 (ipykernel)",
   "language": "python",
   "name": "python3"
  },
  "language_info": {
   "codemirror_mode": {
    "name": "ipython",
    "version": 3
   },
   "file_extension": ".py",
   "mimetype": "text/x-python",
   "name": "python",
   "nbconvert_exporter": "python",
   "pygments_lexer": "ipython3",
   "version": "3.9.18"
  }
 },
 "nbformat": 4,
 "nbformat_minor": 5
}
