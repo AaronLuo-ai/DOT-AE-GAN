{
 "cells": [
  {
   "metadata": {
    "ExecuteTime": {
     "end_time": "2025-09-16T00:27:36.183577Z",
     "start_time": "2025-09-16T00:27:36.170839Z"
    }
   },
   "cell_type": "code",
   "source": [
    "import numpy as np\n",
    "import matplotlib.pyplot as plt\n",
    "import pandas as pd\n",
    "\n",
    "import scipy.io\n",
    "import os\n",
    "import matplotlib.pyplot as plt\n",
    "from scipy.ndimage import zoom\n",
    "import numpy as np\n",
    "import random\n",
    "from pathlib import Path"
   ],
   "outputs": [],
   "execution_count": 1136
  },
  {
   "metadata": {
    "ExecuteTime": {
     "end_time": "2025-09-16T00:27:36.531550Z",
     "start_time": "2025-09-16T00:27:36.376910Z"
    }
   },
   "cell_type": "code",
   "source": [
    "# ================================\n",
    "# 0) Set the correct patient\n",
    "# ================================\n",
    "lesion = 36  # <- change this to pick a different lesion\n",
    "\n",
    "\n",
    "BASE   = Path(\"/Users/luozisheng/Desktop/DOT/FEM_clinical/tar_ref\")\n",
    "GT_DIR = Path(\"/Users/luozisheng/Desktop/DOT/FEM_clinical/gt\")\n",
    "out_root = Path(\"/Users/luozisheng/Desktop/DOT/DOT-AE-GAN/SIMULATION_to_PERTURBATION/output\")\n",
    "out_dir  = out_root / f\"lesion_{lesion}\"\n",
    "out_dir.mkdir(parents=True, exist_ok=True)\n",
    "assert out_dir.exists(), f\"Could not create folder: {out_dir}\"\n",
    "\n",
    "\n",
    "df_ref = pd.read_csv(BASE   / f\"reference{lesion}.csv\", skiprows=4)\n",
    "df_tar = pd.read_csv(BASE   / f\"target{lesion}.csv\",    skiprows=4)\n",
    "df_gt  = pd.read_csv(GT_DIR / f\"gt{lesion}.csv\",        skiprows=9, header=None)# your file has 9 header lines (like MATLAB NumHeaderLines=9)"
   ],
   "outputs": [],
   "execution_count": 1137
  },
  {
   "metadata": {
    "ExecuteTime": {
     "end_time": "2025-09-16T00:27:36.622795Z",
     "start_time": "2025-09-16T00:27:36.607628Z"
    }
   },
   "cell_type": "code",
   "source": "df_ref.head()",
   "outputs": [
    {
     "data": {
      "text/plain": [
       "   % theta  z_chest  mua0  musp0  mua_chest  t_radius  depth  mua_tar  p  \\\n",
       "0        0        2  0.02      4        0.1         1      1      0.1  1   \n",
       "1        0        2  0.02      4        0.1         1      1      0.1  2   \n",
       "2        0        2  0.02      4        0.1         1      1      0.1  3   \n",
       "3        0        2  0.02      4        0.1         1      1      0.1  4   \n",
       "4        0        2  0.02      4        0.1         1      1      0.1  5   \n",
       "\n",
       "                             u/100 (1), Point: 4  ...  \\\n",
       "0   -1.9412923627920782E-5+3.335564606619854E-5i  ...   \n",
       "1  -1.6745791338871086E-5+1.0439426237863098E-4i  ...   \n",
       "2   3.8149020480973854E-5+2.5582741885202606E-4i  ...   \n",
       "3   1.7369479443984424E-4+4.6388207408794144E-4i  ...   \n",
       "4     2.599375341028233E-4+5.632837100315131E-4i  ...   \n",
       "\n",
       "                          u/100 (1), Point: 10  \\\n",
       "0  -9.395024571732806E-6+1.364599535339016E-4i   \n",
       "1   7.620299376938144E-5+3.241871358551486E-4i   \n",
       "2  2.4790681554802147E-4+5.562495578522684E-4i   \n",
       "3   3.054866873022433E-4+6.191239608281068E-4i   \n",
       "4   1.5213190847743565E-4+4.35130823140725E-4i   \n",
       "\n",
       "                           u/100 (1), Point: 11  \\\n",
       "0  1.0464208460957524E-4+3.6881305187073536E-4i   \n",
       "1    5.941258748922271E-4+8.944789007138652E-4i   \n",
       "2  0.0013759709508976892+0.0014664660273592197i   \n",
       "3  0.0011947894497441973+0.0013454052473527306i   \n",
       "4    4.075245221172234E-4+7.231872614972414E-4i   \n",
       "\n",
       "                            u/100 (1), Point: 15  \\\n",
       "0  -1.5431964154239877E-5+1.1009676766229651E-4i   \n",
       "1      8.82718215818158E-6+1.907755510806385E-4i   \n",
       "2   2.5964100448691554E-5+2.3108794240953256E-4i   \n",
       "3    8.719410237259616E-6+1.9018646985273534E-4i   \n",
       "4   -1.529793412552955E-5+1.1028816505985119E-4i   \n",
       "\n",
       "                           u/100 (1), Point: 16  \\\n",
       "0  4.2069427576186825E-5+2.6306978152449296E-4i   \n",
       "1     2.014423384257212E-4+5.00158850072919E-4i   \n",
       "2   3.1647017269097557E-4+6.320466536002837E-4i   \n",
       "3    2.0032825792912852E-4+4.98326768328276E-4i   \n",
       "4   4.237695419917139E-5+2.6337028227668317E-4i   \n",
       "\n",
       "                           u/100 (1), Point: 31  \\\n",
       "0    4.082897735084578E-4+7.235725662010883E-4i   \n",
       "1  0.0012025342794545074+0.0013517577874424859i   \n",
       "2   0.001381595417286551+0.0014693338698108652i   \n",
       "3    5.908163829360071E-4+8.910055625313227E-4i   \n",
       "4   1.0550122896026854E-4+3.695141029435396E-4i   \n",
       "\n",
       "                           u/100 (1), Point: 46  \\\n",
       "0  1.5188641993156186E-4+4.3511700263451365E-4i   \n",
       "1   3.0740287973678393E-4+6.219147825355585E-4i   \n",
       "2   2.4956616809388983E-4+5.577868632925197E-4i   \n",
       "3   7.581104026557472E-5+3.2322916381259664E-4i   \n",
       "4  -9.182688847971033E-6+1.3675840292978376E-4i   \n",
       "\n",
       "                           u/100 (1), Point: 48  \\\n",
       "0   9.793520883875264E-4+0.0011935997933513662i   \n",
       "1  0.0014743949545451592+0.0015281931587612688i   \n",
       "2   8.148129151425198E-4+0.0010749120848390068i   \n",
       "3     1.8716252550323017E-4+4.8154409310506E-4i   \n",
       "4   4.693737062212043E-7+1.6761449421702758E-4i   \n",
       "\n",
       "                            u/100 (1), Point: 49  \\\n",
       "0      5.379985587230069E-5+2.82868747841858E-4i   \n",
       "1     7.002486900798396E-5+3.134519628859562E-4i   \n",
       "2    2.636696541551984E-5+2.3156012942080682E-4i   \n",
       "3  -1.3425086040474576E-5+1.2006033257237774E-4i   \n",
       "4   -2.0907236230675556E-5+4.724728871367113E-5i   \n",
       "\n",
       "                           u/100 (1), Point: 51  \\\n",
       "0    0.00146400534702796+0.0015170127186253381i   \n",
       "1   0.0010472782504915492+0.001246601106712124i   \n",
       "2    3.055989814130444E-4+6.201577798303381E-4i   \n",
       "3  2.4598375202693788E-5+2.2734945928396162E-4i   \n",
       "4  -2.1011967928322467E-5+6.895770293875165E-5i   \n",
       "\n",
       "                          u/100 (1), Point: 52  \n",
       "0  2.5681380899260955E-4+5.621488760111864E-4i  \n",
       "1  1.7423269775753808E-4+4.655540416775276E-4i  \n",
       "2  3.851225942047118E-5+2.5662779422410493E-4i  \n",
       "3  -1.67476794443774E-5+1.0414876395130142E-4i  \n",
       "4   -1.9376867764691E-5+3.3490505494353074E-5i  \n",
       "\n",
       "[5 rows x 23 columns]"
      ],
      "text/html": [
       "<div>\n",
       "<style scoped>\n",
       "    .dataframe tbody tr th:only-of-type {\n",
       "        vertical-align: middle;\n",
       "    }\n",
       "\n",
       "    .dataframe tbody tr th {\n",
       "        vertical-align: top;\n",
       "    }\n",
       "\n",
       "    .dataframe thead th {\n",
       "        text-align: right;\n",
       "    }\n",
       "</style>\n",
       "<table border=\"1\" class=\"dataframe\">\n",
       "  <thead>\n",
       "    <tr style=\"text-align: right;\">\n",
       "      <th></th>\n",
       "      <th>% theta</th>\n",
       "      <th>z_chest</th>\n",
       "      <th>mua0</th>\n",
       "      <th>musp0</th>\n",
       "      <th>mua_chest</th>\n",
       "      <th>t_radius</th>\n",
       "      <th>depth</th>\n",
       "      <th>mua_tar</th>\n",
       "      <th>p</th>\n",
       "      <th>u/100 (1), Point: 4</th>\n",
       "      <th>...</th>\n",
       "      <th>u/100 (1), Point: 10</th>\n",
       "      <th>u/100 (1), Point: 11</th>\n",
       "      <th>u/100 (1), Point: 15</th>\n",
       "      <th>u/100 (1), Point: 16</th>\n",
       "      <th>u/100 (1), Point: 31</th>\n",
       "      <th>u/100 (1), Point: 46</th>\n",
       "      <th>u/100 (1), Point: 48</th>\n",
       "      <th>u/100 (1), Point: 49</th>\n",
       "      <th>u/100 (1), Point: 51</th>\n",
       "      <th>u/100 (1), Point: 52</th>\n",
       "    </tr>\n",
       "  </thead>\n",
       "  <tbody>\n",
       "    <tr>\n",
       "      <th>0</th>\n",
       "      <td>0</td>\n",
       "      <td>2</td>\n",
       "      <td>0.02</td>\n",
       "      <td>4</td>\n",
       "      <td>0.1</td>\n",
       "      <td>1</td>\n",
       "      <td>1</td>\n",
       "      <td>0.1</td>\n",
       "      <td>1</td>\n",
       "      <td>-1.9412923627920782E-5+3.335564606619854E-5i</td>\n",
       "      <td>...</td>\n",
       "      <td>-9.395024571732806E-6+1.364599535339016E-4i</td>\n",
       "      <td>1.0464208460957524E-4+3.6881305187073536E-4i</td>\n",
       "      <td>-1.5431964154239877E-5+1.1009676766229651E-4i</td>\n",
       "      <td>4.2069427576186825E-5+2.6306978152449296E-4i</td>\n",
       "      <td>4.082897735084578E-4+7.235725662010883E-4i</td>\n",
       "      <td>1.5188641993156186E-4+4.3511700263451365E-4i</td>\n",
       "      <td>9.793520883875264E-4+0.0011935997933513662i</td>\n",
       "      <td>5.379985587230069E-5+2.82868747841858E-4i</td>\n",
       "      <td>0.00146400534702796+0.0015170127186253381i</td>\n",
       "      <td>2.5681380899260955E-4+5.621488760111864E-4i</td>\n",
       "    </tr>\n",
       "    <tr>\n",
       "      <th>1</th>\n",
       "      <td>0</td>\n",
       "      <td>2</td>\n",
       "      <td>0.02</td>\n",
       "      <td>4</td>\n",
       "      <td>0.1</td>\n",
       "      <td>1</td>\n",
       "      <td>1</td>\n",
       "      <td>0.1</td>\n",
       "      <td>2</td>\n",
       "      <td>-1.6745791338871086E-5+1.0439426237863098E-4i</td>\n",
       "      <td>...</td>\n",
       "      <td>7.620299376938144E-5+3.241871358551486E-4i</td>\n",
       "      <td>5.941258748922271E-4+8.944789007138652E-4i</td>\n",
       "      <td>8.82718215818158E-6+1.907755510806385E-4i</td>\n",
       "      <td>2.014423384257212E-4+5.00158850072919E-4i</td>\n",
       "      <td>0.0012025342794545074+0.0013517577874424859i</td>\n",
       "      <td>3.0740287973678393E-4+6.219147825355585E-4i</td>\n",
       "      <td>0.0014743949545451592+0.0015281931587612688i</td>\n",
       "      <td>7.002486900798396E-5+3.134519628859562E-4i</td>\n",
       "      <td>0.0010472782504915492+0.001246601106712124i</td>\n",
       "      <td>1.7423269775753808E-4+4.655540416775276E-4i</td>\n",
       "    </tr>\n",
       "    <tr>\n",
       "      <th>2</th>\n",
       "      <td>0</td>\n",
       "      <td>2</td>\n",
       "      <td>0.02</td>\n",
       "      <td>4</td>\n",
       "      <td>0.1</td>\n",
       "      <td>1</td>\n",
       "      <td>1</td>\n",
       "      <td>0.1</td>\n",
       "      <td>3</td>\n",
       "      <td>3.8149020480973854E-5+2.5582741885202606E-4i</td>\n",
       "      <td>...</td>\n",
       "      <td>2.4790681554802147E-4+5.562495578522684E-4i</td>\n",
       "      <td>0.0013759709508976892+0.0014664660273592197i</td>\n",
       "      <td>2.5964100448691554E-5+2.3108794240953256E-4i</td>\n",
       "      <td>3.1647017269097557E-4+6.320466536002837E-4i</td>\n",
       "      <td>0.001381595417286551+0.0014693338698108652i</td>\n",
       "      <td>2.4956616809388983E-4+5.577868632925197E-4i</td>\n",
       "      <td>8.148129151425198E-4+0.0010749120848390068i</td>\n",
       "      <td>2.636696541551984E-5+2.3156012942080682E-4i</td>\n",
       "      <td>3.055989814130444E-4+6.201577798303381E-4i</td>\n",
       "      <td>3.851225942047118E-5+2.5662779422410493E-4i</td>\n",
       "    </tr>\n",
       "    <tr>\n",
       "      <th>3</th>\n",
       "      <td>0</td>\n",
       "      <td>2</td>\n",
       "      <td>0.02</td>\n",
       "      <td>4</td>\n",
       "      <td>0.1</td>\n",
       "      <td>1</td>\n",
       "      <td>1</td>\n",
       "      <td>0.1</td>\n",
       "      <td>4</td>\n",
       "      <td>1.7369479443984424E-4+4.6388207408794144E-4i</td>\n",
       "      <td>...</td>\n",
       "      <td>3.054866873022433E-4+6.191239608281068E-4i</td>\n",
       "      <td>0.0011947894497441973+0.0013454052473527306i</td>\n",
       "      <td>8.719410237259616E-6+1.9018646985273534E-4i</td>\n",
       "      <td>2.0032825792912852E-4+4.98326768328276E-4i</td>\n",
       "      <td>5.908163829360071E-4+8.910055625313227E-4i</td>\n",
       "      <td>7.581104026557472E-5+3.2322916381259664E-4i</td>\n",
       "      <td>1.8716252550323017E-4+4.8154409310506E-4i</td>\n",
       "      <td>-1.3425086040474576E-5+1.2006033257237774E-4i</td>\n",
       "      <td>2.4598375202693788E-5+2.2734945928396162E-4i</td>\n",
       "      <td>-1.67476794443774E-5+1.0414876395130142E-4i</td>\n",
       "    </tr>\n",
       "    <tr>\n",
       "      <th>4</th>\n",
       "      <td>0</td>\n",
       "      <td>2</td>\n",
       "      <td>0.02</td>\n",
       "      <td>4</td>\n",
       "      <td>0.1</td>\n",
       "      <td>1</td>\n",
       "      <td>1</td>\n",
       "      <td>0.1</td>\n",
       "      <td>5</td>\n",
       "      <td>2.599375341028233E-4+5.632837100315131E-4i</td>\n",
       "      <td>...</td>\n",
       "      <td>1.5213190847743565E-4+4.35130823140725E-4i</td>\n",
       "      <td>4.075245221172234E-4+7.231872614972414E-4i</td>\n",
       "      <td>-1.529793412552955E-5+1.1028816505985119E-4i</td>\n",
       "      <td>4.237695419917139E-5+2.6337028227668317E-4i</td>\n",
       "      <td>1.0550122896026854E-4+3.695141029435396E-4i</td>\n",
       "      <td>-9.182688847971033E-6+1.3675840292978376E-4i</td>\n",
       "      <td>4.693737062212043E-7+1.6761449421702758E-4i</td>\n",
       "      <td>-2.0907236230675556E-5+4.724728871367113E-5i</td>\n",
       "      <td>-2.1011967928322467E-5+6.895770293875165E-5i</td>\n",
       "      <td>-1.9376867764691E-5+3.3490505494353074E-5i</td>\n",
       "    </tr>\n",
       "  </tbody>\n",
       "</table>\n",
       "<p>5 rows × 23 columns</p>\n",
       "</div>"
      ]
     },
     "execution_count": 1138,
     "metadata": {},
     "output_type": "execute_result"
    }
   ],
   "execution_count": 1138
  },
  {
   "metadata": {
    "ExecuteTime": {
     "end_time": "2025-09-16T00:27:36.873033Z",
     "start_time": "2025-09-16T00:27:36.863832Z"
    }
   },
   "cell_type": "code",
   "source": "df_tar.head()",
   "outputs": [
    {
     "data": {
      "text/plain": [
       "   % theta  z_chest  mua0  musp0  mua_chest  t_radius  depth  mua_tar  p  \\\n",
       "0        0        2  0.02      4        0.1         1      1      0.1  1   \n",
       "1        0        2  0.02      4        0.1         1      1      0.1  2   \n",
       "2        0        2  0.02      4        0.1         1      1      0.1  3   \n",
       "3        0        2  0.02      4        0.1         1      1      0.1  4   \n",
       "4        0        2  0.02      4        0.1         1      1      0.1  5   \n",
       "\n",
       "                            u/100 (1), Point: 4  ...  \\\n",
       "0  -1.7470328684612012E-5+3.056826304528689E-5i  ...   \n",
       "1  -1.3402716949194652E-5+9.613129487962199E-5i  ...   \n",
       "2   4.1271056543904546E-5+2.480674745484979E-4i  ...   \n",
       "3  1.7545528129936597E-4+4.6129883538542095E-4i  ...   \n",
       "4   2.6064644748935017E-4+5.627801378508094E-4i  ...   \n",
       "\n",
       "                           u/100 (1), Point: 10  \\\n",
       "0   -7.028915638773625E-6+1.251890913536908E-4i   \n",
       "1   7.613794646301497E-5+2.9452784809820754E-4i   \n",
       "2    2.485505386694338E-4+5.298064394086051E-4i   \n",
       "3    3.0792903519864524E-4+6.09839016661995E-4i   \n",
       "4  1.5366811588137964E-4+4.3297184474410343E-4i   \n",
       "\n",
       "                           u/100 (1), Point: 11  \\\n",
       "0   1.014117283747915E-4+3.3529944169840854E-4i   \n",
       "1    5.679477726244516E-4+8.113263616153185E-4i   \n",
       "2  0.0013554650388141584+0.0013926795206171383i   \n",
       "3  0.0011939663147325307+0.0013181351607430242i   \n",
       "4    4.099800686915607E-4+7.161426852592689E-4i   \n",
       "\n",
       "                            u/100 (1), Point: 15  \\\n",
       "0  -1.3114945012113698E-5+1.0345497585848719E-4i   \n",
       "1   1.1390521580275075E-5+1.7341669328261312E-4i   \n",
       "2    2.893905612073088E-5+2.1661500979062954E-4i   \n",
       "3   1.0998765834487896E-5+1.8546703483591449E-4i   \n",
       "4  -1.4247457572702827E-5+1.0929810592434128E-4i   \n",
       "\n",
       "                           u/100 (1), Point: 16  \\\n",
       "0  4.2820042524182567E-5+2.4393788816162048E-4i   \n",
       "1   1.9409010242057512E-4+4.526233939977825E-4i   \n",
       "2   3.1250066566042105E-4+5.918082315197498E-4i   \n",
       "3   2.0247300057464707E-4+4.842629645940429E-4i   \n",
       "4    4.430880826363099E-5+2.599848396002674E-4i   \n",
       "\n",
       "                           u/100 (1), Point: 31  \\\n",
       "0   3.9346161108668164E-4+6.680354562091784E-4i   \n",
       "1  0.0011407314970257436+0.0012226820878879778i   \n",
       "2  0.0013400013491624801+0.0013629060118494003i   \n",
       "3    5.866587369740127E-4+8.525201843604172E-4i   \n",
       "4   1.0825967053656564E-4+3.594254841146601E-4i   \n",
       "\n",
       "                           u/100 (1), Point: 46  \\\n",
       "0   1.5065134634904763E-4+4.111835508036689E-4i   \n",
       "1    2.944409190874758E-4+5.651215503075504E-4i   \n",
       "2   2.4337360553909065E-4+5.126229240309126E-4i   \n",
       "3   7.785704553214919E-5+3.0788039369161356E-4i   \n",
       "4  -7.139872727575604E-6+1.3307643255400467E-4i   \n",
       "\n",
       "                           u/100 (1), Point: 48  \\\n",
       "0   9.594284548856718E-4+0.0011338980535005856i   \n",
       "1   0.0014053112670967447+0.001396076225103047i   \n",
       "2    7.762217636362301E-4+9.744025330371749E-4i   \n",
       "3   1.8444887597584476E-4+4.468193752266949E-4i   \n",
       "4  3.2706316456641805E-6+1.5871775578866075E-4i   \n",
       "\n",
       "                            u/100 (1), Point: 49  \\\n",
       "0     5.556901811071147E-5+2.722932480005991E-4i   \n",
       "1    7.009932904846807E-5+2.8776941332338854E-4i   \n",
       "2     2.84206980868568E-5+2.1191723699135137E-4i   \n",
       "3     -1.095561688862736E-5+1.13840696269833E-4i   \n",
       "4  -1.9660461199047172E-5+4.5915899665228014E-5i   \n",
       "\n",
       "                           u/100 (1), Point: 51  \\\n",
       "0   0.001454579004435878+0.0014782854161105121i   \n",
       "1   0.0010131361159203109+0.001161512170333137i   \n",
       "2   2.9056662653404114E-4+5.588806140920557E-4i   \n",
       "3  2.5826955984150572E-5+2.0732509019974466E-4i   \n",
       "4  -1.8686221610402274E-5+6.412295738239846E-5i   \n",
       "\n",
       "                            u/100 (1), Point: 52  \n",
       "0     2.576521499458654E-4+5.480912383650858E-4i  \n",
       "1    1.713021935653837E-4+4.3274779078878323E-4i  \n",
       "2    3.941724349130497E-5+2.3269541741499444E-4i  \n",
       "3   -1.4212106806860448E-5+9.668587841793388E-5i  \n",
       "4  -1.7989495814032785E-5+3.1871013765250394E-5i  \n",
       "\n",
       "[5 rows x 23 columns]"
      ],
      "text/html": [
       "<div>\n",
       "<style scoped>\n",
       "    .dataframe tbody tr th:only-of-type {\n",
       "        vertical-align: middle;\n",
       "    }\n",
       "\n",
       "    .dataframe tbody tr th {\n",
       "        vertical-align: top;\n",
       "    }\n",
       "\n",
       "    .dataframe thead th {\n",
       "        text-align: right;\n",
       "    }\n",
       "</style>\n",
       "<table border=\"1\" class=\"dataframe\">\n",
       "  <thead>\n",
       "    <tr style=\"text-align: right;\">\n",
       "      <th></th>\n",
       "      <th>% theta</th>\n",
       "      <th>z_chest</th>\n",
       "      <th>mua0</th>\n",
       "      <th>musp0</th>\n",
       "      <th>mua_chest</th>\n",
       "      <th>t_radius</th>\n",
       "      <th>depth</th>\n",
       "      <th>mua_tar</th>\n",
       "      <th>p</th>\n",
       "      <th>u/100 (1), Point: 4</th>\n",
       "      <th>...</th>\n",
       "      <th>u/100 (1), Point: 10</th>\n",
       "      <th>u/100 (1), Point: 11</th>\n",
       "      <th>u/100 (1), Point: 15</th>\n",
       "      <th>u/100 (1), Point: 16</th>\n",
       "      <th>u/100 (1), Point: 31</th>\n",
       "      <th>u/100 (1), Point: 46</th>\n",
       "      <th>u/100 (1), Point: 48</th>\n",
       "      <th>u/100 (1), Point: 49</th>\n",
       "      <th>u/100 (1), Point: 51</th>\n",
       "      <th>u/100 (1), Point: 52</th>\n",
       "    </tr>\n",
       "  </thead>\n",
       "  <tbody>\n",
       "    <tr>\n",
       "      <th>0</th>\n",
       "      <td>0</td>\n",
       "      <td>2</td>\n",
       "      <td>0.02</td>\n",
       "      <td>4</td>\n",
       "      <td>0.1</td>\n",
       "      <td>1</td>\n",
       "      <td>1</td>\n",
       "      <td>0.1</td>\n",
       "      <td>1</td>\n",
       "      <td>-1.7470328684612012E-5+3.056826304528689E-5i</td>\n",
       "      <td>...</td>\n",
       "      <td>-7.028915638773625E-6+1.251890913536908E-4i</td>\n",
       "      <td>1.014117283747915E-4+3.3529944169840854E-4i</td>\n",
       "      <td>-1.3114945012113698E-5+1.0345497585848719E-4i</td>\n",
       "      <td>4.2820042524182567E-5+2.4393788816162048E-4i</td>\n",
       "      <td>3.9346161108668164E-4+6.680354562091784E-4i</td>\n",
       "      <td>1.5065134634904763E-4+4.111835508036689E-4i</td>\n",
       "      <td>9.594284548856718E-4+0.0011338980535005856i</td>\n",
       "      <td>5.556901811071147E-5+2.722932480005991E-4i</td>\n",
       "      <td>0.001454579004435878+0.0014782854161105121i</td>\n",
       "      <td>2.576521499458654E-4+5.480912383650858E-4i</td>\n",
       "    </tr>\n",
       "    <tr>\n",
       "      <th>1</th>\n",
       "      <td>0</td>\n",
       "      <td>2</td>\n",
       "      <td>0.02</td>\n",
       "      <td>4</td>\n",
       "      <td>0.1</td>\n",
       "      <td>1</td>\n",
       "      <td>1</td>\n",
       "      <td>0.1</td>\n",
       "      <td>2</td>\n",
       "      <td>-1.3402716949194652E-5+9.613129487962199E-5i</td>\n",
       "      <td>...</td>\n",
       "      <td>7.613794646301497E-5+2.9452784809820754E-4i</td>\n",
       "      <td>5.679477726244516E-4+8.113263616153185E-4i</td>\n",
       "      <td>1.1390521580275075E-5+1.7341669328261312E-4i</td>\n",
       "      <td>1.9409010242057512E-4+4.526233939977825E-4i</td>\n",
       "      <td>0.0011407314970257436+0.0012226820878879778i</td>\n",
       "      <td>2.944409190874758E-4+5.651215503075504E-4i</td>\n",
       "      <td>0.0014053112670967447+0.001396076225103047i</td>\n",
       "      <td>7.009932904846807E-5+2.8776941332338854E-4i</td>\n",
       "      <td>0.0010131361159203109+0.001161512170333137i</td>\n",
       "      <td>1.713021935653837E-4+4.3274779078878323E-4i</td>\n",
       "    </tr>\n",
       "    <tr>\n",
       "      <th>2</th>\n",
       "      <td>0</td>\n",
       "      <td>2</td>\n",
       "      <td>0.02</td>\n",
       "      <td>4</td>\n",
       "      <td>0.1</td>\n",
       "      <td>1</td>\n",
       "      <td>1</td>\n",
       "      <td>0.1</td>\n",
       "      <td>3</td>\n",
       "      <td>4.1271056543904546E-5+2.480674745484979E-4i</td>\n",
       "      <td>...</td>\n",
       "      <td>2.485505386694338E-4+5.298064394086051E-4i</td>\n",
       "      <td>0.0013554650388141584+0.0013926795206171383i</td>\n",
       "      <td>2.893905612073088E-5+2.1661500979062954E-4i</td>\n",
       "      <td>3.1250066566042105E-4+5.918082315197498E-4i</td>\n",
       "      <td>0.0013400013491624801+0.0013629060118494003i</td>\n",
       "      <td>2.4337360553909065E-4+5.126229240309126E-4i</td>\n",
       "      <td>7.762217636362301E-4+9.744025330371749E-4i</td>\n",
       "      <td>2.84206980868568E-5+2.1191723699135137E-4i</td>\n",
       "      <td>2.9056662653404114E-4+5.588806140920557E-4i</td>\n",
       "      <td>3.941724349130497E-5+2.3269541741499444E-4i</td>\n",
       "    </tr>\n",
       "    <tr>\n",
       "      <th>3</th>\n",
       "      <td>0</td>\n",
       "      <td>2</td>\n",
       "      <td>0.02</td>\n",
       "      <td>4</td>\n",
       "      <td>0.1</td>\n",
       "      <td>1</td>\n",
       "      <td>1</td>\n",
       "      <td>0.1</td>\n",
       "      <td>4</td>\n",
       "      <td>1.7545528129936597E-4+4.6129883538542095E-4i</td>\n",
       "      <td>...</td>\n",
       "      <td>3.0792903519864524E-4+6.09839016661995E-4i</td>\n",
       "      <td>0.0011939663147325307+0.0013181351607430242i</td>\n",
       "      <td>1.0998765834487896E-5+1.8546703483591449E-4i</td>\n",
       "      <td>2.0247300057464707E-4+4.842629645940429E-4i</td>\n",
       "      <td>5.866587369740127E-4+8.525201843604172E-4i</td>\n",
       "      <td>7.785704553214919E-5+3.0788039369161356E-4i</td>\n",
       "      <td>1.8444887597584476E-4+4.468193752266949E-4i</td>\n",
       "      <td>-1.095561688862736E-5+1.13840696269833E-4i</td>\n",
       "      <td>2.5826955984150572E-5+2.0732509019974466E-4i</td>\n",
       "      <td>-1.4212106806860448E-5+9.668587841793388E-5i</td>\n",
       "    </tr>\n",
       "    <tr>\n",
       "      <th>4</th>\n",
       "      <td>0</td>\n",
       "      <td>2</td>\n",
       "      <td>0.02</td>\n",
       "      <td>4</td>\n",
       "      <td>0.1</td>\n",
       "      <td>1</td>\n",
       "      <td>1</td>\n",
       "      <td>0.1</td>\n",
       "      <td>5</td>\n",
       "      <td>2.6064644748935017E-4+5.627801378508094E-4i</td>\n",
       "      <td>...</td>\n",
       "      <td>1.5366811588137964E-4+4.3297184474410343E-4i</td>\n",
       "      <td>4.099800686915607E-4+7.161426852592689E-4i</td>\n",
       "      <td>-1.4247457572702827E-5+1.0929810592434128E-4i</td>\n",
       "      <td>4.430880826363099E-5+2.599848396002674E-4i</td>\n",
       "      <td>1.0825967053656564E-4+3.594254841146601E-4i</td>\n",
       "      <td>-7.139872727575604E-6+1.3307643255400467E-4i</td>\n",
       "      <td>3.2706316456641805E-6+1.5871775578866075E-4i</td>\n",
       "      <td>-1.9660461199047172E-5+4.5915899665228014E-5i</td>\n",
       "      <td>-1.8686221610402274E-5+6.412295738239846E-5i</td>\n",
       "      <td>-1.7989495814032785E-5+3.1871013765250394E-5i</td>\n",
       "    </tr>\n",
       "  </tbody>\n",
       "</table>\n",
       "<p>5 rows × 23 columns</p>\n",
       "</div>"
      ]
     },
     "execution_count": 1139,
     "metadata": {},
     "output_type": "execute_result"
    }
   ],
   "execution_count": 1139
  },
  {
   "metadata": {
    "ExecuteTime": {
     "end_time": "2025-09-16T00:27:37.208579Z",
     "start_time": "2025-09-16T00:27:37.204970Z"
    }
   },
   "cell_type": "code",
   "source": "df_ref.size",
   "outputs": [
    {
     "data": {
      "text/plain": [
       "9315"
      ]
     },
     "execution_count": 1140,
     "metadata": {},
     "output_type": "execute_result"
    }
   ],
   "execution_count": 1140
  },
  {
   "metadata": {
    "ExecuteTime": {
     "end_time": "2025-09-16T00:27:37.456136Z",
     "start_time": "2025-09-16T00:27:37.408938Z"
    }
   },
   "cell_type": "code",
   "source": [
    "all_data_tar = []\n",
    "all_data_ref = []\n",
    "target_radiuses = []\n",
    "target_depths = []\n",
    "mua_tars = []\n",
    "\n",
    "\n",
    "for i in range(len(df_tar)//9):\n",
    "    data9_ref = []\n",
    "    data9_tar = []\n",
    "    target_radius = df_tar['t_radius'].iloc[i*9]\n",
    "    target_depth = df_tar['depth'].iloc[i*9]\n",
    "    mua_tar = df_tar['mua_tar'].iloc[i*9]\n",
    "\n",
    "    mua0 = df_tar['mua0'].iloc[i*9]\n",
    "\n",
    "    for j in range(9):\n",
    "        indx = i*9 + j\n",
    "        #print(indx)\n",
    "        data14_tar = df_tar.iloc[indx,-14: ]\n",
    "        data9_tar.append(data14_tar)\n",
    "\n",
    "        data14_ref = df_ref.iloc[indx,-14: ]\n",
    "        data9_ref.append(data14_ref)\n",
    "\n",
    "    if mua0 != 0.8:\n",
    "        target_radiuses.append(target_radius)\n",
    "        target_depths.append(target_depth) #\n",
    "        mua_tars.append(mua_tar)\n",
    "\n",
    "        all_data_ref.append(data9_ref)\n",
    "        all_data_tar.append(data9_tar)\n",
    "\n",
    "All_DATA_TAR = np.array(all_data_tar)\n",
    "All_DATA_REF = np.array(all_data_ref)\n",
    "\n",
    "def convert_to_complex(s):\n",
    "    # Replace 'i' with 'j'\n",
    "    s = s.replace('i', 'j')\n",
    "    try:\n",
    "        return complex(s)\n",
    "    except ValueError:\n",
    "        return None  # or handle the error as needed\n",
    "vectorized_conversion = np.vectorize(convert_to_complex)\n",
    "\n",
    "All_DATA_TAR = vectorized_conversion(All_DATA_TAR)\n",
    "All_DATA_REF = vectorized_conversion(All_DATA_REF)\n",
    "\n",
    "All_DATA_TAR = All_DATA_TAR[:,:, [2,6,11,13,9,7,5,0,8,10,12,4,3,1]]\n",
    "All_DATA_REF = All_DATA_REF[:,:, [2,6,11,13,9,7,5,0,8,10,12,4,3,1]]"
   ],
   "outputs": [],
   "execution_count": 1141
  },
  {
   "metadata": {
    "ExecuteTime": {
     "end_time": "2025-09-16T00:27:37.462060Z",
     "start_time": "2025-09-16T00:27:37.457143Z"
    }
   },
   "cell_type": "code",
   "source": [
    "\n",
    "# Define s_geom and d_geom arrays\n",
    "s_geom = np.array([\n",
    "    [2.794, 1.408, 0.000],\n",
    "    [1.397, 1.408, 0.000],\n",
    "    [0.000, 1.408, 0.000],\n",
    "    [-1.397, 1.408, 0.000],\n",
    "    [-2.794, 1.408, 0.000],\n",
    "    [2.096, 2.678, 0.000],\n",
    "    [0.000, 2.678, 0.000],\n",
    "    [-2.096, 2.678, 0.000],\n",
    "    [0.000, 4.012, 0.000]\n",
    "])\n",
    "\n",
    "d_geom = np.array([\n",
    "    [-1.746, -3.267, 0.000],\n",
    "    [0.000, -3.581, 0.000],\n",
    "    [1.746, -3.627, 0.000],\n",
    "    [2.667, -2.688, 0.000],\n",
    "    [1.016, -2.569, 0.000],\n",
    "    [0.000, -2.569, 0.000],\n",
    "    [-0.508, -1.68, 0.000],\n",
    "    [-2.667, -2.688, 0.000],\n",
    "    [0.508, -1.68, 0.000],\n",
    "    [1.524, -1.68, 0.000],\n",
    "    [2.54, -1.68, 0.000],\n",
    "    [-1.016, -2.569, 0.000],\n",
    "    [-1.524, -1.68, 0.000],\n",
    "    [-2.54, -1.68, 0.000],\n",
    "])\n",
    "\n",
    "# Compute sddist variable\n",
    "Ns = len(s_geom)\n",
    "Nd = len(d_geom)\n",
    "\n",
    "#print(Ns, Nd)\n",
    "sddist = np.zeros((Ns, Nd))\n",
    "\n",
    "for ss in range(Ns):\n",
    "    for dd in range(Nd):\n",
    "        sddist[ss, dd] = np.linalg.norm(s_geom[ss] - d_geom[dd])"
   ],
   "outputs": [],
   "execution_count": 1142
  },
  {
   "metadata": {
    "ExecuteTime": {
     "end_time": "2025-09-16T00:27:37.671939Z",
     "start_time": "2025-09-16T00:27:37.668522Z"
    }
   },
   "cell_type": "code",
   "source": [
    "\n",
    "def determine_background_optical_property(Mea_ref, Mea_tar):\n",
    "    caliamp_ref = np.log(sddist**2 * np.abs(Mea_ref))\n",
    "    pha_ref = np.angle(Mea_ref)\n",
    "    caliamp_tar = np.log(sddist**2 * np.abs(Mea_tar))\n",
    "    pha_tar = np.angle(Mea_tar)\n",
    "\n",
    "    # Compute statistics fitting for reference measurement\n",
    "    ki_ref = np.polyfit(sddist.reshape(-1), caliamp_ref.reshape(-1), 1)[0]\n",
    "    kr_ref = np.abs( np.polyfit(sddist.reshape(-1), pha_ref.reshape(-1), 1)[0])\n",
    "\n",
    "    # compute statistics fitting for target measurement\n",
    "    ki_tar = np.polyfit(sddist.reshape(-1), caliamp_tar.reshape(-1), 1)[0]\n",
    "    kr_tar = np.abs( np.polyfit(sddist.reshape(-1), pha_tar.reshape(-1), 1)[0])\n",
    "\n",
    "    # Uncomment to compute additional variables\n",
    "    w = 2 * np.pi * 140e6\n",
    "    vel = 3e10 / 1.33\n",
    "    D = w / 2 / ki_ref / kr_ref / vel\n",
    "    ref_ua0 = (-ki_ref ** 2 + kr_ref ** 2) * D\n",
    "    ref_us0 = -1 / 3 / D\n",
    "\n",
    "    D_tar = w / 2 / ki_tar / kr_tar / vel\n",
    "    tar_ua0 = (-ki_ref ** 2 + kr_ref ** 2) * D_tar\n",
    "    tar_us0 = -1 / 3 / D_tar\n",
    "\n",
    "    return [np.abs(ref_ua0), np.abs(ref_us0), np.abs(tar_ua0), np.abs(tar_us0)]"
   ],
   "outputs": [],
   "execution_count": 1143
  },
  {
   "metadata": {
    "ExecuteTime": {
     "end_time": "2025-09-16T00:27:37.889302Z",
     "start_time": "2025-09-16T00:27:37.886089Z"
    }
   },
   "cell_type": "code",
   "source": [
    "def insert_sphere(array, depth, radius, mua = 1):\n",
    "    z_range = np.linspace(0.5, 3.5, array.shape[0])\n",
    "    x_range = np.linspace(-4, 4, array.shape[1])\n",
    "    y_range = np.linspace(-4, 4, array.shape[2])\n",
    "\n",
    "    # Get the index of the depth in the z-axis\n",
    "    z_index = np.abs(z_range - depth).argmin()\n",
    "\n",
    "    # Get the center index of the array\n",
    "    center_x = array.shape[1] // 2\n",
    "    center_y = array.shape[2] // 2\n",
    "    center_z = z_index\n",
    "\n",
    "    for i in range(array.shape[1]):\n",
    "        for j in range(array.shape[2]):\n",
    "            for k in range(array.shape[0]):\n",
    "                # Calculate distance from the center\n",
    "                distance = np.sqrt((x_range[i] - 0) ** 2 + (y_range[j] - 0) ** 2 + (z_range[k] - depth) ** 2)\n",
    "                distance_test = (z_range[k] - depth) ** 2\n",
    "                if distance <= radius and distance_test < 0.75*radius**2:\n",
    "                    array[k, i, j] = mua  # or any other value you choose for the sphere\n",
    "\n",
    "    return array"
   ],
   "outputs": [],
   "execution_count": 1144
  },
  {
   "metadata": {
    "ExecuteTime": {
     "end_time": "2025-09-16T00:27:38.099370Z",
     "start_time": "2025-09-16T00:27:38.095991Z"
    }
   },
   "cell_type": "code",
   "source": [
    "\n",
    "def insert_elliptical_sphere(array, depth, a_radius, b_radius, c_radius, mua=1):\n",
    "    z_range = np.linspace(0.5, 3.5, array.shape[0])\n",
    "    x_range = np.linspace(-4, 4, array.shape[1])\n",
    "    y_range = np.linspace(-4, 4, array.shape[2])\n",
    "\n",
    "    # Get the index of the depth in the z-axis\n",
    "    z_index = np.abs(z_range - depth).argmin()\n",
    "\n",
    "    # Get the center index of the array\n",
    "    center_x = array.shape[1] // 2\n",
    "    center_y = array.shape[2] // 2\n",
    "    center_z = z_index\n",
    "\n",
    "    for i in range(array.shape[1]):\n",
    "        for j in range(array.shape[2]):\n",
    "            for k in range(array.shape[0]):\n",
    "                # Calculate distance from the center, considering the ellipsoid\n",
    "                #distance_test = ((x_range[i] - 0) ** 2 / (a_radius ** 2)) + ((y_range[j] - 0) ** 2 / (b_radius ** 2))\n",
    "                distance_test = (z_range[k] - depth) ** 2 / (c_radius ** 2)\n",
    "\n",
    "                distance = ((x_range[i] - 0) ** 2 / (a_radius ** 2)) + ((y_range[j] - 0) ** 2 / (b_radius ** 2)) + ((z_range[k] - depth) ** 2 / (c_radius ** 2))\n",
    "                if distance <= 1 and distance_test<0.75:\n",
    "                    array[k, i, j] = mua  # or any other value you choose for the ellipsoid\n",
    "\n",
    "    return array\n"
   ],
   "outputs": [],
   "execution_count": 1145
  },
  {
   "metadata": {
    "ExecuteTime": {
     "end_time": "2025-09-16T00:27:38.300853Z",
     "start_time": "2025-09-16T00:27:38.297499Z"
    }
   },
   "cell_type": "code",
   "source": [
    "def estimate_depth_radius(vol_zxy, ux, uy, uz):\n",
    "    \"\"\"\n",
    "    vol_zxy: (nz, 33, 33) absorption volume for one sample.\n",
    "    Returns (depth_cm, radius_cm) using a simple two-level threshold.\n",
    "    \"\"\"\n",
    "    # Get background & lesion levels robustly\n",
    "    vals = vol_zxy[np.isfinite(vol_zxy)].ravel()\n",
    "    if vals.size == 0:\n",
    "        return np.nan, np.nan\n",
    "    # Collapse near-identical values, then pick min and max\n",
    "    uniq = np.unique(np.round(vals, 4))\n",
    "    bg = float(uniq.min())\n",
    "    tar = float(uniq.max())\n",
    "    thr = 0.5 * (bg + tar)\n",
    "\n",
    "    # Area per slice (number of pixels above threshold)\n",
    "    nz = vol_zxy.shape[0]\n",
    "    areas_pix = np.array([(vol_zxy[k] > thr).sum() for k in range(nz)], dtype=float)\n",
    "\n",
    "    if areas_pix.max() == 0:\n",
    "        return np.nan, np.nan  # nothing detected\n",
    "\n",
    "    # Depth (area-weighted average of slice depths)\n",
    "    depth_cm = float((areas_pix * uz).sum() / areas_pix.sum())\n",
    "\n",
    "    # Radius from the largest cross-section (equivalent-circle radius)\n",
    "    kmax = int(areas_pix.argmax())\n",
    "    dx = float(ux[1] - ux[0])\n",
    "    dy = float(uy[1] - uy[0])\n",
    "    area_cm2 = areas_pix[kmax] * dx * dy\n",
    "    radius_cm = float(np.sqrt(area_cm2 / np.pi))\n",
    "\n",
    "    return depth_cm, radius_cm"
   ],
   "outputs": [],
   "execution_count": 1146
  },
  {
   "metadata": {
    "ExecuteTime": {
     "end_time": "2025-09-16T00:27:38.774609Z",
     "start_time": "2025-09-16T00:27:38.763002Z"
    }
   },
   "cell_type": "code",
   "source": [
    "# ================================\n",
    "# 1) Preparing All_ground_truth\n",
    "# ================================\n",
    "\n",
    "# columns: x, y, z, val_1, val_2, ...\n",
    "x = df_gt.iloc[:, 0].to_numpy()\n",
    "y = df_gt.iloc[:, 1].to_numpy()\n",
    "z = df_gt.iloc[:, 2].to_numpy()\n",
    "values = df_gt.iloc[:, 3:].to_numpy()  # shape: (num_points, num_columns)\n",
    "\n",
    "# robust unique axes (rounding avoids tiny FP jitter)\n",
    "def uniq_robust(a, decimals=6):\n",
    "    return np.unique(np.round(a, decimals=decimals))\n",
    "\n",
    "ux = uniq_robust(x)\n",
    "uy = uniq_robust(y)\n",
    "uz = uniq_robust(z)\n",
    "\n",
    "# enforce 33x33 in x,y (COMSOL config)\n",
    "if len(ux) != 33 or len(uy) != 33:\n",
    "    # try a couple of different roundings before falling back\n",
    "    for dec in (7, 5, 8, 4):\n",
    "        ux2 = uniq_robust(x, dec)\n",
    "        uy2 = uniq_robust(y, dec)\n",
    "        if len(ux2) == 33 and len(uy2) == 33:\n",
    "            ux, uy = ux2, uy2\n",
    "            break\n",
    "\n",
    "# map each row to integer indices on the 33x33x(7) grid\n",
    "# (round the coordinates the same way we built ux/uy to keep alignment)\n",
    "rnd = 6\n",
    "xi = np.searchsorted(ux, np.round(x, rnd))\n",
    "yi = np.searchsorted(uy, np.round(y, rnd))\n",
    "zi = np.searchsorted(uz, np.round(z, rnd))\n",
    "\n",
    "# ---- Step 2: build All_ground_truth = (N, 7, 33, 33) ----\n",
    "def column_to_volume(col_1d: np.ndarray) -> np.ndarray:\n",
    "    \"\"\"Scatter flat column onto a (nz, 33, 33) array using (zi, xi, yi).\"\"\"\n",
    "    nz = len(uz)\n",
    "    vol = np.zeros((nz, 33, 33), dtype=np.float32)\n",
    "    vol[zi, xi, yi] = col_1d.astype(np.float32)\n",
    "    return vol\n",
    "\n",
    "# how many samples to build (target 15)\n",
    "N = len(df_tar)//9\n",
    "\n",
    "All_ground_truth = np.stack(\n",
    "    [column_to_volume(values[:, j]) for j in range(N)],\n",
    "    axis=0\n",
    ")  # shape: (N, 7, 33, 33)\n",
    "\n",
    "print(\"All_ground_truth.shape =\", All_ground_truth.shape)"
   ],
   "outputs": [
    {
     "name": "stdout",
     "output_type": "stream",
     "text": [
      "All_ground_truth.shape = (45, 7, 33, 33)\n"
     ]
    }
   ],
   "execution_count": 1147
  },
  {
   "metadata": {
    "ExecuteTime": {
     "end_time": "2025-09-16T00:27:39.098980Z",
     "start_time": "2025-09-16T00:27:39.096919Z"
    }
   },
   "cell_type": "code",
   "source": "values.shape",
   "outputs": [
    {
     "data": {
      "text/plain": [
       "(7623, 405)"
      ]
     },
     "execution_count": 1148,
     "metadata": {},
     "output_type": "execute_result"
    }
   ],
   "execution_count": 1148
  },
  {
   "metadata": {
    "ExecuteTime": {
     "end_time": "2025-09-16T00:27:40.121009Z",
     "start_time": "2025-09-16T00:27:39.533852Z"
    }
   },
   "cell_type": "code",
   "source": [
    "# ======================================\n",
    "# 2) Visualization of All_ground_truth\n",
    "# ======================================\n",
    "def guess_bg_tar(vol):\n",
    "    \"\"\"Heuristic: take nonzero values, choose min as bg and max as tar.\"\"\"\n",
    "    vals = vol[np.isfinite(vol)]\n",
    "    vals = vals[vals > 0] if (vals > 0).any() else vals\n",
    "    if vals.size == 0:\n",
    "        return 0.0, 0.0\n",
    "    return float(vals.min()), float(vals.max())\n",
    "\n",
    "def plot_volume_slices(vol, sample_idx=0, vmin=0.0, vmax=0.2, show=True):\n",
    "    \"\"\"vol: (nz, 33, 33)\"\"\"\n",
    "    bg, tar = guess_bg_tar(vol)\n",
    "    for k in range(vol.shape[0]):\n",
    "        img = vol[k, :, :]  # (x,y) plane at z = uz[k]\n",
    "\n",
    "        fig = plt.figure(figsize=(10, 6), facecolor='k')\n",
    "        ax = plt.gca()\n",
    "        ax.set_facecolor('k')\n",
    "\n",
    "        im = plt.imshow(\n",
    "            img.T,                      # transpose to match MATLAB imagesc(..., slice')\n",
    "            origin=\"lower\",             # y increases upward\n",
    "            extent=[ux.min(), ux.max(), uy.min(), uy.max()],\n",
    "            vmin=vmin, vmax=vmax,\n",
    "            cmap='jet'\n",
    "        )\n",
    "        plt.colorbar(im)\n",
    "        plt.title(f\"GT | bg={bg:.3f} | tar={tar:.3f} | z={uz[k]:.2f} cm\", color='w')\n",
    "        plt.xlabel(\"x (cm)\", color='w'); plt.ylabel(\"y (cm)\", color='w')\n",
    "        ax.tick_params(colors='w')\n",
    "        ax.set_aspect('equal')\n",
    "        plt.tight_layout()\n",
    "\n",
    "        if show:\n",
    "            plt.show()\n",
    "        else:\n",
    "            plt.close(fig)\n",
    "\n",
    "# Example: visualize sample 0 (all 7 z-slices) and save PNGs\n",
    "plot_volume_slices(All_ground_truth[0], sample_idx=0, vmin=0.0, vmax=0.2, show=True)\n"
   ],
   "outputs": [
    {
     "data": {
      "text/plain": [
       "<Figure size 1000x600 with 2 Axes>"
      ],
      "image/png": "[encoded data removed]"
     },
     "metadata": {},
     "output_type": "display_data",
     "jetTransient": {
      "display_id": null
     }
    },
    {
     "data": {
      "text/plain": [
       "<Figure size 1000x600 with 2 Axes>"
      ],
      "image/png": "[encoded data removed]"
     },
     "metadata": {},
     "output_type": "display_data",
     "jetTransient": {
      "display_id": null
     }
    },
    {
     "data": {
      "text/plain": [
       "<Figure size 1000x600 with 2 Axes>"
      ],
      "image/png": "[encoded data removed]"
     },
     "metadata": {},
     "output_type": "display_data",
     "jetTransient": {
      "display_id": null
     }
    },
    {
     "data": {
      "text/plain": [
       "<Figure size 1000x600 with 2 Axes>"
      ],
      "image/png": "[encoded data removed]"
     },
     "metadata": {},
     "output_type": "display_data",
     "jetTransient": {
      "display_id": null
     }
    },
    {
     "data": {
      "text/plain": [
       "<Figure size 1000x600 with 2 Axes>"
      ],
      "image/png": "[encoded data removed]"
     },
     "metadata": {},
     "output_type": "display_data",
     "jetTransient": {
      "display_id": null
     }
    },
    {
     "data": {
      "text/plain": [
       "<Figure size 1000x600 with 2 Axes>"
      ],
      "image/png": "[encoded data removed]"
     },
     "metadata": {},
     "output_type": "display_data",
     "jetTransient": {
      "display_id": null
     }
    },
    {
     "data": {
      "text/plain": [
       "<Figure size 1000x600 with 2 Axes>"
      ],
      "image/png": "[encoded data removed]"
     },
     "metadata": {},
     "output_type": "display_data",
     "jetTransient": {
      "display_id": null
     }
    }
   ],
   "execution_count": 1149
  },
  {
   "metadata": {
    "ExecuteTime": {
     "end_time": "2025-09-16T00:27:40.181881Z",
     "start_time": "2025-09-16T00:27:40.176654Z"
    }
   },
   "cell_type": "code",
   "source": [
    "# ======================================\n",
    "# 3) Preparing Target_depth_radius\n",
    "# ======================================\n",
    "Target_depth_radius = []\n",
    "for n in range(All_ground_truth.shape[0]):\n",
    "    d, r = estimate_depth_radius(All_ground_truth[n], ux, uy, uz)\n",
    "    Target_depth_radius.append([d, 2 * r])\n",
    "\n",
    "# ======================================\n",
    "# 4) Visualize Target_depth_radius\n",
    "# ======================================\n",
    "Target_depth_radius = np.array(Target_depth_radius, dtype=float)\n",
    "print(\"Target_depth_radius shape:\", Target_depth_radius.shape)\n",
    "print(Target_depth_radius[:5])"
   ],
   "outputs": [
    {
     "name": "stdout",
     "output_type": "stream",
     "text": [
      "Target_depth_radius shape: (45, 2)\n",
      "[[1.80909091 1.3819766 ]\n",
      " [1.80909091 1.3819766 ]\n",
      " [1.80909091 1.3819766 ]\n",
      " [1.80909091 1.3819766 ]\n",
      " [1.80909091 1.3819766 ]]\n"
     ]
    }
   ],
   "execution_count": 1150
  },
  {
   "metadata": {
    "ExecuteTime": {
     "end_time": "2025-09-16T00:27:46.928648Z",
     "start_time": "2025-09-16T00:27:46.163721Z"
    }
   },
   "cell_type": "code",
   "source": [
    "All_measured_data = []\n",
    "All_fine_meshes = []\n",
    "All_background_optics = []\n",
    "for i in range(len(target_depths)):\n",
    "    measured_data = All_DATA_TAR[i].astype(np.complex128)\n",
    "    ref_measured = All_DATA_REF[i].astype(np.complex128)\n",
    "\n",
    "    depth = target_depths[i]\n",
    "    radius = target_radiuses[i]\n",
    "    ua = mua_tars[i]\n",
    "\n",
    "    perturbation = (measured_data - ref_measured)/(ref_measured)\n",
    "    #print(perturbation.shape)\n",
    "    pert_real = np.real(perturbation)\n",
    "    pert_imag = np.imag(perturbation)\n",
    "\n",
    "    #print(pert_imag.shape)\n",
    "    pert = np.concatenate([pert_real, pert_imag], axis = 0)\n",
    "    #pert = pert.reshape(-1, 14)\n",
    "    #pert = np.clip(pert, -2, 2)\n",
    "    #print(pert.shape)\n",
    "    #break\n",
    "\n",
    "    array = np.zeros((7, 33,33))\n",
    "    ground_truth = insert_sphere(array, depth, radius, ua)\n",
    "\n",
    "    array = np.zeros((7, 33,33))\n",
    "    #fine_mesh = insert_elliptical_sphere(array, depth = depth, a_radius = radius*random.uniform(1.5, 2.5), b_radius= radius*random.uniform(1.5, 2.5), c_radius = radius, mua=1)\n",
    "    fine_mesh = insert_elliptical_sphere(array, depth = depth, a_radius = radius*2, b_radius= radius*2, c_radius = radius, mua=1)\n",
    "    #insert_sphere(array, depth, radius*random.uniform(1.5, 2.5))\n",
    "    background_optics = determine_background_optical_property(ref_measured, measured_data)\n",
    "\n",
    "    if background_optics[0]> 0.015 and background_optics[0] < .095:\n",
    "        All_measured_data.append(pert)\n",
    "        All_fine_meshes.append(fine_mesh) # Spherical Mask\n",
    "        All_background_optics.append(background_optics)"
   ],
   "outputs": [],
   "execution_count": 1151
  },
  {
   "metadata": {
    "ExecuteTime": {
     "end_time": "2025-09-16T00:27:46.938449Z",
     "start_time": "2025-09-16T00:27:46.935805Z"
    }
   },
   "cell_type": "code",
   "source": "len(target_depths)",
   "outputs": [
    {
     "data": {
      "text/plain": [
       "45"
      ]
     },
     "execution_count": 1152,
     "metadata": {},
     "output_type": "execute_result"
    }
   ],
   "execution_count": 1152
  },
  {
   "metadata": {
    "ExecuteTime": {
     "end_time": "2025-09-16T00:27:47.514219Z",
     "start_time": "2025-09-16T00:27:47.511737Z"
    }
   },
   "cell_type": "code",
   "source": [
    "All_DATA_TAR.shape\n",
    "All_DATA_REF.shape"
   ],
   "outputs": [
    {
     "data": {
      "text/plain": [
       "(45, 9, 14)"
      ]
     },
     "execution_count": 1153,
     "metadata": {},
     "output_type": "execute_result"
    }
   ],
   "execution_count": 1153
  },
  {
   "metadata": {
    "ExecuteTime": {
     "end_time": "2025-09-16T00:27:47.955540Z",
     "start_time": "2025-09-16T00:27:47.952296Z"
    }
   },
   "cell_type": "code",
   "source": [
    "#[3 7 12 14 10 8 6 1 9 11 13 5 4 2]\n",
    "[2,6,11,13,9,7,5,0,8,10,12,4,3,1]"
   ],
   "outputs": [
    {
     "data": {
      "text/plain": [
       "[2, 6, 11, 13, 9, 7, 5, 0, 8, 10, 12, 4, 3, 1]"
      ]
     },
     "execution_count": 1154,
     "metadata": {},
     "output_type": "execute_result"
    }
   ],
   "execution_count": 1154
  },
  {
   "metadata": {
    "ExecuteTime": {
     "end_time": "2025-09-16T00:27:48.465024Z",
     "start_time": "2025-09-16T00:27:48.463062Z"
    }
   },
   "cell_type": "code",
   "source": "len(target_radiuses)",
   "outputs": [
    {
     "data": {
      "text/plain": [
       "45"
      ]
     },
     "execution_count": 1155,
     "metadata": {},
     "output_type": "execute_result"
    }
   ],
   "execution_count": 1155
  },
  {
   "metadata": {
    "ExecuteTime": {
     "end_time": "2025-09-16T00:27:48.890404Z",
     "start_time": "2025-09-16T00:27:48.888320Z"
    }
   },
   "cell_type": "code",
   "source": "sddist.shape",
   "outputs": [
    {
     "data": {
      "text/plain": [
       "(9, 14)"
      ]
     },
     "execution_count": 1156,
     "metadata": {},
     "output_type": "execute_result"
    }
   ],
   "execution_count": 1156
  },
  {
   "metadata": {
    "ExecuteTime": {
     "end_time": "2025-09-16T00:27:49.358646Z",
     "start_time": "2025-09-16T00:27:49.356491Z"
    }
   },
   "cell_type": "code",
   "source": [
    "# visualize the source reference\n",
    "def visualize_phase_source(Mea_ref):\n",
    "    caliamp_ref = np.log(sddist**2 * np.abs(Mea_ref))\n",
    "    pha_ref = np.angle(Mea_ref)\n",
    "    #caliamp_tar = np.log(sddist**2 * np.abs(Mea_tar))\n",
    "    #pha_tar = np.angle(Mea_tar)\n",
    "\n",
    "    plt.scatter(sddist.reshape(-1), caliamp_ref.reshape(-1))\n",
    "    plt.title('Amplitude Vs Source Distance')\n",
    "    plt.show()\n",
    "\n",
    "    plt.scatter(sddist.reshape(-1), pha_ref.reshape(-1))\n",
    "    plt.title('Phase Vs Source Distance')\n",
    "    plt.show()\n",
    "\n"
   ],
   "outputs": [],
   "execution_count": 1157
  },
  {
   "metadata": {
    "ExecuteTime": {
     "end_time": "2025-09-16T00:27:49.892512Z",
     "start_time": "2025-09-16T00:27:49.889536Z"
    }
   },
   "cell_type": "code",
   "source": [
    "All_ground_truth = np.array(All_ground_truth)\n",
    "All_measured_data = np.array(All_measured_data)\n",
    "All_fine_meshes = np.array(All_fine_meshes)\n",
    "All_background_optics = np.array(All_background_optics)\n",
    "Target_depth_radius = np.array(Target_depth_radius)"
   ],
   "outputs": [],
   "execution_count": 1158
  },
  {
   "metadata": {
    "ExecuteTime": {
     "end_time": "2025-09-16T00:27:50.475245Z",
     "start_time": "2025-09-16T00:27:50.473105Z"
    }
   },
   "cell_type": "code",
   "source": "Target_depth_radius.shape",
   "outputs": [
    {
     "data": {
      "text/plain": [
       "(45, 2)"
      ]
     },
     "execution_count": 1159,
     "metadata": {},
     "output_type": "execute_result"
    }
   ],
   "execution_count": 1159
  },
  {
   "metadata": {
    "ExecuteTime": {
     "end_time": "2025-09-16T00:27:50.983552Z",
     "start_time": "2025-09-16T00:27:50.981415Z"
    }
   },
   "cell_type": "code",
   "source": "All_ground_truth.shape",
   "outputs": [
    {
     "data": {
      "text/plain": [
       "(45, 7, 33, 33)"
      ]
     },
     "execution_count": 1160,
     "metadata": {},
     "output_type": "execute_result"
    }
   ],
   "execution_count": 1160
  },
  {
   "metadata": {
    "ExecuteTime": {
     "end_time": "2025-09-16T00:27:51.416818Z",
     "start_time": "2025-09-16T00:27:51.414703Z"
    }
   },
   "cell_type": "code",
   "source": "All_background_optics.shape",
   "outputs": [
    {
     "data": {
      "text/plain": [
       "(45, 4)"
      ]
     },
     "execution_count": 1161,
     "metadata": {},
     "output_type": "execute_result"
    }
   ],
   "execution_count": 1161
  },
  {
   "metadata": {
    "ExecuteTime": {
     "end_time": "2025-09-16T00:27:51.905699Z",
     "start_time": "2025-09-16T00:27:51.903501Z"
    }
   },
   "cell_type": "code",
   "source": "All_measured_data.shape",
   "outputs": [
    {
     "data": {
      "text/plain": [
       "(45, 18, 14)"
      ]
     },
     "execution_count": 1162,
     "metadata": {},
     "output_type": "execute_result"
    }
   ],
   "execution_count": 1162
  },
  {
   "metadata": {
    "ExecuteTime": {
     "end_time": "2025-09-16T00:27:52.486103Z",
     "start_time": "2025-09-16T00:27:52.482528Z"
    }
   },
   "cell_type": "code",
   "source": "All_fine_meshes.shape",
   "outputs": [
    {
     "data": {
      "text/plain": [
       "(45, 7, 33, 33)"
      ]
     },
     "execution_count": 1163,
     "metadata": {},
     "output_type": "execute_result"
    }
   ],
   "execution_count": 1163
  },
  {
   "metadata": {
    "ExecuteTime": {
     "end_time": "2025-09-16T00:27:52.994576Z",
     "start_time": "2025-09-16T00:27:52.990223Z"
    }
   },
   "cell_type": "code",
   "source": "determine_background_optical_property(All_DATA_REF[0].astype(np.complex128), All_DATA_TAR[0].astype(np.complex128))",
   "outputs": [
    {
     "data": {
      "text/plain": [
       "[np.float64(0.025350460201727397),\n",
       " np.float64(3.641148157307347),\n",
       " np.float64(0.024890838493819623),\n",
       " np.float64(3.708383768322315)]"
      ]
     },
     "execution_count": 1164,
     "metadata": {},
     "output_type": "execute_result"
    }
   ],
   "execution_count": 1164
  },
  {
   "metadata": {
    "ExecuteTime": {
     "end_time": "2025-09-16T00:27:53.469169Z",
     "start_time": "2025-09-16T00:27:53.465833Z"
    }
   },
   "cell_type": "code",
   "source": "Target_depth_radius.shape",
   "outputs": [
    {
     "data": {
      "text/plain": [
       "(45, 2)"
      ]
     },
     "execution_count": 1165,
     "metadata": {},
     "output_type": "execute_result"
    }
   ],
   "execution_count": 1165
  },
  {
   "metadata": {
    "ExecuteTime": {
     "end_time": "2025-09-16T00:27:54.001357Z",
     "start_time": "2025-09-16T00:27:53.907178Z"
    }
   },
   "cell_type": "code",
   "source": "visualize_phase_source(All_DATA_REF[12].astype(np.complex128))",
   "outputs": [
    {
     "data": {
      "text/plain": [
       "<Figure size 640x480 with 1 Axes>"
      ],
      "image/png": "[encoded data removed]"
     },
     "metadata": {},
     "output_type": "display_data",
     "jetTransient": {
      "display_id": null
     }
    },
    {
     "data": {
      "text/plain": [
       "<Figure size 640x480 with 1 Axes>"
      ],
      "image/png": "[encoded data removed]"
     },
     "metadata": {},
     "output_type": "display_data",
     "jetTransient": {
      "display_id": null
     }
    }
   ],
   "execution_count": 1166
  },
  {
   "cell_type": "code",
   "metadata": {
    "ExecuteTime": {
     "end_time": "2025-09-16T00:27:54.248418Z",
     "start_time": "2025-09-16T00:27:54.246018Z"
    }
   },
   "source": [
    "np.argmin(All_background_optics[:, 0])"
   ],
   "outputs": [
    {
     "data": {
      "text/plain": [
       "np.int64(4)"
      ]
     },
     "execution_count": 1167,
     "metadata": {},
     "output_type": "execute_result"
    }
   ],
   "execution_count": 1167
  },
  {
   "cell_type": "code",
   "metadata": {
    "ExecuteTime": {
     "end_time": "2025-09-16T00:27:54.727335Z",
     "start_time": "2025-09-16T00:27:54.725256Z"
    }
   },
   "source": [
    "max_index = np.argmax(All_background_optics[:, 0])"
   ],
   "outputs": [],
   "execution_count": 1168
  },
  {
   "cell_type": "code",
   "metadata": {
    "ExecuteTime": {
     "end_time": "2025-09-16T00:27:58.693655Z",
     "start_time": "2025-09-16T00:27:58.691633Z"
    }
   },
   "source": [
    "max_index"
   ],
   "outputs": [
    {
     "data": {
      "text/plain": [
       "np.int64(8)"
      ]
     },
     "execution_count": 1169,
     "metadata": {},
     "output_type": "execute_result"
    }
   ],
   "execution_count": 1169
  },
  {
   "cell_type": "code",
   "metadata": {
    "ExecuteTime": {
     "end_time": "2025-09-16T00:27:59.300775Z",
     "start_time": "2025-09-16T00:27:59.292484Z"
    }
   },
   "source": [
    "\n",
    "# 1) make sure the folder exists\n",
    "out_dir.mkdir(parents=True, exist_ok=True)\n",
    "assert out_dir.exists(), f\"Could not create folder: {out_dir}\"\n",
    "\n",
    "# 2) build filenames\n",
    "tag = f\"lesion{lesion}\"\n",
    "files_to_save = [\n",
    "    (out_dir / f\"All_measured_data_phan_{tag}.npy\",     All_measured_data),\n",
    "    (out_dir / f\"All_ground_truth_phan_{tag}.npy\",      All_ground_truth),\n",
    "    (out_dir / f\"All_fine_meshes_phan_{tag}.npy\",       All_fine_meshes),\n",
    "    (out_dir / f\"All_background_optics_phan_{tag}.npy\", All_background_optics),\n",
    "    (out_dir / f\"Target_depth_radius_phan_{tag}.npy\",   Target_depth_radius),\n",
    "]\n",
    "\n",
    "# 3) save\n",
    "for path, arr in files_to_save:\n",
    "    np.save(path, arr)\n",
    "\n",
    "# 4) verify\n",
    "print(\"Saved to:\", out_dir)\n",
    "print(\"Contents:\", sorted(os.listdir(out_dir)))"
   ],
   "outputs": [
    {
     "name": "stdout",
     "output_type": "stream",
     "text": [
      "Saved to: /Users/luozisheng/Desktop/DOT/DOT-AE-GAN/SIMULATION_to_PERTURBATION/output/lesion_36\n",
      "Contents: ['All_background_optics_phan_lesion36.npy', 'All_fine_meshes_phan_lesion36.npy', 'All_ground_truth_phan_lesion36.npy', 'All_measured_data_phan_lesion36.npy', 'Target_depth_radius_phan_lesion36.npy']\n"
     ]
    }
   ],
   "execution_count": 1170
  },
  {
   "cell_type": "code",
   "metadata": {
    "ExecuteTime": {
     "end_time": "2025-09-16T00:27:59.963870Z",
     "start_time": "2025-09-16T00:27:59.958299Z"
    }
   },
   "source": "All_measured_data",
   "outputs": [
    {
     "data": {
      "text/plain": [
       "array([[[-0.08187734, -0.06205748, -0.03493339, ..., -0.08339313,\n",
       "         -0.09253453, -0.09104699],\n",
       "        [-0.08863817, -0.09017624, -0.07798927, ..., -0.08674258,\n",
       "         -0.07635369, -0.07340357],\n",
       "        [-0.03866754, -0.06042037, -0.08274573, ..., -0.03923029,\n",
       "         -0.0241469 , -0.01982742],\n",
       "        ...,\n",
       "        [-0.01367716, -0.01161329, -0.00819625, ..., -0.01533498,\n",
       "         -0.01491285, -0.01226171],\n",
       "        [-0.00725883, -0.01110489, -0.00895871, ..., -0.00937763,\n",
       "         -0.0063256 , -0.00328826],\n",
       "        [-0.00987495, -0.00594322, -0.00278154, ..., -0.01134983,\n",
       "         -0.0129166 , -0.01024133]],\n",
       "\n",
       "       [[-0.13842973, -0.10555429, -0.0599855 , ..., -0.14120253,\n",
       "         -0.15633581, -0.15353706],\n",
       "        [-0.15009194, -0.15301307, -0.13290783, ..., -0.14709686,\n",
       "         -0.12956143, -0.12442752],\n",
       "        [-0.06606845, -0.10274484, -0.14022968, ..., -0.06704302,\n",
       "         -0.04147357, -0.0341205 ],\n",
       "        ...,\n",
       "        [-0.02207609, -0.01791323, -0.01170011, ..., -0.02470191,\n",
       "         -0.02446476, -0.02027232],\n",
       "        [-0.01212208, -0.01812519, -0.01377374, ..., -0.01558546,\n",
       "         -0.0106194 , -0.00556393],\n",
       "        [-0.0157625 , -0.00850213, -0.00285656, ..., -0.01800984,\n",
       "         -0.02107408, -0.01690385]],\n",
       "\n",
       "       [[-0.19066915, -0.14625812, -0.0839041 , ..., -0.194767  ,\n",
       "         -0.21516262, -0.21093247],\n",
       "        [-0.20701634, -0.21148158, -0.18449476, ..., -0.20317636,\n",
       "         -0.17906846, -0.17180025],\n",
       "        [-0.09194017, -0.14230664, -0.19357024, ..., -0.09331513,\n",
       "         -0.05801207, -0.04781545],\n",
       "        ...,\n",
       "        [-0.02907921, -0.0225023 , -0.0134085 , ..., -0.03246924,\n",
       "         -0.03274851, -0.02734627],\n",
       "        [-0.01651452, -0.02414722, -0.01725667, ..., -0.02113336,\n",
       "         -0.01454164, -0.00767758],\n",
       "        [-0.02053256, -0.00977142, -0.00163129, ..., -0.02331584,\n",
       "         -0.02805992, -0.02276705]],\n",
       "\n",
       "       ...,\n",
       "\n",
       "       [[-0.05999836, -0.04015641, -0.01823883, ..., -0.05841286,\n",
       "         -0.06538774, -0.06699572],\n",
       "        [-0.05603263, -0.05851209, -0.04925382, ..., -0.05311397,\n",
       "         -0.04332691, -0.04132332],\n",
       "        [-0.01645016, -0.03160445, -0.05112344, ..., -0.01680483,\n",
       "         -0.00861653, -0.00646707],\n",
       "        ...,\n",
       "        [-0.00829152, -0.01013327, -0.00931811, ..., -0.0094243 ,\n",
       "         -0.00694296, -0.00485236],\n",
       "        [-0.00209384, -0.00573698, -0.00811166, ..., -0.0031569 ,\n",
       "         -0.00149261, -0.00052909],\n",
       "        [-0.00679064, -0.00699845, -0.00543451, ..., -0.00822832,\n",
       "         -0.00672548, -0.00427172]],\n",
       "\n",
       "       [[-0.14304193, -0.09692197, -0.04475288, ..., -0.13973091,\n",
       "         -0.15568061, -0.15880627],\n",
       "        [-0.13400937, -0.14056792, -0.11929434, ..., -0.12740937,\n",
       "         -0.10402831, -0.09899669],\n",
       "        [-0.03995056, -0.07613667, -0.1224396 , ..., -0.04083333,\n",
       "         -0.02111018, -0.01588885],\n",
       "        ...,\n",
       "        [-0.01882842, -0.02210139, -0.01924799, ..., -0.02134387,\n",
       "         -0.01605281, -0.01133074],\n",
       "        [-0.00495004, -0.01316536, -0.0176086 , ..., -0.00741676,\n",
       "         -0.00355858, -0.00127535],\n",
       "        [-0.01525435, -0.01461581, -0.01020105, ..., -0.0183876 ,\n",
       "         -0.01545155, -0.00995034]],\n",
       "\n",
       "       [[-0.21409841, -0.14677907, -0.06885095, ..., -0.20979977,\n",
       "         -0.2326993 , -0.23639815],\n",
       "        [-0.20114719, -0.21187982, -0.18122929, ..., -0.1917862 ,\n",
       "         -0.15674909, -0.14885907],\n",
       "        [-0.06085473, -0.11507902, -0.18402507, ..., -0.0622332 ,\n",
       "         -0.03242841, -0.02447111],\n",
       "        ...,\n",
       "        [-0.02698096, -0.03045513, -0.0250495 , ..., -0.03050457,\n",
       "         -0.02339684, -0.01667   ],\n",
       "        [-0.00736758, -0.01906092, -0.0241832 , ..., -0.01097514,\n",
       "         -0.00533876, -0.00193299],\n",
       "        [-0.02164175, -0.01926577, -0.01182026, ..., -0.02595243,\n",
       "         -0.02238838, -0.01460608]]])"
      ]
     },
     "execution_count": 1171,
     "metadata": {},
     "output_type": "execute_result"
    }
   ],
   "execution_count": 1171
  },
  {
   "cell_type": "code",
   "metadata": {
    "ExecuteTime": {
     "end_time": "2025-09-16T00:28:00.949292Z",
     "start_time": "2025-09-16T00:28:00.910611Z"
    }
   },
   "source": [
    " for i in range(0,len(All_background_optics), 300):\n",
    "    print(All_background_optics[i])\n",
    "    print(All_ground_truth[i].max())\n",
    "    # Create a figure and an axis\n",
    "    fig, ax = plt.subplots()\n",
    "\n",
    "    # Create and add the circle to the axis\n",
    "    circle = plt.Circle((0, 0), 1, edgecolor='b', facecolor='none')\n",
    "    ax.add_patch(circle)\n",
    "\n",
    "    # # Plot the scatter data\n",
    "    # for data in All_measured_data:\n",
    "    #     ax.scatter(data[0], data[1])\n",
    "\n",
    "    ax.scatter(All_measured_data[i][:9],All_measured_data[i][9:] )\n",
    "\n",
    "    # Set the aspect of the plot to be equal\n",
    "    ax.set_aspect('equal')\n",
    "\n",
    "    # Set limits to ensure the circle is centered and visible\n",
    "    ax.set_xlim(-1.5, 1.5)\n",
    "    ax.set_ylim(-1.5, 1.5)\n",
    "\n",
    "    # Add grid for better visualization\n",
    "    ax.grid(True)\n",
    "\n",
    "    # Display the plot\n",
    "    plt.show()"
   ],
   "outputs": [
    {
     "name": "stdout",
     "output_type": "stream",
     "text": [
      "[0.02535046 3.64114816 0.02489084 3.70838377]\n",
      "0.1\n"
     ]
    },
    {
     "data": {
      "text/plain": [
       "<Figure size 640x480 with 1 Axes>"
      ],
      "image/png": "[encoded data removed]"
     },
     "metadata": {},
     "output_type": "display_data",
     "jetTransient": {
      "display_id": null
     }
    }
   ],
   "execution_count": 1172
  }
 ],
 "metadata": {
  "kernelspec": {
   "display_name": "Python (DOT-AEGAN)",
   "language": "python",
   "name": "dot-aegan"
  },
  "language_info": {
   "codemirror_mode": {
    "name": "ipython",
    "version": 3
   },
   "file_extension": ".py",
   "mimetype": "text/x-python",
   "name": "python",
   "nbconvert_exporter": "python",
   "pygments_lexer": "ipython3",
   "version": "3.9.18"
  }
 },
 "nbformat": 4,
 "nbformat_minor": 2
}
