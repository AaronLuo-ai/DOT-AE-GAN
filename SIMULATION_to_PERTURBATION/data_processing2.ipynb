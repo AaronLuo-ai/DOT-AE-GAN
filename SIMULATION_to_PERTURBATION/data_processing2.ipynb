{
 "cells": [
  {
   "metadata": {
    "ExecuteTime": {
     "end_time": "2025-09-16T16:28:29.661974Z",
     "start_time": "2025-09-16T16:28:29.581979Z"
    }
   },
   "cell_type": "code",
   "source": [
    "import numpy as np\n",
    "import matplotlib.pyplot as plt\n",
    "import pandas as pd\n",
    "\n",
    "import scipy.io\n",
    "import os\n",
    "import matplotlib.pyplot as plt\n",
    "from scipy.ndimage import zoom\n",
    "import numpy as np\n",
    "import random\n",
    "from pathlib import Path"
   ],
   "outputs": [],
   "execution_count": 1173
  },
  {
   "metadata": {
    "ExecuteTime": {
     "end_time": "2025-09-16T16:28:30.023336Z",
     "start_time": "2025-09-16T16:28:29.749211Z"
    }
   },
   "cell_type": "code",
   "source": [
    "# ================================\n",
    "# 0) Set the correct patient\n",
    "# ================================\n",
    "lesion = 37  # <- change this to pick a different lesion\n",
    "\n",
    "\n",
    "BASE   = Path(\"/Users/luozisheng/Desktop/DOT/FEM_clinical/tar_ref\")\n",
    "GT_DIR = Path(\"/Users/luozisheng/Desktop/DOT/FEM_clinical/gt\")\n",
    "out_root = Path(\"/Users/luozisheng/Desktop/DOT/DOT-AE-GAN/SIMULATION_to_PERTURBATION/output\")\n",
    "out_dir  = out_root / f\"lesion_{lesion}\"\n",
    "out_dir.mkdir(parents=True, exist_ok=True)\n",
    "assert out_dir.exists(), f\"Could not create folder: {out_dir}\"\n",
    "\n",
    "\n",
    "df_ref = pd.read_csv(BASE   / f\"reference{lesion}.csv\", skiprows=4)\n",
    "df_tar = pd.read_csv(BASE   / f\"target{lesion}.csv\",    skiprows=4)\n",
    "df_gt  = pd.read_csv(GT_DIR / f\"gt{lesion}.csv\",        skiprows=9, header=None)# your file has 9 header lines (like MATLAB NumHeaderLines=9)"
   ],
   "outputs": [],
   "execution_count": 1174
  },
  {
   "metadata": {
    "ExecuteTime": {
     "end_time": "2025-09-16T16:28:30.088412Z",
     "start_time": "2025-09-16T16:28:30.056723Z"
    }
   },
   "cell_type": "code",
   "source": "df_ref.head()",
   "outputs": [
    {
     "data": {
      "text/plain": [
       "   % theta  z_chest  mua0  musp0  mua_chest  t_radius  depth  mua_tar  p  \\\n",
       "0        0        2  0.02      4        0.1         1      1      0.1  1   \n",
       "1        0        2  0.02      4        0.1         1      1      0.1  2   \n",
       "2        0        2  0.02      4        0.1         1      1      0.1  3   \n",
       "3        0        2  0.02      4        0.1         1      1      0.1  4   \n",
       "4        0        2  0.02      4        0.1         1      1      0.1  5   \n",
       "\n",
       "                             u/100 (1), Point: 4  ...  \\\n",
       "0  -1.9434992403700173E-5+3.3261249947378725E-5i  ...   \n",
       "1   -1.667654381453517E-5+1.0465671755898372E-4i  ...   \n",
       "2     3.815722788193924E-5+2.562465127609049E-4i  ...   \n",
       "3   1.7782223010525165E-4+4.6756364151910037E-4i  ...   \n",
       "4    2.5383007864363227E-4+5.598048669120033E-4i  ...   \n",
       "\n",
       "                           u/100 (1), Point: 20  \\\n",
       "0    -9.731462504962611E-6+1.35970379450927E-4i   \n",
       "1    7.710789231566899E-5+3.251502431818259E-4i   \n",
       "2    2.498595491256967E-4+5.583983774959001E-4i   \n",
       "3    3.136149850272709E-4+6.253130990615072E-4i   \n",
       "4  1.5130742930964214E-4+4.3473025001911374E-4i   \n",
       "\n",
       "                           u/100 (1), Point: 33  \\\n",
       "0  1.0307033998460544E-4+3.6751301528660475E-4i   \n",
       "1     5.99549592828674E-4+8.976565364130969E-4i   \n",
       "2    0.001385651819421854+0.001472391940827092i   \n",
       "3    0.001222537790700823+0.001359144468667321i   \n",
       "4   4.0785264554330083E-4+7.236970036936006E-4i   \n",
       "\n",
       "                           u/100 (1), Point: 37  \\\n",
       "0  -1.5616800215355443E-5+1.097192906169039E-4i   \n",
       "1   9.357254054571641E-6+1.9138366968163905E-4i   \n",
       "2   2.652883045451015E-5+2.3205074079729016E-4i   \n",
       "3    9.72770581370569E-6+1.9184285568792352E-4i   \n",
       "4  -1.5368022861466497E-5+1.102744117017873E-4i   \n",
       "\n",
       "                           u/100 (1), Point: 38  \\\n",
       "0  4.1063891310083035E-5+2.6197361293575655E-4i   \n",
       "1   2.0363695455531734E-4+5.016604442420879E-4i   \n",
       "2     3.188535230498334E-4+6.34343952606052E-4i   \n",
       "3    2.0494152338350482E-4+5.02611548682842E-4i   \n",
       "4   4.229995226194475E-5+2.6345532663242576E-4i   \n",
       "\n",
       "                           u/100 (1), Point: 45  \\\n",
       "0    4.023060005465245E-4+7.199770024723819E-4i   \n",
       "1  0.0012174497876315854+0.0013573184421604113i   \n",
       "2  0.0013899488274893687+0.0014743051347895196i   \n",
       "3    5.998733796935886E-4+8.978436003768201E-4i   \n",
       "4   1.0536718172996746E-4+3.697409808434977E-4i   \n",
       "\n",
       "                           u/100 (1), Point: 46  \\\n",
       "0  1.4988221421033222E-4+4.3324971021982324E-4i   \n",
       "1   3.1105313738504805E-4+6.238147090860841E-4i   \n",
       "2    2.514156764350583E-4+5.594857745283205E-4i   \n",
       "3   7.751245216528278E-5+3.2550348616076913E-4i   \n",
       "4   -9.198695661850556E-6+1.368573940865641E-4i   \n",
       "\n",
       "                          u/100 (1), Point: 48  \\\n",
       "0  9.644436357535534E-4+0.0011861429907389317i   \n",
       "1  0.001491021076749078+0.0015330788490731948i   \n",
       "2   8.179867022299205E-4+0.001076921922448687i   \n",
       "3  1.8921991581033774E-4+4.843084796833225E-4i   \n",
       "4  3.220564497427649E-7+1.6767556321202904E-4i   \n",
       "\n",
       "                            u/100 (1), Point: 49  \\\n",
       "0   5.2886106381383955E-5+2.8161880344121094E-4i   \n",
       "1     7.095441169054498E-5+3.140002153107175E-4i   \n",
       "2    2.667086156197393E-5+2.3202345079608507E-4i   \n",
       "3  -1.3211449579864127E-5+1.2075370082180681E-4i   \n",
       "4   -2.0929129454139735E-5+4.725555935702791E-5i   \n",
       "\n",
       "                           u/100 (1), Point: 51  \\\n",
       "0    0.0014471211829385606+0.00150862883518255i   \n",
       "1    0.00105623769824431+0.0012490695782305652i   \n",
       "2    3.060850765391239E-4+6.204290883370751E-4i   \n",
       "3  2.4924799258966486E-5+2.2835297639319486E-4i   \n",
       "4    -2.10994729839671E-5+6.893572164630977E-5i   \n",
       "\n",
       "                            u/100 (1), Point: 52  \n",
       "0     2.550936780875083E-4+5.602660911322974E-4i  \n",
       "1    1.7635283647363456E-4+4.667331798850842E-4i  \n",
       "2      3.887616466443818E-5+2.57097141182271E-4i  \n",
       "3  -1.6648724952530468E-5+1.0471310175989384E-4i  \n",
       "4  -1.9401616969534905E-5+3.3516930593142986E-5i  \n",
       "\n",
       "[5 rows x 23 columns]"
      ],
      "text/html": [
       "<div>\n",
       "<style scoped>\n",
       "    .dataframe tbody tr th:only-of-type {\n",
       "        vertical-align: middle;\n",
       "    }\n",
       "\n",
       "    .dataframe tbody tr th {\n",
       "        vertical-align: top;\n",
       "    }\n",
       "\n",
       "    .dataframe thead th {\n",
       "        text-align: right;\n",
       "    }\n",
       "</style>\n",
       "<table border=\"1\" class=\"dataframe\">\n",
       "  <thead>\n",
       "    <tr style=\"text-align: right;\">\n",
       "      <th></th>\n",
       "      <th>% theta</th>\n",
       "      <th>z_chest</th>\n",
       "      <th>mua0</th>\n",
       "      <th>musp0</th>\n",
       "      <th>mua_chest</th>\n",
       "      <th>t_radius</th>\n",
       "      <th>depth</th>\n",
       "      <th>mua_tar</th>\n",
       "      <th>p</th>\n",
       "      <th>u/100 (1), Point: 4</th>\n",
       "      <th>...</th>\n",
       "      <th>u/100 (1), Point: 20</th>\n",
       "      <th>u/100 (1), Point: 33</th>\n",
       "      <th>u/100 (1), Point: 37</th>\n",
       "      <th>u/100 (1), Point: 38</th>\n",
       "      <th>u/100 (1), Point: 45</th>\n",
       "      <th>u/100 (1), Point: 46</th>\n",
       "      <th>u/100 (1), Point: 48</th>\n",
       "      <th>u/100 (1), Point: 49</th>\n",
       "      <th>u/100 (1), Point: 51</th>\n",
       "      <th>u/100 (1), Point: 52</th>\n",
       "    </tr>\n",
       "  </thead>\n",
       "  <tbody>\n",
       "    <tr>\n",
       "      <th>0</th>\n",
       "      <td>0</td>\n",
       "      <td>2</td>\n",
       "      <td>0.02</td>\n",
       "      <td>4</td>\n",
       "      <td>0.1</td>\n",
       "      <td>1</td>\n",
       "      <td>1</td>\n",
       "      <td>0.1</td>\n",
       "      <td>1</td>\n",
       "      <td>-1.9434992403700173E-5+3.3261249947378725E-5i</td>\n",
       "      <td>...</td>\n",
       "      <td>-9.731462504962611E-6+1.35970379450927E-4i</td>\n",
       "      <td>1.0307033998460544E-4+3.6751301528660475E-4i</td>\n",
       "      <td>-1.5616800215355443E-5+1.097192906169039E-4i</td>\n",
       "      <td>4.1063891310083035E-5+2.6197361293575655E-4i</td>\n",
       "      <td>4.023060005465245E-4+7.199770024723819E-4i</td>\n",
       "      <td>1.4988221421033222E-4+4.3324971021982324E-4i</td>\n",
       "      <td>9.644436357535534E-4+0.0011861429907389317i</td>\n",
       "      <td>5.2886106381383955E-5+2.8161880344121094E-4i</td>\n",
       "      <td>0.0014471211829385606+0.00150862883518255i</td>\n",
       "      <td>2.550936780875083E-4+5.602660911322974E-4i</td>\n",
       "    </tr>\n",
       "    <tr>\n",
       "      <th>1</th>\n",
       "      <td>0</td>\n",
       "      <td>2</td>\n",
       "      <td>0.02</td>\n",
       "      <td>4</td>\n",
       "      <td>0.1</td>\n",
       "      <td>1</td>\n",
       "      <td>1</td>\n",
       "      <td>0.1</td>\n",
       "      <td>2</td>\n",
       "      <td>-1.667654381453517E-5+1.0465671755898372E-4i</td>\n",
       "      <td>...</td>\n",
       "      <td>7.710789231566899E-5+3.251502431818259E-4i</td>\n",
       "      <td>5.99549592828674E-4+8.976565364130969E-4i</td>\n",
       "      <td>9.357254054571641E-6+1.9138366968163905E-4i</td>\n",
       "      <td>2.0363695455531734E-4+5.016604442420879E-4i</td>\n",
       "      <td>0.0012174497876315854+0.0013573184421604113i</td>\n",
       "      <td>3.1105313738504805E-4+6.238147090860841E-4i</td>\n",
       "      <td>0.001491021076749078+0.0015330788490731948i</td>\n",
       "      <td>7.095441169054498E-5+3.140002153107175E-4i</td>\n",
       "      <td>0.00105623769824431+0.0012490695782305652i</td>\n",
       "      <td>1.7635283647363456E-4+4.667331798850842E-4i</td>\n",
       "    </tr>\n",
       "    <tr>\n",
       "      <th>2</th>\n",
       "      <td>0</td>\n",
       "      <td>2</td>\n",
       "      <td>0.02</td>\n",
       "      <td>4</td>\n",
       "      <td>0.1</td>\n",
       "      <td>1</td>\n",
       "      <td>1</td>\n",
       "      <td>0.1</td>\n",
       "      <td>3</td>\n",
       "      <td>3.815722788193924E-5+2.562465127609049E-4i</td>\n",
       "      <td>...</td>\n",
       "      <td>2.498595491256967E-4+5.583983774959001E-4i</td>\n",
       "      <td>0.001385651819421854+0.001472391940827092i</td>\n",
       "      <td>2.652883045451015E-5+2.3205074079729016E-4i</td>\n",
       "      <td>3.188535230498334E-4+6.34343952606052E-4i</td>\n",
       "      <td>0.0013899488274893687+0.0014743051347895196i</td>\n",
       "      <td>2.514156764350583E-4+5.594857745283205E-4i</td>\n",
       "      <td>8.179867022299205E-4+0.001076921922448687i</td>\n",
       "      <td>2.667086156197393E-5+2.3202345079608507E-4i</td>\n",
       "      <td>3.060850765391239E-4+6.204290883370751E-4i</td>\n",
       "      <td>3.887616466443818E-5+2.57097141182271E-4i</td>\n",
       "    </tr>\n",
       "    <tr>\n",
       "      <th>3</th>\n",
       "      <td>0</td>\n",
       "      <td>2</td>\n",
       "      <td>0.02</td>\n",
       "      <td>4</td>\n",
       "      <td>0.1</td>\n",
       "      <td>1</td>\n",
       "      <td>1</td>\n",
       "      <td>0.1</td>\n",
       "      <td>4</td>\n",
       "      <td>1.7782223010525165E-4+4.6756364151910037E-4i</td>\n",
       "      <td>...</td>\n",
       "      <td>3.136149850272709E-4+6.253130990615072E-4i</td>\n",
       "      <td>0.001222537790700823+0.001359144468667321i</td>\n",
       "      <td>9.72770581370569E-6+1.9184285568792352E-4i</td>\n",
       "      <td>2.0494152338350482E-4+5.02611548682842E-4i</td>\n",
       "      <td>5.998733796935886E-4+8.978436003768201E-4i</td>\n",
       "      <td>7.751245216528278E-5+3.2550348616076913E-4i</td>\n",
       "      <td>1.8921991581033774E-4+4.843084796833225E-4i</td>\n",
       "      <td>-1.3211449579864127E-5+1.2075370082180681E-4i</td>\n",
       "      <td>2.4924799258966486E-5+2.2835297639319486E-4i</td>\n",
       "      <td>-1.6648724952530468E-5+1.0471310175989384E-4i</td>\n",
       "    </tr>\n",
       "    <tr>\n",
       "      <th>4</th>\n",
       "      <td>0</td>\n",
       "      <td>2</td>\n",
       "      <td>0.02</td>\n",
       "      <td>4</td>\n",
       "      <td>0.1</td>\n",
       "      <td>1</td>\n",
       "      <td>1</td>\n",
       "      <td>0.1</td>\n",
       "      <td>5</td>\n",
       "      <td>2.5383007864363227E-4+5.598048669120033E-4i</td>\n",
       "      <td>...</td>\n",
       "      <td>1.5130742930964214E-4+4.3473025001911374E-4i</td>\n",
       "      <td>4.0785264554330083E-4+7.236970036936006E-4i</td>\n",
       "      <td>-1.5368022861466497E-5+1.102744117017873E-4i</td>\n",
       "      <td>4.229995226194475E-5+2.6345532663242576E-4i</td>\n",
       "      <td>1.0536718172996746E-4+3.697409808434977E-4i</td>\n",
       "      <td>-9.198695661850556E-6+1.368573940865641E-4i</td>\n",
       "      <td>3.220564497427649E-7+1.6767556321202904E-4i</td>\n",
       "      <td>-2.0929129454139735E-5+4.725555935702791E-5i</td>\n",
       "      <td>-2.10994729839671E-5+6.893572164630977E-5i</td>\n",
       "      <td>-1.9401616969534905E-5+3.3516930593142986E-5i</td>\n",
       "    </tr>\n",
       "  </tbody>\n",
       "</table>\n",
       "<p>5 rows × 23 columns</p>\n",
       "</div>"
      ]
     },
     "execution_count": 1175,
     "metadata": {},
     "output_type": "execute_result"
    }
   ],
   "execution_count": 1175
  },
  {
   "metadata": {
    "ExecuteTime": {
     "end_time": "2025-09-16T16:28:30.257324Z",
     "start_time": "2025-09-16T16:28:30.251330Z"
    }
   },
   "cell_type": "code",
   "source": "df_tar.head()",
   "outputs": [
    {
     "data": {
      "text/plain": [
       "   % theta  z_chest  mua0  musp0  mua_chest  t_radius  depth  mua_tar  p  \\\n",
       "0        0        2  0.02      4        0.1         1      1      0.1  1   \n",
       "1        0        2  0.02      4        0.1         1      1      0.1  2   \n",
       "2        0        2  0.02      4        0.1         1      1      0.1  3   \n",
       "3        0        2  0.02      4        0.1         1      1      0.1  4   \n",
       "4        0        2  0.02      4        0.1         1      1      0.1  5   \n",
       "\n",
       "                            u/100 (1), Point: 4  ...  \\\n",
       "0  -1.8061468061574927E-5+3.202991718036841E-5i  ...   \n",
       "1   -1.387283412832726E-5+9.913507108513693E-5i  ...   \n",
       "2  4.1680371996103755E-5+2.4108609086719943E-4i  ...   \n",
       "3   1.8155389186238398E-4+4.510293356327808E-4i  ...   \n",
       "4    2.571317837344908E-4+5.525799961281109E-4i  ...   \n",
       "\n",
       "                          u/100 (1), Point: 20  \\\n",
       "0  -7.70601410044786E-6+1.3304221191242377E-4i   \n",
       "1  7.991252579756947E-5+3.1338165817922553E-4i   \n",
       "2  2.4988738537809084E-4+5.281465831893299E-4i   \n",
       "3  3.1422729902066195E-4+5.939708112823984E-4i   \n",
       "4  1.5478600128922582E-4+4.212104523355436E-4i   \n",
       "\n",
       "                           u/100 (1), Point: 33  \\\n",
       "0  1.0590762395011491E-4+3.5969775237509514E-4i   \n",
       "1    5.988281069333005E-4+8.689761907969714E-4i   \n",
       "2   0.0013673967035505968+0.001402606189942144i   \n",
       "3  0.0012064156789601212+0.0012886921683296702i   \n",
       "4    4.085647844058616E-4+6.928965273236673E-4i   \n",
       "\n",
       "                            u/100 (1), Point: 37  \\\n",
       "0  -1.4596084232257868E-5+1.0891539627826259E-4i   \n",
       "1   1.1594266744197913E-5+1.8761141396560197E-4i   \n",
       "2    2.9815853057954755E-5+2.217291974687774E-4i   \n",
       "3    1.3381364824674434E-5+1.813507575945248E-4i   \n",
       "4  -1.2689813950994268E-5+1.0610144757017567E-4i   \n",
       "\n",
       "                          u/100 (1), Point: 38  \\\n",
       "0   4.295698895606855E-5+2.592122782707932E-4i   \n",
       "1   2.062440243992894E-4+4.905486369370378E-4i   \n",
       "2   3.189555663167435E-4+6.060157436072958E-4i   \n",
       "3  2.0598203207877945E-4+4.740881390440419E-4i   \n",
       "4   4.574729781341431E-5+2.515232995888011E-4i   \n",
       "\n",
       "                           u/100 (1), Point: 45  \\\n",
       "0     4.047416246523503E-4+7.14345937853023E-4i   \n",
       "1  0.0012182192407224357+0.0013361716037036098i   \n",
       "2  0.0013801532489399946+0.0014226337652350808i   \n",
       "3     5.925887177710759E-4+8.47045497102225E-4i   \n",
       "4    1.0786176524756118E-4+3.48354200049083E-4i   \n",
       "\n",
       "                          u/100 (1), Point: 46  \\\n",
       "0  1.5135506209119307E-4+4.315102344796343E-4i   \n",
       "1   3.135912488626149E-4+6.164767947026017E-4i   \n",
       "2   2.535296440514461E-4+5.404674178866179E-4i   \n",
       "3   8.040716297388789E-5+3.067372012664563E-4i   \n",
       "4  -5.973022736485627E-6+1.293291753370412E-4i   \n",
       "\n",
       "                           u/100 (1), Point: 48  \\\n",
       "0   9.662133333964311E-4+0.0011834831916570805i   \n",
       "1  0.0014933753192966249+0.0015223786890940084i   \n",
       "2   8.178918035392586E-4+0.0010499259137427765i   \n",
       "3  1.9047047337203228E-4+4.5810405542521686E-4i   \n",
       "4    3.6869434894233317E-6+1.57131700048158E-4i   \n",
       "\n",
       "                           u/100 (1), Point: 49  \\\n",
       "0   5.3638324330947485E-5+2.811422654845327E-4i   \n",
       "1   7.274903408284773E-5+3.1158105716230544E-4i   \n",
       "2   2.966454636643666E-5+2.2527099369725013E-4i   \n",
       "3  -9.938789463461338E-6+1.1412608099029377E-4i   \n",
       "4  -1.882859062268355E-5+4.4793981606322446E-5i   \n",
       "\n",
       "                           u/100 (1), Point: 51  \\\n",
       "0   0.001448177760197433+0.0015076783682718593i   \n",
       "1  0.0010584260633896198+0.0012447495280674356i   \n",
       "2   3.0902545448413895E-4+6.089262631016218E-4i   \n",
       "3   2.8384835788946903E-5+2.172719884605411E-4i   \n",
       "4   -1.845585391029837E-5+6.474036940148533E-5i   \n",
       "\n",
       "                           u/100 (1), Point: 52  \n",
       "0   2.5574046761569363E-4+5.599030961406165E-4i  \n",
       "1   1.779546429148765E-4+4.6479831603470686E-4i  \n",
       "2   4.167372097651675E-5+2.5162499518610685E-4i  \n",
       "3  -1.3622643765840885E-5+9.942639955463042E-5i  \n",
       "4  -1.7554510749242983E-5+3.162245632755731E-5i  \n",
       "\n",
       "[5 rows x 23 columns]"
      ],
      "text/html": [
       "<div>\n",
       "<style scoped>\n",
       "    .dataframe tbody tr th:only-of-type {\n",
       "        vertical-align: middle;\n",
       "    }\n",
       "\n",
       "    .dataframe tbody tr th {\n",
       "        vertical-align: top;\n",
       "    }\n",
       "\n",
       "    .dataframe thead th {\n",
       "        text-align: right;\n",
       "    }\n",
       "</style>\n",
       "<table border=\"1\" class=\"dataframe\">\n",
       "  <thead>\n",
       "    <tr style=\"text-align: right;\">\n",
       "      <th></th>\n",
       "      <th>% theta</th>\n",
       "      <th>z_chest</th>\n",
       "      <th>mua0</th>\n",
       "      <th>musp0</th>\n",
       "      <th>mua_chest</th>\n",
       "      <th>t_radius</th>\n",
       "      <th>depth</th>\n",
       "      <th>mua_tar</th>\n",
       "      <th>p</th>\n",
       "      <th>u/100 (1), Point: 4</th>\n",
       "      <th>...</th>\n",
       "      <th>u/100 (1), Point: 20</th>\n",
       "      <th>u/100 (1), Point: 33</th>\n",
       "      <th>u/100 (1), Point: 37</th>\n",
       "      <th>u/100 (1), Point: 38</th>\n",
       "      <th>u/100 (1), Point: 45</th>\n",
       "      <th>u/100 (1), Point: 46</th>\n",
       "      <th>u/100 (1), Point: 48</th>\n",
       "      <th>u/100 (1), Point: 49</th>\n",
       "      <th>u/100 (1), Point: 51</th>\n",
       "      <th>u/100 (1), Point: 52</th>\n",
       "    </tr>\n",
       "  </thead>\n",
       "  <tbody>\n",
       "    <tr>\n",
       "      <th>0</th>\n",
       "      <td>0</td>\n",
       "      <td>2</td>\n",
       "      <td>0.02</td>\n",
       "      <td>4</td>\n",
       "      <td>0.1</td>\n",
       "      <td>1</td>\n",
       "      <td>1</td>\n",
       "      <td>0.1</td>\n",
       "      <td>1</td>\n",
       "      <td>-1.8061468061574927E-5+3.202991718036841E-5i</td>\n",
       "      <td>...</td>\n",
       "      <td>-7.70601410044786E-6+1.3304221191242377E-4i</td>\n",
       "      <td>1.0590762395011491E-4+3.5969775237509514E-4i</td>\n",
       "      <td>-1.4596084232257868E-5+1.0891539627826259E-4i</td>\n",
       "      <td>4.295698895606855E-5+2.592122782707932E-4i</td>\n",
       "      <td>4.047416246523503E-4+7.14345937853023E-4i</td>\n",
       "      <td>1.5135506209119307E-4+4.315102344796343E-4i</td>\n",
       "      <td>9.662133333964311E-4+0.0011834831916570805i</td>\n",
       "      <td>5.3638324330947485E-5+2.811422654845327E-4i</td>\n",
       "      <td>0.001448177760197433+0.0015076783682718593i</td>\n",
       "      <td>2.5574046761569363E-4+5.599030961406165E-4i</td>\n",
       "    </tr>\n",
       "    <tr>\n",
       "      <th>1</th>\n",
       "      <td>0</td>\n",
       "      <td>2</td>\n",
       "      <td>0.02</td>\n",
       "      <td>4</td>\n",
       "      <td>0.1</td>\n",
       "      <td>1</td>\n",
       "      <td>1</td>\n",
       "      <td>0.1</td>\n",
       "      <td>2</td>\n",
       "      <td>-1.387283412832726E-5+9.913507108513693E-5i</td>\n",
       "      <td>...</td>\n",
       "      <td>7.991252579756947E-5+3.1338165817922553E-4i</td>\n",
       "      <td>5.988281069333005E-4+8.689761907969714E-4i</td>\n",
       "      <td>1.1594266744197913E-5+1.8761141396560197E-4i</td>\n",
       "      <td>2.062440243992894E-4+4.905486369370378E-4i</td>\n",
       "      <td>0.0012182192407224357+0.0013361716037036098i</td>\n",
       "      <td>3.135912488626149E-4+6.164767947026017E-4i</td>\n",
       "      <td>0.0014933753192966249+0.0015223786890940084i</td>\n",
       "      <td>7.274903408284773E-5+3.1158105716230544E-4i</td>\n",
       "      <td>0.0010584260633896198+0.0012447495280674356i</td>\n",
       "      <td>1.779546429148765E-4+4.6479831603470686E-4i</td>\n",
       "    </tr>\n",
       "    <tr>\n",
       "      <th>2</th>\n",
       "      <td>0</td>\n",
       "      <td>2</td>\n",
       "      <td>0.02</td>\n",
       "      <td>4</td>\n",
       "      <td>0.1</td>\n",
       "      <td>1</td>\n",
       "      <td>1</td>\n",
       "      <td>0.1</td>\n",
       "      <td>3</td>\n",
       "      <td>4.1680371996103755E-5+2.4108609086719943E-4i</td>\n",
       "      <td>...</td>\n",
       "      <td>2.4988738537809084E-4+5.281465831893299E-4i</td>\n",
       "      <td>0.0013673967035505968+0.001402606189942144i</td>\n",
       "      <td>2.9815853057954755E-5+2.217291974687774E-4i</td>\n",
       "      <td>3.189555663167435E-4+6.060157436072958E-4i</td>\n",
       "      <td>0.0013801532489399946+0.0014226337652350808i</td>\n",
       "      <td>2.535296440514461E-4+5.404674178866179E-4i</td>\n",
       "      <td>8.178918035392586E-4+0.0010499259137427765i</td>\n",
       "      <td>2.966454636643666E-5+2.2527099369725013E-4i</td>\n",
       "      <td>3.0902545448413895E-4+6.089262631016218E-4i</td>\n",
       "      <td>4.167372097651675E-5+2.5162499518610685E-4i</td>\n",
       "    </tr>\n",
       "    <tr>\n",
       "      <th>3</th>\n",
       "      <td>0</td>\n",
       "      <td>2</td>\n",
       "      <td>0.02</td>\n",
       "      <td>4</td>\n",
       "      <td>0.1</td>\n",
       "      <td>1</td>\n",
       "      <td>1</td>\n",
       "      <td>0.1</td>\n",
       "      <td>4</td>\n",
       "      <td>1.8155389186238398E-4+4.510293356327808E-4i</td>\n",
       "      <td>...</td>\n",
       "      <td>3.1422729902066195E-4+5.939708112823984E-4i</td>\n",
       "      <td>0.0012064156789601212+0.0012886921683296702i</td>\n",
       "      <td>1.3381364824674434E-5+1.813507575945248E-4i</td>\n",
       "      <td>2.0598203207877945E-4+4.740881390440419E-4i</td>\n",
       "      <td>5.925887177710759E-4+8.47045497102225E-4i</td>\n",
       "      <td>8.040716297388789E-5+3.067372012664563E-4i</td>\n",
       "      <td>1.9047047337203228E-4+4.5810405542521686E-4i</td>\n",
       "      <td>-9.938789463461338E-6+1.1412608099029377E-4i</td>\n",
       "      <td>2.8384835788946903E-5+2.172719884605411E-4i</td>\n",
       "      <td>-1.3622643765840885E-5+9.942639955463042E-5i</td>\n",
       "    </tr>\n",
       "    <tr>\n",
       "      <th>4</th>\n",
       "      <td>0</td>\n",
       "      <td>2</td>\n",
       "      <td>0.02</td>\n",
       "      <td>4</td>\n",
       "      <td>0.1</td>\n",
       "      <td>1</td>\n",
       "      <td>1</td>\n",
       "      <td>0.1</td>\n",
       "      <td>5</td>\n",
       "      <td>2.571317837344908E-4+5.525799961281109E-4i</td>\n",
       "      <td>...</td>\n",
       "      <td>1.5478600128922582E-4+4.212104523355436E-4i</td>\n",
       "      <td>4.085647844058616E-4+6.928965273236673E-4i</td>\n",
       "      <td>-1.2689813950994268E-5+1.0610144757017567E-4i</td>\n",
       "      <td>4.574729781341431E-5+2.515232995888011E-4i</td>\n",
       "      <td>1.0786176524756118E-4+3.48354200049083E-4i</td>\n",
       "      <td>-5.973022736485627E-6+1.293291753370412E-4i</td>\n",
       "      <td>3.6869434894233317E-6+1.57131700048158E-4i</td>\n",
       "      <td>-1.882859062268355E-5+4.4793981606322446E-5i</td>\n",
       "      <td>-1.845585391029837E-5+6.474036940148533E-5i</td>\n",
       "      <td>-1.7554510749242983E-5+3.162245632755731E-5i</td>\n",
       "    </tr>\n",
       "  </tbody>\n",
       "</table>\n",
       "<p>5 rows × 23 columns</p>\n",
       "</div>"
      ]
     },
     "execution_count": 1176,
     "metadata": {},
     "output_type": "execute_result"
    }
   ],
   "execution_count": 1176
  },
  {
   "metadata": {
    "ExecuteTime": {
     "end_time": "2025-09-16T16:28:30.620712Z",
     "start_time": "2025-09-16T16:28:30.617959Z"
    }
   },
   "cell_type": "code",
   "source": "df_ref.size",
   "outputs": [
    {
     "data": {
      "text/plain": [
       "9315"
      ]
     },
     "execution_count": 1177,
     "metadata": {},
     "output_type": "execute_result"
    }
   ],
   "execution_count": 1177
  },
  {
   "metadata": {
    "ExecuteTime": {
     "end_time": "2025-09-16T16:28:30.926106Z",
     "start_time": "2025-09-16T16:28:30.849989Z"
    }
   },
   "cell_type": "code",
   "source": [
    "all_data_tar = []\n",
    "all_data_ref = []\n",
    "target_radiuses = []\n",
    "target_depths = []\n",
    "mua_tars = []\n",
    "\n",
    "\n",
    "for i in range(len(df_tar)//9):\n",
    "    data9_ref = []\n",
    "    data9_tar = []\n",
    "    target_radius = df_tar['t_radius'].iloc[i*9]\n",
    "    target_depth = df_tar['depth'].iloc[i*9]\n",
    "    mua_tar = df_tar['mua_tar'].iloc[i*9]\n",
    "\n",
    "    mua0 = df_tar['mua0'].iloc[i*9]\n",
    "\n",
    "    for j in range(9):\n",
    "        indx = i*9 + j\n",
    "        #print(indx)\n",
    "        data14_tar = df_tar.iloc[indx,-14: ]\n",
    "        data9_tar.append(data14_tar)\n",
    "\n",
    "        data14_ref = df_ref.iloc[indx,-14: ]\n",
    "        data9_ref.append(data14_ref)\n",
    "\n",
    "    if mua0 != 0.8:\n",
    "        target_radiuses.append(target_radius)\n",
    "        target_depths.append(target_depth) #\n",
    "        mua_tars.append(mua_tar)\n",
    "\n",
    "        all_data_ref.append(data9_ref)\n",
    "        all_data_tar.append(data9_tar)\n",
    "\n",
    "All_DATA_TAR = np.array(all_data_tar)\n",
    "All_DATA_REF = np.array(all_data_ref)\n",
    "\n",
    "def convert_to_complex(s):\n",
    "    # Replace 'i' with 'j'\n",
    "    s = s.replace('i', 'j')\n",
    "    try:\n",
    "        return complex(s)\n",
    "    except ValueError:\n",
    "        return None  # or handle the error as needed\n",
    "vectorized_conversion = np.vectorize(convert_to_complex)\n",
    "\n",
    "All_DATA_TAR = vectorized_conversion(All_DATA_TAR)\n",
    "All_DATA_REF = vectorized_conversion(All_DATA_REF)\n",
    "\n",
    "All_DATA_TAR = All_DATA_TAR[:,:, [2,6,11,13,9,7,5,0,8,10,12,4,3,1]]\n",
    "All_DATA_REF = All_DATA_REF[:,:, [2,6,11,13,9,7,5,0,8,10,12,4,3,1]]"
   ],
   "outputs": [],
   "execution_count": 1178
  },
  {
   "metadata": {
    "ExecuteTime": {
     "end_time": "2025-09-16T16:28:31.073535Z",
     "start_time": "2025-09-16T16:28:31.066581Z"
    }
   },
   "cell_type": "code",
   "source": [
    "\n",
    "# Define s_geom and d_geom arrays\n",
    "s_geom = np.array([\n",
    "    [2.794, 1.408, 0.000],\n",
    "    [1.397, 1.408, 0.000],\n",
    "    [0.000, 1.408, 0.000],\n",
    "    [-1.397, 1.408, 0.000],\n",
    "    [-2.794, 1.408, 0.000],\n",
    "    [2.096, 2.678, 0.000],\n",
    "    [0.000, 2.678, 0.000],\n",
    "    [-2.096, 2.678, 0.000],\n",
    "    [0.000, 4.012, 0.000]\n",
    "])\n",
    "\n",
    "d_geom = np.array([\n",
    "    [-1.746, -3.267, 0.000],\n",
    "    [0.000, -3.581, 0.000],\n",
    "    [1.746, -3.627, 0.000],\n",
    "    [2.667, -2.688, 0.000],\n",
    "    [1.016, -2.569, 0.000],\n",
    "    [0.000, -2.569, 0.000],\n",
    "    [-0.508, -1.68, 0.000],\n",
    "    [-2.667, -2.688, 0.000],\n",
    "    [0.508, -1.68, 0.000],\n",
    "    [1.524, -1.68, 0.000],\n",
    "    [2.54, -1.68, 0.000],\n",
    "    [-1.016, -2.569, 0.000],\n",
    "    [-1.524, -1.68, 0.000],\n",
    "    [-2.54, -1.68, 0.000],\n",
    "])\n",
    "\n",
    "# Compute sddist variable\n",
    "Ns = len(s_geom)\n",
    "Nd = len(d_geom)\n",
    "\n",
    "#print(Ns, Nd)\n",
    "sddist = np.zeros((Ns, Nd))\n",
    "\n",
    "for ss in range(Ns):\n",
    "    for dd in range(Nd):\n",
    "        sddist[ss, dd] = np.linalg.norm(s_geom[ss] - d_geom[dd])"
   ],
   "outputs": [],
   "execution_count": 1179
  },
  {
   "metadata": {
    "ExecuteTime": {
     "end_time": "2025-09-16T16:28:31.282425Z",
     "start_time": "2025-09-16T16:28:31.277980Z"
    }
   },
   "cell_type": "code",
   "source": [
    "\n",
    "def determine_background_optical_property(Mea_ref, Mea_tar):\n",
    "    caliamp_ref = np.log(sddist**2 * np.abs(Mea_ref))\n",
    "    pha_ref = np.angle(Mea_ref)\n",
    "    caliamp_tar = np.log(sddist**2 * np.abs(Mea_tar))\n",
    "    pha_tar = np.angle(Mea_tar)\n",
    "\n",
    "    # Compute statistics fitting for reference measurement\n",
    "    ki_ref = np.polyfit(sddist.reshape(-1), caliamp_ref.reshape(-1), 1)[0]\n",
    "    kr_ref = np.abs( np.polyfit(sddist.reshape(-1), pha_ref.reshape(-1), 1)[0])\n",
    "\n",
    "    # compute statistics fitting for target measurement\n",
    "    ki_tar = np.polyfit(sddist.reshape(-1), caliamp_tar.reshape(-1), 1)[0]\n",
    "    kr_tar = np.abs( np.polyfit(sddist.reshape(-1), pha_tar.reshape(-1), 1)[0])\n",
    "\n",
    "    # Uncomment to compute additional variables\n",
    "    w = 2 * np.pi * 140e6\n",
    "    vel = 3e10 / 1.33\n",
    "    D = w / 2 / ki_ref / kr_ref / vel\n",
    "    ref_ua0 = (-ki_ref ** 2 + kr_ref ** 2) * D\n",
    "    ref_us0 = -1 / 3 / D\n",
    "\n",
    "    D_tar = w / 2 / ki_tar / kr_tar / vel\n",
    "    tar_ua0 = (-ki_ref ** 2 + kr_ref ** 2) * D_tar\n",
    "    tar_us0 = -1 / 3 / D_tar\n",
    "\n",
    "    return [np.abs(ref_ua0), np.abs(ref_us0), np.abs(tar_ua0), np.abs(tar_us0)]"
   ],
   "outputs": [],
   "execution_count": 1180
  },
  {
   "metadata": {
    "ExecuteTime": {
     "end_time": "2025-09-16T16:28:31.742934Z",
     "start_time": "2025-09-16T16:28:31.738598Z"
    }
   },
   "cell_type": "code",
   "source": [
    "def insert_sphere(array, depth, radius, mua = 1):\n",
    "    z_range = np.linspace(0.5, 3.5, array.shape[0])\n",
    "    x_range = np.linspace(-4, 4, array.shape[1])\n",
    "    y_range = np.linspace(-4, 4, array.shape[2])\n",
    "\n",
    "    # Get the index of the depth in the z-axis\n",
    "    z_index = np.abs(z_range - depth).argmin()\n",
    "\n",
    "    # Get the center index of the array\n",
    "    center_x = array.shape[1] // 2\n",
    "    center_y = array.shape[2] // 2\n",
    "    center_z = z_index\n",
    "\n",
    "    for i in range(array.shape[1]):\n",
    "        for j in range(array.shape[2]):\n",
    "            for k in range(array.shape[0]):\n",
    "                # Calculate distance from the center\n",
    "                distance = np.sqrt((x_range[i] - 0) ** 2 + (y_range[j] - 0) ** 2 + (z_range[k] - depth) ** 2)\n",
    "                distance_test = (z_range[k] - depth) ** 2\n",
    "                if distance <= radius and distance_test < 0.75*radius**2:\n",
    "                    array[k, i, j] = mua  # or any other value you choose for the sphere\n",
    "\n",
    "    return array"
   ],
   "outputs": [],
   "execution_count": 1181
  },
  {
   "metadata": {
    "ExecuteTime": {
     "end_time": "2025-09-16T16:28:32.214122Z",
     "start_time": "2025-09-16T16:28:32.210467Z"
    }
   },
   "cell_type": "code",
   "source": [
    "\n",
    "def insert_elliptical_sphere(array, depth, a_radius, b_radius, c_radius, mua=1):\n",
    "    z_range = np.linspace(0.5, 3.5, array.shape[0])\n",
    "    x_range = np.linspace(-4, 4, array.shape[1])\n",
    "    y_range = np.linspace(-4, 4, array.shape[2])\n",
    "\n",
    "    # Get the index of the depth in the z-axis\n",
    "    z_index = np.abs(z_range - depth).argmin()\n",
    "\n",
    "    # Get the center index of the array\n",
    "    center_x = array.shape[1] // 2\n",
    "    center_y = array.shape[2] // 2\n",
    "    center_z = z_index\n",
    "\n",
    "    for i in range(array.shape[1]):\n",
    "        for j in range(array.shape[2]):\n",
    "            for k in range(array.shape[0]):\n",
    "                # Calculate distance from the center, considering the ellipsoid\n",
    "                #distance_test = ((x_range[i] - 0) ** 2 / (a_radius ** 2)) + ((y_range[j] - 0) ** 2 / (b_radius ** 2))\n",
    "                distance_test = (z_range[k] - depth) ** 2 / (c_radius ** 2)\n",
    "\n",
    "                distance = ((x_range[i] - 0) ** 2 / (a_radius ** 2)) + ((y_range[j] - 0) ** 2 / (b_radius ** 2)) + ((z_range[k] - depth) ** 2 / (c_radius ** 2))\n",
    "                if distance <= 1 and distance_test<0.75:\n",
    "                    array[k, i, j] = mua  # or any other value you choose for the ellipsoid\n",
    "\n",
    "    return array\n"
   ],
   "outputs": [],
   "execution_count": 1182
  },
  {
   "metadata": {
    "ExecuteTime": {
     "end_time": "2025-09-16T16:28:32.752829Z",
     "start_time": "2025-09-16T16:28:32.745968Z"
    }
   },
   "cell_type": "code",
   "source": [
    "def estimate_depth_radius(vol_zxy, ux, uy, uz):\n",
    "    \"\"\"\n",
    "    vol_zxy: (nz, 33, 33) absorption volume for one sample.\n",
    "    Returns (depth_cm, radius_cm) using a simple two-level threshold.\n",
    "    \"\"\"\n",
    "    # Get background & lesion levels robustly\n",
    "    vals = vol_zxy[np.isfinite(vol_zxy)].ravel()\n",
    "    if vals.size == 0:\n",
    "        return np.nan, np.nan\n",
    "    # Collapse near-identical values, then pick min and max\n",
    "    uniq = np.unique(np.round(vals, 4))\n",
    "    bg = float(uniq.min())\n",
    "    tar = float(uniq.max())\n",
    "    thr = 0.5 * (bg + tar)\n",
    "\n",
    "    # Area per slice (number of pixels above threshold)\n",
    "    nz = vol_zxy.shape[0]\n",
    "    areas_pix = np.array([(vol_zxy[k] > thr).sum() for k in range(nz)], dtype=float)\n",
    "\n",
    "    if areas_pix.max() == 0:\n",
    "        return np.nan, np.nan  # nothing detected\n",
    "\n",
    "    # Depth (area-weighted average of slice depths)\n",
    "    depth_cm = float((areas_pix * uz).sum() / areas_pix.sum())\n",
    "\n",
    "    # Radius from the largest cross-section (equivalent-circle radius)\n",
    "    kmax = int(areas_pix.argmax())\n",
    "    dx = float(ux[1] - ux[0])\n",
    "    dy = float(uy[1] - uy[0])\n",
    "    area_cm2 = areas_pix[kmax] * dx * dy\n",
    "    radius_cm = float(np.sqrt(area_cm2 / np.pi))\n",
    "\n",
    "    return depth_cm, radius_cm"
   ],
   "outputs": [],
   "execution_count": 1183
  },
  {
   "metadata": {
    "ExecuteTime": {
     "end_time": "2025-09-16T16:28:33.179505Z",
     "start_time": "2025-09-16T16:28:33.163379Z"
    }
   },
   "cell_type": "code",
   "source": [
    "# ================================\n",
    "# 1) Preparing All_ground_truth\n",
    "# ================================\n",
    "\n",
    "# columns: x, y, z, val_1, val_2, ...\n",
    "x = df_gt.iloc[:, 0].to_numpy()\n",
    "y = df_gt.iloc[:, 1].to_numpy()\n",
    "z = df_gt.iloc[:, 2].to_numpy()\n",
    "values = df_gt.iloc[:, 3:].to_numpy()  # shape: (num_points, num_columns)\n",
    "\n",
    "# robust unique axes (rounding avoids tiny FP jitter)\n",
    "def uniq_robust(a, decimals=6):\n",
    "    return np.unique(np.round(a, decimals=decimals))\n",
    "\n",
    "ux = uniq_robust(x)\n",
    "uy = uniq_robust(y)\n",
    "uz = uniq_robust(z)\n",
    "\n",
    "# enforce 33x33 in x,y (COMSOL config)\n",
    "if len(ux) != 33 or len(uy) != 33:\n",
    "    # try a couple of different roundings before falling back\n",
    "    for dec in (7, 5, 8, 4):\n",
    "        ux2 = uniq_robust(x, dec)\n",
    "        uy2 = uniq_robust(y, dec)\n",
    "        if len(ux2) == 33 and len(uy2) == 33:\n",
    "            ux, uy = ux2, uy2\n",
    "            break\n",
    "\n",
    "# map each row to integer indices on the 33x33x(7) grid\n",
    "# (round the coordinates the same way we built ux/uy to keep alignment)\n",
    "rnd = 6\n",
    "xi = np.searchsorted(ux, np.round(x, rnd))\n",
    "yi = np.searchsorted(uy, np.round(y, rnd))\n",
    "zi = np.searchsorted(uz, np.round(z, rnd))\n",
    "\n",
    "# ---- Step 2: build All_ground_truth = (N, 7, 33, 33) ----\n",
    "def column_to_volume(col_1d: np.ndarray) -> np.ndarray:\n",
    "    \"\"\"Scatter flat column onto a (nz, 33, 33) array using (zi, xi, yi).\"\"\"\n",
    "    nz = len(uz)\n",
    "    vol = np.zeros((nz, 33, 33), dtype=np.float32)\n",
    "    vol[zi, xi, yi] = col_1d.astype(np.float32)\n",
    "    return vol\n",
    "\n",
    "# how many samples to build (target 15)\n",
    "N = len(df_tar)//9\n",
    "\n",
    "All_ground_truth = np.stack(\n",
    "    [column_to_volume(values[:, j]) for j in range(N)],\n",
    "    axis=0\n",
    ")  # shape: (N, 7, 33, 33)\n",
    "\n",
    "print(\"All_ground_truth.shape =\", All_ground_truth.shape)"
   ],
   "outputs": [
    {
     "name": "stdout",
     "output_type": "stream",
     "text": [
      "All_ground_truth.shape = (45, 7, 33, 33)\n"
     ]
    }
   ],
   "execution_count": 1184
  },
  {
   "metadata": {
    "ExecuteTime": {
     "end_time": "2025-09-16T16:28:33.806823Z",
     "start_time": "2025-09-16T16:28:33.802973Z"
    }
   },
   "cell_type": "code",
   "source": "values.shape",
   "outputs": [
    {
     "data": {
      "text/plain": [
       "(7623, 405)"
      ]
     },
     "execution_count": 1185,
     "metadata": {},
     "output_type": "execute_result"
    }
   ],
   "execution_count": 1185
  },
  {
   "metadata": {
    "ExecuteTime": {
     "end_time": "2025-09-16T16:28:35.385872Z",
     "start_time": "2025-09-16T16:28:34.370879Z"
    }
   },
   "cell_type": "code",
   "source": [
    "# ======================================\n",
    "# 2) Visualization of All_ground_truth\n",
    "# ======================================\n",
    "def guess_bg_tar(vol):\n",
    "    \"\"\"Heuristic: take nonzero values, choose min as bg and max as tar.\"\"\"\n",
    "    vals = vol[np.isfinite(vol)]\n",
    "    vals = vals[vals > 0] if (vals > 0).any() else vals\n",
    "    if vals.size == 0:\n",
    "        return 0.0, 0.0\n",
    "    return float(vals.min()), float(vals.max())\n",
    "\n",
    "def plot_volume_slices(vol, sample_idx=0, vmin=0.0, vmax=0.2, show=True):\n",
    "    \"\"\"vol: (nz, 33, 33)\"\"\"\n",
    "    bg, tar = guess_bg_tar(vol)\n",
    "    for k in range(vol.shape[0]):\n",
    "        img = vol[k, :, :]  # (x,y) plane at z = uz[k]\n",
    "\n",
    "        fig = plt.figure(figsize=(10, 6), facecolor='k')\n",
    "        ax = plt.gca()\n",
    "        ax.set_facecolor('k')\n",
    "\n",
    "        im = plt.imshow(\n",
    "            img.T,                      # transpose to match MATLAB imagesc(..., slice')\n",
    "            origin=\"lower\",             # y increases upward\n",
    "            extent=[ux.min(), ux.max(), uy.min(), uy.max()],\n",
    "            vmin=vmin, vmax=vmax,\n",
    "            cmap='jet'\n",
    "        )\n",
    "        plt.colorbar(im)\n",
    "        plt.title(f\"GT | bg={bg:.3f} | tar={tar:.3f} | z={uz[k]:.2f} cm\", color='w')\n",
    "        plt.xlabel(\"x (cm)\", color='w'); plt.ylabel(\"y (cm)\", color='w')\n",
    "        ax.tick_params(colors='w')\n",
    "        ax.set_aspect('equal')\n",
    "        plt.tight_layout()\n",
    "\n",
    "        if show:\n",
    "            plt.show()\n",
    "        else:\n",
    "            plt.close(fig)\n",
    "\n",
    "# Example: visualize sample 0 (all 7 z-slices) and save PNGs\n",
    "plot_volume_slices(All_ground_truth[0], sample_idx=0, vmin=0.0, vmax=0.2, show=True)\n"
   ],
   "outputs": [
    {
     "data": {
      "text/plain": [
       "<Figure size 1000x600 with 2 Axes>"
      ],
      "image/png": "[encoded data removed]"
     },
     "metadata": {},
     "output_type": "display_data",
     "jetTransient": {
      "display_id": null
     }
    },
    {
     "data": {
      "text/plain": [
       "<Figure size 1000x600 with 2 Axes>"
      ],
      "image/png": "[encoded data removed]"
     },
     "metadata": {},
     "output_type": "display_data",
     "jetTransient": {
      "display_id": null
     }
    },
    {
     "data": {
      "text/plain": [
       "<Figure size 1000x600 with 2 Axes>"
      ],
      "image/png": "[encoded data removed]"
     },
     "metadata": {},
     "output_type": "display_data",
     "jetTransient": {
      "display_id": null
     }
    },
    {
     "data": {
      "text/plain": [
       "<Figure size 1000x600 with 2 Axes>"
      ],
      "image/png": "[encoded data removed]"
     },
     "metadata": {},
     "output_type": "display_data",
     "jetTransient": {
      "display_id": null
     }
    },
    {
     "data": {
      "text/plain": [
       "<Figure size 1000x600 with 2 Axes>"
      ],
      "image/png": "[encoded data removed]"
     },
     "metadata": {},
     "output_type": "display_data",
     "jetTransient": {
      "display_id": null
     }
    },
    {
     "data": {
      "text/plain": [
       "<Figure size 1000x600 with 2 Axes>"
      ],
      "image/png": "[encoded data removed]"
     },
     "metadata": {},
     "output_type": "display_data",
     "jetTransient": {
      "display_id": null
     }
    },
    {
     "data": {
      "text/plain": [
       "<Figure size 1000x600 with 2 Axes>"
      ],
      "image/png": "[encoded data removed]"
     },
     "metadata": {},
     "output_type": "display_data",
     "jetTransient": {
      "display_id": null
     }
    }
   ],
   "execution_count": 1186
  },
  {
   "metadata": {
    "ExecuteTime": {
     "end_time": "2025-09-16T16:28:35.447148Z",
     "start_time": "2025-09-16T16:28:35.441636Z"
    }
   },
   "cell_type": "code",
   "source": [
    "# ======================================\n",
    "# 3) Preparing Target_depth_radius\n",
    "# ======================================\n",
    "Target_depth_radius = []\n",
    "for n in range(All_ground_truth.shape[0]):\n",
    "    d, r = estimate_depth_radius(All_ground_truth[n], ux, uy, uz)\n",
    "    Target_depth_radius.append([d, 2 * r])\n",
    "\n",
    "# ======================================\n",
    "# 4) Visualize Target_depth_radius\n",
    "# ======================================\n",
    "Target_depth_radius = np.array(Target_depth_radius, dtype=float)\n",
    "print(\"Target_depth_radius shape:\", Target_depth_radius.shape)\n",
    "print(Target_depth_radius[:5])"
   ],
   "outputs": [
    {
     "name": "stdout",
     "output_type": "stream",
     "text": [
      "Target_depth_radius shape: (45, 2)\n",
      "[[2.34821429 1.26156626]\n",
      " [2.34821429 1.26156626]\n",
      " [2.34821429 1.26156626]\n",
      " [2.34821429 1.26156626]\n",
      " [2.34821429 1.26156626]]\n"
     ]
    }
   ],
   "execution_count": 1187
  },
  {
   "metadata": {
    "ExecuteTime": {
     "end_time": "2025-09-16T16:28:39.665944Z",
     "start_time": "2025-09-16T16:28:38.937189Z"
    }
   },
   "cell_type": "code",
   "source": [
    "All_measured_data = []\n",
    "All_fine_meshes = []\n",
    "All_background_optics = []\n",
    "for i in range(len(target_depths)):\n",
    "    measured_data = All_DATA_TAR[i].astype(np.complex128)\n",
    "    ref_measured = All_DATA_REF[i].astype(np.complex128)\n",
    "\n",
    "    depth = target_depths[i]\n",
    "    radius = target_radiuses[i]\n",
    "    ua = mua_tars[i]\n",
    "\n",
    "    perturbation = (measured_data - ref_measured)/(ref_measured)\n",
    "    #print(perturbation.shape)\n",
    "    pert_real = np.real(perturbation)\n",
    "    pert_imag = np.imag(perturbation)\n",
    "\n",
    "    #print(pert_imag.shape)\n",
    "    pert = np.concatenate([pert_real, pert_imag], axis = 0)\n",
    "    #pert = pert.reshape(-1, 14)\n",
    "    #pert = np.clip(pert, -2, 2)\n",
    "    #print(pert.shape)\n",
    "    #break\n",
    "\n",
    "    array = np.zeros((7, 33,33))\n",
    "    ground_truth = insert_sphere(array, depth, radius, ua)\n",
    "\n",
    "    array = np.zeros((7, 33,33))\n",
    "    #fine_mesh = insert_elliptical_sphere(array, depth = depth, a_radius = radius*random.uniform(1.5, 2.5), b_radius= radius*random.uniform(1.5, 2.5), c_radius = radius, mua=1)\n",
    "    fine_mesh = insert_elliptical_sphere(array, depth = depth, a_radius = radius*2, b_radius= radius*2, c_radius = radius, mua=1)\n",
    "    #insert_sphere(array, depth, radius*random.uniform(1.5, 2.5))\n",
    "    background_optics = determine_background_optical_property(ref_measured, measured_data)\n",
    "\n",
    "    if background_optics[0]> 0.015 and background_optics[0] < .095:\n",
    "        All_measured_data.append(pert)\n",
    "        All_fine_meshes.append(fine_mesh) # Spherical Mask\n",
    "        All_background_optics.append(background_optics)"
   ],
   "outputs": [],
   "execution_count": 1188
  },
  {
   "metadata": {
    "ExecuteTime": {
     "end_time": "2025-09-16T16:28:39.862030Z",
     "start_time": "2025-09-16T16:28:39.859101Z"
    }
   },
   "cell_type": "code",
   "source": "len(target_depths)",
   "outputs": [
    {
     "data": {
      "text/plain": [
       "45"
      ]
     },
     "execution_count": 1189,
     "metadata": {},
     "output_type": "execute_result"
    }
   ],
   "execution_count": 1189
  },
  {
   "metadata": {
    "ExecuteTime": {
     "end_time": "2025-09-16T16:28:40.577341Z",
     "start_time": "2025-09-16T16:28:40.574238Z"
    }
   },
   "cell_type": "code",
   "source": [
    "All_DATA_TAR.shape\n",
    "All_DATA_REF.shape"
   ],
   "outputs": [
    {
     "data": {
      "text/plain": [
       "(45, 9, 14)"
      ]
     },
     "execution_count": 1190,
     "metadata": {},
     "output_type": "execute_result"
    }
   ],
   "execution_count": 1190
  },
  {
   "metadata": {
    "ExecuteTime": {
     "end_time": "2025-09-16T16:28:41.192592Z",
     "start_time": "2025-09-16T16:28:41.188878Z"
    }
   },
   "cell_type": "code",
   "source": [
    "#[3 7 12 14 10 8 6 1 9 11 13 5 4 2]\n",
    "[2,6,11,13,9,7,5,0,8,10,12,4,3,1]"
   ],
   "outputs": [
    {
     "data": {
      "text/plain": [
       "[2, 6, 11, 13, 9, 7, 5, 0, 8, 10, 12, 4, 3, 1]"
      ]
     },
     "execution_count": 1191,
     "metadata": {},
     "output_type": "execute_result"
    }
   ],
   "execution_count": 1191
  },
  {
   "metadata": {
    "ExecuteTime": {
     "end_time": "2025-09-16T16:28:41.805590Z",
     "start_time": "2025-09-16T16:28:41.801081Z"
    }
   },
   "cell_type": "code",
   "source": "len(target_radiuses)",
   "outputs": [
    {
     "data": {
      "text/plain": [
       "45"
      ]
     },
     "execution_count": 1192,
     "metadata": {},
     "output_type": "execute_result"
    }
   ],
   "execution_count": 1192
  },
  {
   "metadata": {
    "ExecuteTime": {
     "end_time": "2025-09-16T16:28:42.475246Z",
     "start_time": "2025-09-16T16:28:42.471903Z"
    }
   },
   "cell_type": "code",
   "source": "sddist.shape",
   "outputs": [
    {
     "data": {
      "text/plain": [
       "(9, 14)"
      ]
     },
     "execution_count": 1193,
     "metadata": {},
     "output_type": "execute_result"
    }
   ],
   "execution_count": 1193
  },
  {
   "metadata": {
    "ExecuteTime": {
     "end_time": "2025-09-16T16:28:43.216986Z",
     "start_time": "2025-09-16T16:28:43.210772Z"
    }
   },
   "cell_type": "code",
   "source": [
    "# visualize the source reference\n",
    "def visualize_phase_source(Mea_ref):\n",
    "    caliamp_ref = np.log(sddist**2 * np.abs(Mea_ref))\n",
    "    pha_ref = np.angle(Mea_ref)\n",
    "    #caliamp_tar = np.log(sddist**2 * np.abs(Mea_tar))\n",
    "    #pha_tar = np.angle(Mea_tar)\n",
    "\n",
    "    plt.scatter(sddist.reshape(-1), caliamp_ref.reshape(-1))\n",
    "    plt.title('Amplitude Vs Source Distance')\n",
    "    plt.show()\n",
    "\n",
    "    plt.scatter(sddist.reshape(-1), pha_ref.reshape(-1))\n",
    "    plt.title('Phase Vs Source Distance')\n",
    "    plt.show()\n",
    "\n"
   ],
   "outputs": [],
   "execution_count": 1194
  },
  {
   "metadata": {
    "ExecuteTime": {
     "end_time": "2025-09-16T16:28:44.238140Z",
     "start_time": "2025-09-16T16:28:44.234757Z"
    }
   },
   "cell_type": "code",
   "source": [
    "All_ground_truth = np.array(All_ground_truth)\n",
    "All_measured_data = np.array(All_measured_data)\n",
    "All_fine_meshes = np.array(All_fine_meshes)\n",
    "All_background_optics = np.array(All_background_optics)\n",
    "Target_depth_radius = np.array(Target_depth_radius)"
   ],
   "outputs": [],
   "execution_count": 1195
  },
  {
   "metadata": {
    "ExecuteTime": {
     "end_time": "2025-09-16T16:28:45.104510Z",
     "start_time": "2025-09-16T16:28:45.102270Z"
    }
   },
   "cell_type": "code",
   "source": "Target_depth_radius.shape",
   "outputs": [
    {
     "data": {
      "text/plain": [
       "(45, 2)"
      ]
     },
     "execution_count": 1196,
     "metadata": {},
     "output_type": "execute_result"
    }
   ],
   "execution_count": 1196
  },
  {
   "metadata": {
    "ExecuteTime": {
     "end_time": "2025-09-16T16:28:45.753974Z",
     "start_time": "2025-09-16T16:28:45.750302Z"
    }
   },
   "cell_type": "code",
   "source": "All_ground_truth.shape",
   "outputs": [
    {
     "data": {
      "text/plain": [
       "(45, 7, 33, 33)"
      ]
     },
     "execution_count": 1197,
     "metadata": {},
     "output_type": "execute_result"
    }
   ],
   "execution_count": 1197
  },
  {
   "metadata": {
    "ExecuteTime": {
     "end_time": "2025-09-16T16:28:46.415854Z",
     "start_time": "2025-09-16T16:28:46.412198Z"
    }
   },
   "cell_type": "code",
   "source": "All_background_optics.shape",
   "outputs": [
    {
     "data": {
      "text/plain": [
       "(45, 4)"
      ]
     },
     "execution_count": 1198,
     "metadata": {},
     "output_type": "execute_result"
    }
   ],
   "execution_count": 1198
  },
  {
   "metadata": {
    "ExecuteTime": {
     "end_time": "2025-09-16T16:28:47.337049Z",
     "start_time": "2025-09-16T16:28:47.334831Z"
    }
   },
   "cell_type": "code",
   "source": "All_measured_data.shape",
   "outputs": [
    {
     "data": {
      "text/plain": [
       "(45, 18, 14)"
      ]
     },
     "execution_count": 1199,
     "metadata": {},
     "output_type": "execute_result"
    }
   ],
   "execution_count": 1199
  },
  {
   "metadata": {
    "ExecuteTime": {
     "end_time": "2025-09-16T16:28:47.926108Z",
     "start_time": "2025-09-16T16:28:47.923038Z"
    }
   },
   "cell_type": "code",
   "source": "All_fine_meshes.shape",
   "outputs": [
    {
     "data": {
      "text/plain": [
       "(45, 7, 33, 33)"
      ]
     },
     "execution_count": 1200,
     "metadata": {},
     "output_type": "execute_result"
    }
   ],
   "execution_count": 1200
  },
  {
   "metadata": {
    "ExecuteTime": {
     "end_time": "2025-09-16T16:28:50.266937Z",
     "start_time": "2025-09-16T16:28:50.264319Z"
    }
   },
   "cell_type": "code",
   "source": "determine_background_optical_property(All_DATA_REF[0].astype(np.complex128), All_DATA_TAR[0].astype(np.complex128))",
   "outputs": [
    {
     "data": {
      "text/plain": [
       "[np.float64(0.025346637612609628),\n",
       " np.float64(3.6555852729300042),\n",
       " np.float64(0.02502661184883789),\n",
       " np.float64(3.702330772323541)]"
      ]
     },
     "execution_count": 1201,
     "metadata": {},
     "output_type": "execute_result"
    }
   ],
   "execution_count": 1201
  },
  {
   "metadata": {
    "ExecuteTime": {
     "end_time": "2025-09-16T16:28:50.763708Z",
     "start_time": "2025-09-16T16:28:50.761212Z"
    }
   },
   "cell_type": "code",
   "source": "Target_depth_radius.shape",
   "outputs": [
    {
     "data": {
      "text/plain": [
       "(45, 2)"
      ]
     },
     "execution_count": 1202,
     "metadata": {},
     "output_type": "execute_result"
    }
   ],
   "execution_count": 1202
  },
  {
   "metadata": {
    "ExecuteTime": {
     "end_time": "2025-09-16T16:28:51.393212Z",
     "start_time": "2025-09-16T16:28:51.297851Z"
    }
   },
   "cell_type": "code",
   "source": "visualize_phase_source(All_DATA_REF[12].astype(np.complex128))",
   "outputs": [
    {
     "data": {
      "text/plain": [
       "<Figure size 640x480 with 1 Axes>"
      ],
      "image/png": "[encoded data removed]"
     },
     "metadata": {},
     "output_type": "display_data",
     "jetTransient": {
      "display_id": null
     }
    },
    {
     "data": {
      "text/plain": [
       "<Figure size 640x480 with 1 Axes>"
      ],
      "image/png": "[encoded data removed]"
     },
     "metadata": {},
     "output_type": "display_data",
     "jetTransient": {
      "display_id": null
     }
    }
   ],
   "execution_count": 1203
  },
  {
   "cell_type": "code",
   "metadata": {
    "ExecuteTime": {
     "end_time": "2025-09-16T16:28:52.396550Z",
     "start_time": "2025-09-16T16:28:52.394205Z"
    }
   },
   "source": [
    "np.argmin(All_background_optics[:, 0])"
   ],
   "outputs": [
    {
     "data": {
      "text/plain": [
       "np.int64(3)"
      ]
     },
     "execution_count": 1204,
     "metadata": {},
     "output_type": "execute_result"
    }
   ],
   "execution_count": 1204
  },
  {
   "cell_type": "code",
   "metadata": {
    "ExecuteTime": {
     "end_time": "2025-09-16T16:28:53.354595Z",
     "start_time": "2025-09-16T16:28:53.352715Z"
    }
   },
   "source": [
    "max_index = np.argmax(All_background_optics[:, 0])"
   ],
   "outputs": [],
   "execution_count": 1205
  },
  {
   "cell_type": "code",
   "metadata": {
    "ExecuteTime": {
     "end_time": "2025-09-16T16:28:54.139848Z",
     "start_time": "2025-09-16T16:28:54.136528Z"
    }
   },
   "source": [
    "max_index"
   ],
   "outputs": [
    {
     "data": {
      "text/plain": [
       "np.int64(7)"
      ]
     },
     "execution_count": 1206,
     "metadata": {},
     "output_type": "execute_result"
    }
   ],
   "execution_count": 1206
  },
  {
   "cell_type": "code",
   "metadata": {
    "ExecuteTime": {
     "end_time": "2025-09-16T16:28:55.850664Z",
     "start_time": "2025-09-16T16:28:55.835822Z"
    }
   },
   "source": [
    "\n",
    "# 1) make sure the folder exists\n",
    "out_dir.mkdir(parents=True, exist_ok=True)\n",
    "assert out_dir.exists(), f\"Could not create folder: {out_dir}\"\n",
    "\n",
    "# 2) build filenames\n",
    "tag = f\"lesion{lesion}\"\n",
    "files_to_save = [\n",
    "    (out_dir / f\"All_measured_data_phan_{tag}.npy\",     All_measured_data),\n",
    "    (out_dir / f\"All_ground_truth_phan_{tag}.npy\",      All_ground_truth),\n",
    "    (out_dir / f\"All_fine_meshes_phan_{tag}.npy\",       All_fine_meshes),\n",
    "    (out_dir / f\"All_background_optics_phan_{tag}.npy\", All_background_optics),\n",
    "    (out_dir / f\"Target_depth_radius_phan_{tag}.npy\",   Target_depth_radius),\n",
    "]\n",
    "\n",
    "# 3) save\n",
    "for path, arr in files_to_save:\n",
    "    np.save(path, arr)\n",
    "\n",
    "# 4) verify\n",
    "print(\"Saved to:\", out_dir)\n",
    "print(\"Contents:\", sorted(os.listdir(out_dir)))"
   ],
   "outputs": [
    {
     "name": "stdout",
     "output_type": "stream",
     "text": [
      "Saved to: /Users/luozisheng/Desktop/DOT/DOT-AE-GAN/SIMULATION_to_PERTURBATION/output/lesion_37\n",
      "Contents: ['All_background_optics_phan_lesion37.npy', 'All_fine_meshes_phan_lesion37.npy', 'All_ground_truth_phan_lesion37.npy', 'All_measured_data_phan_lesion37.npy', 'Target_depth_radius_phan_lesion37.npy']\n"
     ]
    }
   ],
   "execution_count": 1207
  },
  {
   "cell_type": "code",
   "metadata": {
    "ExecuteTime": {
     "end_time": "2025-09-16T16:28:56.870779Z",
     "start_time": "2025-09-16T16:28:56.867063Z"
    }
   },
   "source": "All_measured_data",
   "outputs": [
    {
     "data": {
      "text/plain": [
       "array([[[-0.02847278, -0.00847918, -0.00114998, ..., -0.02248628,\n",
       "         -0.03857546, -0.05528307],\n",
       "        [-0.04162531, -0.01909331, -0.00610128, ..., -0.03233056,\n",
       "         -0.04228791, -0.05767   ],\n",
       "        [-0.05439192, -0.04230733, -0.02725916, ..., -0.04511988,\n",
       "         -0.04071225, -0.04685208],\n",
       "        ...,\n",
       "        [-0.01758155, -0.01665209, -0.01518709, ..., -0.01945971,\n",
       "         -0.02183069, -0.02122656],\n",
       "        [-0.0186946 , -0.01702257, -0.01496588, ..., -0.02035173,\n",
       "         -0.01990378, -0.01532189],\n",
       "        [-0.0132787 , -0.01292049, -0.01314612, ..., -0.01605663,\n",
       "         -0.02023662, -0.01904867]],\n",
       "\n",
       "       [[-0.048813  , -0.01473412, -0.00206828, ..., -0.0387616 ,\n",
       "         -0.06627019, -0.09430588],\n",
       "        [-0.0713193 , -0.03300973, -0.01068872, ..., -0.05569993,\n",
       "         -0.07277131, -0.0985799 ],\n",
       "        [-0.09318075, -0.07277037, -0.04712068, ..., -0.07765498,\n",
       "         -0.07020218, -0.08040525],\n",
       "        ...,\n",
       "        [-0.02781296, -0.02658093, -0.02476646, ..., -0.0311287 ,\n",
       "         -0.03531364, -0.03436214],\n",
       "        [-0.03038712, -0.02696201, -0.02341164, ..., -0.03294263,\n",
       "         -0.03267925, -0.0253931 ],\n",
       "        [-0.02057043, -0.02023386, -0.02129921, ..., -0.0252357 ,\n",
       "         -0.03240056, -0.03068784]],\n",
       "\n",
       "       [[-0.06815028, -0.02083752, -0.00301725, ..., -0.05440798,\n",
       "         -0.09271915, -0.1310308 ],\n",
       "        [-0.09952208, -0.04646755, -0.01523521, ..., -0.07814944,\n",
       "         -0.10199033, -0.13724706],\n",
       "        [-0.13001246, -0.10194009, -0.06632917, ..., -0.10885007,\n",
       "         -0.09858886, -0.11237819],\n",
       "        ...,\n",
       "        [-0.03585789, -0.03458761, -0.03294207, ..., -0.04059215,\n",
       "         -0.04658249, -0.04537304],\n",
       "        [-0.04030084, -0.03481984, -0.02983613, ..., -0.04350047,\n",
       "         -0.04377085, -0.0343303 ],\n",
       "        [-0.02594354, -0.02581418, -0.02815287, ..., -0.03231608,\n",
       "         -0.04230426, -0.04033361]],\n",
       "\n",
       "       ...,\n",
       "\n",
       "       [[-0.01278838, -0.00237909, -0.00018236, ..., -0.00893737,\n",
       "         -0.01837325, -0.03106523],\n",
       "        [-0.02071702, -0.00709852, -0.00152618, ..., -0.01451412,\n",
       "         -0.02056877, -0.03117235],\n",
       "        [-0.02770417, -0.02017093, -0.01104434, ..., -0.02174113,\n",
       "         -0.01866241, -0.0215919 ],\n",
       "        ...,\n",
       "        [-0.01139141, -0.00972077, -0.00693099, ..., -0.01124459,\n",
       "         -0.01138617, -0.01115434],\n",
       "        [-0.00944003, -0.01119326, -0.01050073, ..., -0.01070531,\n",
       "         -0.00827753, -0.00505544],\n",
       "        [-0.0101895 , -0.00892736, -0.00666315, ..., -0.01098435,\n",
       "         -0.01198967, -0.01089426]],\n",
       "\n",
       "       [[-0.03129049, -0.00593129, -0.00047108, ..., -0.02205868,\n",
       "         -0.04513212, -0.07541369],\n",
       "        [-0.05066993, -0.0175939 , -0.00384412, ..., -0.03580262,\n",
       "         -0.05064781, -0.07593395],\n",
       "        [-0.06774671, -0.04964668, -0.02737964, ..., -0.05354854,\n",
       "         -0.04608593, -0.05292049],\n",
       "        ...,\n",
       "        [-0.02535692, -0.02183296, -0.01596937, ..., -0.02532862,\n",
       "         -0.02598743, -0.02545846],\n",
       "        [-0.02161933, -0.02492593, -0.02307286, ..., -0.0244029 ,\n",
       "         -0.01920133, -0.01186039],\n",
       "        [-0.02224826, -0.0196334 , -0.01519386, ..., -0.02428587,\n",
       "         -0.02702834, -0.02472296]],\n",
       "\n",
       "       [[-0.04799787, -0.00925716, -0.00075823, ..., -0.03411674,\n",
       "         -0.06949481, -0.11482275],\n",
       "        [-0.07770275, -0.02731991, -0.0060576 , ..., -0.05535137,\n",
       "         -0.07817314, -0.11599751],\n",
       "        [-0.10387352, -0.07659463, -0.04252922, ..., -0.08267207,\n",
       "         -0.07133121, -0.08131933],\n",
       "        ...,\n",
       "        [-0.03559633, -0.03091377, -0.0231834 , ..., -0.03596373,\n",
       "         -0.03738015, -0.0366315 ],\n",
       "        [-0.03122091, -0.0350269 , -0.03198673, ..., -0.03507861,\n",
       "         -0.0280668 , -0.01752349],\n",
       "        [-0.03065527, -0.02723884, -0.02184669, ..., -0.03387063,\n",
       "         -0.03842682, -0.03538932]]])"
      ]
     },
     "execution_count": 1208,
     "metadata": {},
     "output_type": "execute_result"
    }
   ],
   "execution_count": 1208
  },
  {
   "cell_type": "code",
   "metadata": {
    "ExecuteTime": {
     "end_time": "2025-09-16T16:28:57.702876Z",
     "start_time": "2025-09-16T16:28:57.657037Z"
    }
   },
   "source": [
    " for i in range(0,len(All_background_optics), 300):\n",
    "    print(All_background_optics[i])\n",
    "    print(All_ground_truth[i].max())\n",
    "    # Create a figure and an axis\n",
    "    fig, ax = plt.subplots()\n",
    "\n",
    "    # Create and add the circle to the axis\n",
    "    circle = plt.Circle((0, 0), 1, edgecolor='b', facecolor='none')\n",
    "    ax.add_patch(circle)\n",
    "\n",
    "    # # Plot the scatter data\n",
    "    # for data in All_measured_data:\n",
    "    #     ax.scatter(data[0], data[1])\n",
    "\n",
    "    ax.scatter(All_measured_data[i][:9],All_measured_data[i][9:] )\n",
    "\n",
    "    # Set the aspect of the plot to be equal\n",
    "    ax.set_aspect('equal')\n",
    "\n",
    "    # Set limits to ensure the circle is centered and visible\n",
    "    ax.set_xlim(-1.5, 1.5)\n",
    "    ax.set_ylim(-1.5, 1.5)\n",
    "\n",
    "    # Add grid for better visualization\n",
    "    ax.grid(True)\n",
    "\n",
    "    # Display the plot\n",
    "    plt.show()"
   ],
   "outputs": [
    {
     "name": "stdout",
     "output_type": "stream",
     "text": [
      "[0.02534664 3.65558527 0.02502661 3.70233077]\n",
      "0.1\n"
     ]
    },
    {
     "data": {
      "text/plain": [
       "<Figure size 640x480 with 1 Axes>"
      ],
      "image/png": "[encoded data removed]"
     },
     "metadata": {},
     "output_type": "display_data",
     "jetTransient": {
      "display_id": null
     }
    }
   ],
   "execution_count": 1209
  }
 ],
 "metadata": {
  "kernelspec": {
   "display_name": "Python (DOT-AEGAN)",
   "language": "python",
   "name": "dot-aegan"
  },
  "language_info": {
   "codemirror_mode": {
    "name": "ipython",
    "version": 3
   },
   "file_extension": ".py",
   "mimetype": "text/x-python",
   "name": "python",
   "nbconvert_exporter": "python",
   "pygments_lexer": "ipython3",
   "version": "3.9.18"
  }
 },
 "nbformat": 4,
 "nbformat_minor": 2
}
